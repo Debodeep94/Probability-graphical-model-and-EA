{
  "nbformat": 4,
  "nbformat_minor": 0,
  "metadata": {
    "colab": {
      "name": "QME_Project_Group_F.ipynb",
      "provenance": [],
      "collapsed_sections": [],
      "toc_visible": true
    },
    "kernelspec": {
      "display_name": "Python 3",
      "language": "python",
      "name": "python3"
    },
    "language_info": {
      "codemirror_mode": {
        "name": "ipython",
        "version": 3
      },
      "file_extension": ".py",
      "mimetype": "text/x-python",
      "name": "python",
      "nbconvert_exporter": "python",
      "pygments_lexer": "ipython3",
      "version": "3.8.5"
    }
  },
  "cells": [
    {
      "cell_type": "markdown",
      "metadata": {
        "id": "0gjKxFUv_7Uz"
      },
      "source": [
        "# Human Capital: IBM HR Analytics Employee Attrition & Performance\n",
        "This dataset is related to Human Capital field. Given some information of the employee, We would like to analyse the employees' attrition in the organization.\n",
        "\n",
        "source of dataset can be seen  [here](https://www.kaggle.com/pavansubhasht/ibm-hr-analytics-attrition-dataset)"
      ]
    },
    {
      "cell_type": "code",
      "metadata": {
        "colab": {
          "base_uri": "https://localhost:8080/"
        },
        "id": "7OLz5v0j5nWp",
        "outputId": "2f2a5919-10b6-4019-b786-4fba8652bc24"
      },
      "source": [
        "from google.colab import drive\n",
        "drive.mount('/content/drive')"
      ],
      "execution_count": 23,
      "outputs": [
        {
          "output_type": "stream",
          "text": [
            "Mounted at /content/drive\n"
          ],
          "name": "stdout"
        }
      ]
    },
    {
      "cell_type": "markdown",
      "metadata": {
        "id": "xs-RVMO5AgXX"
      },
      "source": [
        "## Setup"
      ]
    },
    {
      "cell_type": "code",
      "metadata": {
        "colab": {
          "base_uri": "https://localhost:8080/"
        },
        "id": "KaqkrdkJbyzS",
        "outputId": "731d6cdc-ffba-4365-f397-5101d2881fda"
      },
      "source": [
        "!pip install pgmpy\n",
        "!pip install plotly"
      ],
      "execution_count": 2,
      "outputs": [
        {
          "output_type": "stream",
          "text": [
            "Collecting pgmpy\n",
            "\u001b[?25l  Downloading https://files.pythonhosted.org/packages/a3/0e/d9fadbfaa35e010c04d43acd3ae9fbefec98897dd7d61a6b7eb5a8b34072/pgmpy-0.1.14-py3-none-any.whl (331kB)\n",
            "\r\u001b[K     |█                               | 10kB 12.8MB/s eta 0:00:01\r\u001b[K     |██                              | 20kB 17.4MB/s eta 0:00:01\r\u001b[K     |███                             | 30kB 20.0MB/s eta 0:00:01\r\u001b[K     |████                            | 40kB 21.9MB/s eta 0:00:01\r\u001b[K     |█████                           | 51kB 23.6MB/s eta 0:00:01\r\u001b[K     |██████                          | 61kB 24.6MB/s eta 0:00:01\r\u001b[K     |███████                         | 71kB 25.9MB/s eta 0:00:01\r\u001b[K     |████████                        | 81kB 26.0MB/s eta 0:00:01\r\u001b[K     |█████████                       | 92kB 25.0MB/s eta 0:00:01\r\u001b[K     |█████████▉                      | 102kB 25.9MB/s eta 0:00:01\r\u001b[K     |██████████▉                     | 112kB 25.9MB/s eta 0:00:01\r\u001b[K     |███████████▉                    | 122kB 25.9MB/s eta 0:00:01\r\u001b[K     |████████████▉                   | 133kB 25.9MB/s eta 0:00:01\r\u001b[K     |█████████████▉                  | 143kB 25.9MB/s eta 0:00:01\r\u001b[K     |██████████████▉                 | 153kB 25.9MB/s eta 0:00:01\r\u001b[K     |███████████████▉                | 163kB 25.9MB/s eta 0:00:01\r\u001b[K     |████████████████▉               | 174kB 25.9MB/s eta 0:00:01\r\u001b[K     |█████████████████▉              | 184kB 25.9MB/s eta 0:00:01\r\u001b[K     |██████████████████▉             | 194kB 25.9MB/s eta 0:00:01\r\u001b[K     |███████████████████▊            | 204kB 25.9MB/s eta 0:00:01\r\u001b[K     |████████████████████▊           | 215kB 25.9MB/s eta 0:00:01\r\u001b[K     |█████████████████████▊          | 225kB 25.9MB/s eta 0:00:01\r\u001b[K     |██████████████████████▊         | 235kB 25.9MB/s eta 0:00:01\r\u001b[K     |███████████████████████▊        | 245kB 25.9MB/s eta 0:00:01\r\u001b[K     |████████████████████████▊       | 256kB 25.9MB/s eta 0:00:01\r\u001b[K     |█████████████████████████▊      | 266kB 25.9MB/s eta 0:00:01\r\u001b[K     |██████████████████████████▊     | 276kB 25.9MB/s eta 0:00:01\r\u001b[K     |███████████████████████████▊    | 286kB 25.9MB/s eta 0:00:01\r\u001b[K     |████████████████████████████▊   | 296kB 25.9MB/s eta 0:00:01\r\u001b[K     |█████████████████████████████▋  | 307kB 25.9MB/s eta 0:00:01\r\u001b[K     |██████████████████████████████▋ | 317kB 25.9MB/s eta 0:00:01\r\u001b[K     |███████████████████████████████▋| 327kB 25.9MB/s eta 0:00:01\r\u001b[K     |████████████████████████████████| 337kB 25.9MB/s \n",
            "\u001b[?25hRequirement already satisfied: scipy in /usr/local/lib/python3.7/dist-packages (from pgmpy) (1.4.1)\n",
            "Requirement already satisfied: pyparsing in /usr/local/lib/python3.7/dist-packages (from pgmpy) (2.4.7)\n",
            "Requirement already satisfied: scikit-learn in /usr/local/lib/python3.7/dist-packages (from pgmpy) (0.22.2.post1)\n",
            "Requirement already satisfied: numpy in /usr/local/lib/python3.7/dist-packages (from pgmpy) (1.19.5)\n",
            "Requirement already satisfied: joblib in /usr/local/lib/python3.7/dist-packages (from pgmpy) (1.0.1)\n",
            "Requirement already satisfied: pandas in /usr/local/lib/python3.7/dist-packages (from pgmpy) (1.1.5)\n",
            "Requirement already satisfied: torch in /usr/local/lib/python3.7/dist-packages (from pgmpy) (1.8.1+cu101)\n",
            "Requirement already satisfied: tqdm in /usr/local/lib/python3.7/dist-packages (from pgmpy) (4.41.1)\n",
            "Requirement already satisfied: statsmodels in /usr/local/lib/python3.7/dist-packages (from pgmpy) (0.10.2)\n",
            "Requirement already satisfied: networkx in /usr/local/lib/python3.7/dist-packages (from pgmpy) (2.5.1)\n",
            "Requirement already satisfied: pytz>=2017.2 in /usr/local/lib/python3.7/dist-packages (from pandas->pgmpy) (2018.9)\n",
            "Requirement already satisfied: python-dateutil>=2.7.3 in /usr/local/lib/python3.7/dist-packages (from pandas->pgmpy) (2.8.1)\n",
            "Requirement already satisfied: typing-extensions in /usr/local/lib/python3.7/dist-packages (from torch->pgmpy) (3.7.4.3)\n",
            "Requirement already satisfied: patsy>=0.4.0 in /usr/local/lib/python3.7/dist-packages (from statsmodels->pgmpy) (0.5.1)\n",
            "Requirement already satisfied: decorator<5,>=4.3 in /usr/local/lib/python3.7/dist-packages (from networkx->pgmpy) (4.4.2)\n",
            "Requirement already satisfied: six>=1.5 in /usr/local/lib/python3.7/dist-packages (from python-dateutil>=2.7.3->pandas->pgmpy) (1.15.0)\n",
            "Installing collected packages: pgmpy\n",
            "Successfully installed pgmpy-0.1.14\n",
            "Requirement already satisfied: plotly in /usr/local/lib/python3.7/dist-packages (4.4.1)\n",
            "Requirement already satisfied: retrying>=1.3.3 in /usr/local/lib/python3.7/dist-packages (from plotly) (1.3.3)\n",
            "Requirement already satisfied: six in /usr/local/lib/python3.7/dist-packages (from plotly) (1.15.0)\n"
          ],
          "name": "stdout"
        }
      ]
    },
    {
      "cell_type": "code",
      "metadata": {
        "id": "CtJxBGjPcnzd",
        "colab": {
          "base_uri": "https://localhost:8080/"
        },
        "outputId": "1b78d875-2a7f-4ee4-9f8e-81b45567fc07"
      },
      "source": [
        "import pandas as pd\n",
        "import numpy as np\n",
        "import matplotlib.pyplot as plt\n",
        "import pgmpy\n",
        "import statsmodels.api as sm\n",
        "from sklearn.preprocessing import MinMaxScaler\n",
        "from sklearn.linear_model import RidgeCV, LassoCV, Ridge, Lasso\n",
        "import seaborn as sns\n",
        "from sklearn.preprocessing import LabelEncoder\n",
        "from sklearn.pipeline import Pipeline\n",
        "from sklearn import model_selection\n",
        "import tensorflow as tf\n",
        "from sklearn import preprocessing, metrics\n",
        "from sklearn import preprocessing, metrics\n",
        "from sklearn.preprocessing import StandardScaler \n",
        "from tensorflow.keras.models import Sequential\n",
        "from tensorflow.keras.losses import SparseCategoricalCrossentropy\n",
        "from tensorflow.keras.layers import Dense, BatchNormalization\n",
        "from sklearn.linear_model import LogisticRegression\n",
        "import plotly.express as px\n",
        "import plotly\n",
        "import plotly.graph_objects as go"
      ],
      "execution_count": 3,
      "outputs": [
        {
          "output_type": "stream",
          "text": [
            "/usr/local/lib/python3.7/dist-packages/statsmodels/tools/_testing.py:19: FutureWarning: pandas.util.testing is deprecated. Use the functions in the public API at pandas.testing instead.\n",
            "  import pandas.util.testing as tm\n"
          ],
          "name": "stderr"
        }
      ]
    },
    {
      "cell_type": "code",
      "metadata": {
        "id": "lf8Dfb-e5KZu"
      },
      "source": [
        "df=pd.read_excel('/content/WA_Fn-UseC_-HR-Employee-Attrition.xls')"
      ],
      "execution_count": 4,
      "outputs": []
    },
    {
      "cell_type": "code",
      "metadata": {
        "colab": {
          "base_uri": "https://localhost:8080/",
          "height": 300
        },
        "id": "cGhENxPm5pVV",
        "outputId": "a7ab3e96-6e45-4b24-add4-f72a8ae6d96a"
      },
      "source": [
        "df.head()"
      ],
      "execution_count": 5,
      "outputs": [
        {
          "output_type": "execute_result",
          "data": {
            "text/html": [
              "<div>\n",
              "<style scoped>\n",
              "    .dataframe tbody tr th:only-of-type {\n",
              "        vertical-align: middle;\n",
              "    }\n",
              "\n",
              "    .dataframe tbody tr th {\n",
              "        vertical-align: top;\n",
              "    }\n",
              "\n",
              "    .dataframe thead th {\n",
              "        text-align: right;\n",
              "    }\n",
              "</style>\n",
              "<table border=\"1\" class=\"dataframe\">\n",
              "  <thead>\n",
              "    <tr style=\"text-align: right;\">\n",
              "      <th></th>\n",
              "      <th>Age</th>\n",
              "      <th>Attrition</th>\n",
              "      <th>BusinessTravel</th>\n",
              "      <th>DailyRate</th>\n",
              "      <th>Department</th>\n",
              "      <th>DistanceFromHome</th>\n",
              "      <th>Education</th>\n",
              "      <th>EducationField</th>\n",
              "      <th>EmployeeCount</th>\n",
              "      <th>EmployeeNumber</th>\n",
              "      <th>EnvironmentSatisfaction</th>\n",
              "      <th>Gender</th>\n",
              "      <th>HourlyRate</th>\n",
              "      <th>JobInvolvement</th>\n",
              "      <th>JobLevel</th>\n",
              "      <th>JobRole</th>\n",
              "      <th>JobSatisfaction</th>\n",
              "      <th>MaritalStatus</th>\n",
              "      <th>MonthlyIncome</th>\n",
              "      <th>MonthlyRate</th>\n",
              "      <th>NumCompaniesWorked</th>\n",
              "      <th>Over18</th>\n",
              "      <th>OverTime</th>\n",
              "      <th>PercentSalaryHike</th>\n",
              "      <th>PerformanceRating</th>\n",
              "      <th>RelationshipSatisfaction</th>\n",
              "      <th>StandardHours</th>\n",
              "      <th>StockOptionLevel</th>\n",
              "      <th>TotalWorkingYears</th>\n",
              "      <th>TrainingTimesLastYear</th>\n",
              "      <th>WorkLifeBalance</th>\n",
              "      <th>YearsAtCompany</th>\n",
              "      <th>YearsInCurrentRole</th>\n",
              "      <th>YearsSinceLastPromotion</th>\n",
              "      <th>YearsWithCurrManager</th>\n",
              "    </tr>\n",
              "  </thead>\n",
              "  <tbody>\n",
              "    <tr>\n",
              "      <th>0</th>\n",
              "      <td>41</td>\n",
              "      <td>Yes</td>\n",
              "      <td>Travel_Rarely</td>\n",
              "      <td>1102</td>\n",
              "      <td>Sales</td>\n",
              "      <td>1</td>\n",
              "      <td>2</td>\n",
              "      <td>Life Sciences</td>\n",
              "      <td>1</td>\n",
              "      <td>1</td>\n",
              "      <td>2</td>\n",
              "      <td>Female</td>\n",
              "      <td>94</td>\n",
              "      <td>3</td>\n",
              "      <td>2</td>\n",
              "      <td>Sales Executive</td>\n",
              "      <td>4</td>\n",
              "      <td>Single</td>\n",
              "      <td>5993</td>\n",
              "      <td>19479</td>\n",
              "      <td>8</td>\n",
              "      <td>Y</td>\n",
              "      <td>Yes</td>\n",
              "      <td>11</td>\n",
              "      <td>3</td>\n",
              "      <td>1</td>\n",
              "      <td>80</td>\n",
              "      <td>0</td>\n",
              "      <td>8</td>\n",
              "      <td>0</td>\n",
              "      <td>1</td>\n",
              "      <td>6</td>\n",
              "      <td>4</td>\n",
              "      <td>0</td>\n",
              "      <td>5</td>\n",
              "    </tr>\n",
              "    <tr>\n",
              "      <th>1</th>\n",
              "      <td>49</td>\n",
              "      <td>No</td>\n",
              "      <td>Travel_Frequently</td>\n",
              "      <td>279</td>\n",
              "      <td>Research &amp; Development</td>\n",
              "      <td>8</td>\n",
              "      <td>1</td>\n",
              "      <td>Life Sciences</td>\n",
              "      <td>1</td>\n",
              "      <td>2</td>\n",
              "      <td>3</td>\n",
              "      <td>Male</td>\n",
              "      <td>61</td>\n",
              "      <td>2</td>\n",
              "      <td>2</td>\n",
              "      <td>Research Scientist</td>\n",
              "      <td>2</td>\n",
              "      <td>Married</td>\n",
              "      <td>5130</td>\n",
              "      <td>24907</td>\n",
              "      <td>1</td>\n",
              "      <td>Y</td>\n",
              "      <td>No</td>\n",
              "      <td>23</td>\n",
              "      <td>4</td>\n",
              "      <td>4</td>\n",
              "      <td>80</td>\n",
              "      <td>1</td>\n",
              "      <td>10</td>\n",
              "      <td>3</td>\n",
              "      <td>3</td>\n",
              "      <td>10</td>\n",
              "      <td>7</td>\n",
              "      <td>1</td>\n",
              "      <td>7</td>\n",
              "    </tr>\n",
              "    <tr>\n",
              "      <th>2</th>\n",
              "      <td>37</td>\n",
              "      <td>Yes</td>\n",
              "      <td>Travel_Rarely</td>\n",
              "      <td>1373</td>\n",
              "      <td>Research &amp; Development</td>\n",
              "      <td>2</td>\n",
              "      <td>2</td>\n",
              "      <td>Other</td>\n",
              "      <td>1</td>\n",
              "      <td>4</td>\n",
              "      <td>4</td>\n",
              "      <td>Male</td>\n",
              "      <td>92</td>\n",
              "      <td>2</td>\n",
              "      <td>1</td>\n",
              "      <td>Laboratory Technician</td>\n",
              "      <td>3</td>\n",
              "      <td>Single</td>\n",
              "      <td>2090</td>\n",
              "      <td>2396</td>\n",
              "      <td>6</td>\n",
              "      <td>Y</td>\n",
              "      <td>Yes</td>\n",
              "      <td>15</td>\n",
              "      <td>3</td>\n",
              "      <td>2</td>\n",
              "      <td>80</td>\n",
              "      <td>0</td>\n",
              "      <td>7</td>\n",
              "      <td>3</td>\n",
              "      <td>3</td>\n",
              "      <td>0</td>\n",
              "      <td>0</td>\n",
              "      <td>0</td>\n",
              "      <td>0</td>\n",
              "    </tr>\n",
              "    <tr>\n",
              "      <th>3</th>\n",
              "      <td>33</td>\n",
              "      <td>No</td>\n",
              "      <td>Travel_Frequently</td>\n",
              "      <td>1392</td>\n",
              "      <td>Research &amp; Development</td>\n",
              "      <td>3</td>\n",
              "      <td>4</td>\n",
              "      <td>Life Sciences</td>\n",
              "      <td>1</td>\n",
              "      <td>5</td>\n",
              "      <td>4</td>\n",
              "      <td>Female</td>\n",
              "      <td>56</td>\n",
              "      <td>3</td>\n",
              "      <td>1</td>\n",
              "      <td>Research Scientist</td>\n",
              "      <td>3</td>\n",
              "      <td>Married</td>\n",
              "      <td>2909</td>\n",
              "      <td>23159</td>\n",
              "      <td>1</td>\n",
              "      <td>Y</td>\n",
              "      <td>Yes</td>\n",
              "      <td>11</td>\n",
              "      <td>3</td>\n",
              "      <td>3</td>\n",
              "      <td>80</td>\n",
              "      <td>0</td>\n",
              "      <td>8</td>\n",
              "      <td>3</td>\n",
              "      <td>3</td>\n",
              "      <td>8</td>\n",
              "      <td>7</td>\n",
              "      <td>3</td>\n",
              "      <td>0</td>\n",
              "    </tr>\n",
              "    <tr>\n",
              "      <th>4</th>\n",
              "      <td>27</td>\n",
              "      <td>No</td>\n",
              "      <td>Travel_Rarely</td>\n",
              "      <td>591</td>\n",
              "      <td>Research &amp; Development</td>\n",
              "      <td>2</td>\n",
              "      <td>1</td>\n",
              "      <td>Medical</td>\n",
              "      <td>1</td>\n",
              "      <td>7</td>\n",
              "      <td>1</td>\n",
              "      <td>Male</td>\n",
              "      <td>40</td>\n",
              "      <td>3</td>\n",
              "      <td>1</td>\n",
              "      <td>Laboratory Technician</td>\n",
              "      <td>2</td>\n",
              "      <td>Married</td>\n",
              "      <td>3468</td>\n",
              "      <td>16632</td>\n",
              "      <td>9</td>\n",
              "      <td>Y</td>\n",
              "      <td>No</td>\n",
              "      <td>12</td>\n",
              "      <td>3</td>\n",
              "      <td>4</td>\n",
              "      <td>80</td>\n",
              "      <td>1</td>\n",
              "      <td>6</td>\n",
              "      <td>3</td>\n",
              "      <td>3</td>\n",
              "      <td>2</td>\n",
              "      <td>2</td>\n",
              "      <td>2</td>\n",
              "      <td>2</td>\n",
              "    </tr>\n",
              "  </tbody>\n",
              "</table>\n",
              "</div>"
            ],
            "text/plain": [
              "   Age Attrition  ... YearsSinceLastPromotion  YearsWithCurrManager\n",
              "0   41       Yes  ...                       0                     5\n",
              "1   49        No  ...                       1                     7\n",
              "2   37       Yes  ...                       0                     0\n",
              "3   33        No  ...                       3                     0\n",
              "4   27        No  ...                       2                     2\n",
              "\n",
              "[5 rows x 35 columns]"
            ]
          },
          "metadata": {
            "tags": []
          },
          "execution_count": 5
        }
      ]
    },
    {
      "cell_type": "code",
      "metadata": {
        "colab": {
          "base_uri": "https://localhost:8080/"
        },
        "id": "Mg9aDm-wCvi9",
        "outputId": "07a40736-10c9-49e8-9465-f74da0497034"
      },
      "source": [
        "df.shape"
      ],
      "execution_count": 6,
      "outputs": [
        {
          "output_type": "execute_result",
          "data": {
            "text/plain": [
              "(1470, 35)"
            ]
          },
          "metadata": {
            "tags": []
          },
          "execution_count": 6
        }
      ]
    },
    {
      "cell_type": "markdown",
      "metadata": {
        "id": "QzpsozRlCXrN"
      },
      "source": [
        "Drop the uneccessary variable"
      ]
    },
    {
      "cell_type": "code",
      "metadata": {
        "colab": {
          "base_uri": "https://localhost:8080/"
        },
        "id": "-jVk-BLREcQs",
        "outputId": "ac77ad30-20c2-4762-dd81-8f52c1eab5a8"
      },
      "source": [
        "data=df.drop(columns=['EmployeeNumber'])\n",
        "data.shape"
      ],
      "execution_count": 7,
      "outputs": [
        {
          "output_type": "execute_result",
          "data": {
            "text/plain": [
              "(1470, 34)"
            ]
          },
          "metadata": {
            "tags": []
          },
          "execution_count": 7
        }
      ]
    },
    {
      "cell_type": "code",
      "metadata": {
        "colab": {
          "base_uri": "https://localhost:8080/",
          "height": 300
        },
        "id": "dJ4vaDJAaRzJ",
        "outputId": "32802604-cbb4-4fdc-cbc2-8222d90f7333"
      },
      "source": [
        "data.head()"
      ],
      "execution_count": 8,
      "outputs": [
        {
          "output_type": "execute_result",
          "data": {
            "text/html": [
              "<div>\n",
              "<style scoped>\n",
              "    .dataframe tbody tr th:only-of-type {\n",
              "        vertical-align: middle;\n",
              "    }\n",
              "\n",
              "    .dataframe tbody tr th {\n",
              "        vertical-align: top;\n",
              "    }\n",
              "\n",
              "    .dataframe thead th {\n",
              "        text-align: right;\n",
              "    }\n",
              "</style>\n",
              "<table border=\"1\" class=\"dataframe\">\n",
              "  <thead>\n",
              "    <tr style=\"text-align: right;\">\n",
              "      <th></th>\n",
              "      <th>Age</th>\n",
              "      <th>Attrition</th>\n",
              "      <th>BusinessTravel</th>\n",
              "      <th>DailyRate</th>\n",
              "      <th>Department</th>\n",
              "      <th>DistanceFromHome</th>\n",
              "      <th>Education</th>\n",
              "      <th>EducationField</th>\n",
              "      <th>EmployeeCount</th>\n",
              "      <th>EnvironmentSatisfaction</th>\n",
              "      <th>Gender</th>\n",
              "      <th>HourlyRate</th>\n",
              "      <th>JobInvolvement</th>\n",
              "      <th>JobLevel</th>\n",
              "      <th>JobRole</th>\n",
              "      <th>JobSatisfaction</th>\n",
              "      <th>MaritalStatus</th>\n",
              "      <th>MonthlyIncome</th>\n",
              "      <th>MonthlyRate</th>\n",
              "      <th>NumCompaniesWorked</th>\n",
              "      <th>Over18</th>\n",
              "      <th>OverTime</th>\n",
              "      <th>PercentSalaryHike</th>\n",
              "      <th>PerformanceRating</th>\n",
              "      <th>RelationshipSatisfaction</th>\n",
              "      <th>StandardHours</th>\n",
              "      <th>StockOptionLevel</th>\n",
              "      <th>TotalWorkingYears</th>\n",
              "      <th>TrainingTimesLastYear</th>\n",
              "      <th>WorkLifeBalance</th>\n",
              "      <th>YearsAtCompany</th>\n",
              "      <th>YearsInCurrentRole</th>\n",
              "      <th>YearsSinceLastPromotion</th>\n",
              "      <th>YearsWithCurrManager</th>\n",
              "    </tr>\n",
              "  </thead>\n",
              "  <tbody>\n",
              "    <tr>\n",
              "      <th>0</th>\n",
              "      <td>41</td>\n",
              "      <td>Yes</td>\n",
              "      <td>Travel_Rarely</td>\n",
              "      <td>1102</td>\n",
              "      <td>Sales</td>\n",
              "      <td>1</td>\n",
              "      <td>2</td>\n",
              "      <td>Life Sciences</td>\n",
              "      <td>1</td>\n",
              "      <td>2</td>\n",
              "      <td>Female</td>\n",
              "      <td>94</td>\n",
              "      <td>3</td>\n",
              "      <td>2</td>\n",
              "      <td>Sales Executive</td>\n",
              "      <td>4</td>\n",
              "      <td>Single</td>\n",
              "      <td>5993</td>\n",
              "      <td>19479</td>\n",
              "      <td>8</td>\n",
              "      <td>Y</td>\n",
              "      <td>Yes</td>\n",
              "      <td>11</td>\n",
              "      <td>3</td>\n",
              "      <td>1</td>\n",
              "      <td>80</td>\n",
              "      <td>0</td>\n",
              "      <td>8</td>\n",
              "      <td>0</td>\n",
              "      <td>1</td>\n",
              "      <td>6</td>\n",
              "      <td>4</td>\n",
              "      <td>0</td>\n",
              "      <td>5</td>\n",
              "    </tr>\n",
              "    <tr>\n",
              "      <th>1</th>\n",
              "      <td>49</td>\n",
              "      <td>No</td>\n",
              "      <td>Travel_Frequently</td>\n",
              "      <td>279</td>\n",
              "      <td>Research &amp; Development</td>\n",
              "      <td>8</td>\n",
              "      <td>1</td>\n",
              "      <td>Life Sciences</td>\n",
              "      <td>1</td>\n",
              "      <td>3</td>\n",
              "      <td>Male</td>\n",
              "      <td>61</td>\n",
              "      <td>2</td>\n",
              "      <td>2</td>\n",
              "      <td>Research Scientist</td>\n",
              "      <td>2</td>\n",
              "      <td>Married</td>\n",
              "      <td>5130</td>\n",
              "      <td>24907</td>\n",
              "      <td>1</td>\n",
              "      <td>Y</td>\n",
              "      <td>No</td>\n",
              "      <td>23</td>\n",
              "      <td>4</td>\n",
              "      <td>4</td>\n",
              "      <td>80</td>\n",
              "      <td>1</td>\n",
              "      <td>10</td>\n",
              "      <td>3</td>\n",
              "      <td>3</td>\n",
              "      <td>10</td>\n",
              "      <td>7</td>\n",
              "      <td>1</td>\n",
              "      <td>7</td>\n",
              "    </tr>\n",
              "    <tr>\n",
              "      <th>2</th>\n",
              "      <td>37</td>\n",
              "      <td>Yes</td>\n",
              "      <td>Travel_Rarely</td>\n",
              "      <td>1373</td>\n",
              "      <td>Research &amp; Development</td>\n",
              "      <td>2</td>\n",
              "      <td>2</td>\n",
              "      <td>Other</td>\n",
              "      <td>1</td>\n",
              "      <td>4</td>\n",
              "      <td>Male</td>\n",
              "      <td>92</td>\n",
              "      <td>2</td>\n",
              "      <td>1</td>\n",
              "      <td>Laboratory Technician</td>\n",
              "      <td>3</td>\n",
              "      <td>Single</td>\n",
              "      <td>2090</td>\n",
              "      <td>2396</td>\n",
              "      <td>6</td>\n",
              "      <td>Y</td>\n",
              "      <td>Yes</td>\n",
              "      <td>15</td>\n",
              "      <td>3</td>\n",
              "      <td>2</td>\n",
              "      <td>80</td>\n",
              "      <td>0</td>\n",
              "      <td>7</td>\n",
              "      <td>3</td>\n",
              "      <td>3</td>\n",
              "      <td>0</td>\n",
              "      <td>0</td>\n",
              "      <td>0</td>\n",
              "      <td>0</td>\n",
              "    </tr>\n",
              "    <tr>\n",
              "      <th>3</th>\n",
              "      <td>33</td>\n",
              "      <td>No</td>\n",
              "      <td>Travel_Frequently</td>\n",
              "      <td>1392</td>\n",
              "      <td>Research &amp; Development</td>\n",
              "      <td>3</td>\n",
              "      <td>4</td>\n",
              "      <td>Life Sciences</td>\n",
              "      <td>1</td>\n",
              "      <td>4</td>\n",
              "      <td>Female</td>\n",
              "      <td>56</td>\n",
              "      <td>3</td>\n",
              "      <td>1</td>\n",
              "      <td>Research Scientist</td>\n",
              "      <td>3</td>\n",
              "      <td>Married</td>\n",
              "      <td>2909</td>\n",
              "      <td>23159</td>\n",
              "      <td>1</td>\n",
              "      <td>Y</td>\n",
              "      <td>Yes</td>\n",
              "      <td>11</td>\n",
              "      <td>3</td>\n",
              "      <td>3</td>\n",
              "      <td>80</td>\n",
              "      <td>0</td>\n",
              "      <td>8</td>\n",
              "      <td>3</td>\n",
              "      <td>3</td>\n",
              "      <td>8</td>\n",
              "      <td>7</td>\n",
              "      <td>3</td>\n",
              "      <td>0</td>\n",
              "    </tr>\n",
              "    <tr>\n",
              "      <th>4</th>\n",
              "      <td>27</td>\n",
              "      <td>No</td>\n",
              "      <td>Travel_Rarely</td>\n",
              "      <td>591</td>\n",
              "      <td>Research &amp; Development</td>\n",
              "      <td>2</td>\n",
              "      <td>1</td>\n",
              "      <td>Medical</td>\n",
              "      <td>1</td>\n",
              "      <td>1</td>\n",
              "      <td>Male</td>\n",
              "      <td>40</td>\n",
              "      <td>3</td>\n",
              "      <td>1</td>\n",
              "      <td>Laboratory Technician</td>\n",
              "      <td>2</td>\n",
              "      <td>Married</td>\n",
              "      <td>3468</td>\n",
              "      <td>16632</td>\n",
              "      <td>9</td>\n",
              "      <td>Y</td>\n",
              "      <td>No</td>\n",
              "      <td>12</td>\n",
              "      <td>3</td>\n",
              "      <td>4</td>\n",
              "      <td>80</td>\n",
              "      <td>1</td>\n",
              "      <td>6</td>\n",
              "      <td>3</td>\n",
              "      <td>3</td>\n",
              "      <td>2</td>\n",
              "      <td>2</td>\n",
              "      <td>2</td>\n",
              "      <td>2</td>\n",
              "    </tr>\n",
              "  </tbody>\n",
              "</table>\n",
              "</div>"
            ],
            "text/plain": [
              "   Age Attrition  ... YearsSinceLastPromotion  YearsWithCurrManager\n",
              "0   41       Yes  ...                       0                     5\n",
              "1   49        No  ...                       1                     7\n",
              "2   37       Yes  ...                       0                     0\n",
              "3   33        No  ...                       3                     0\n",
              "4   27        No  ...                       2                     2\n",
              "\n",
              "[5 rows x 34 columns]"
            ]
          },
          "metadata": {
            "tags": []
          },
          "execution_count": 8
        }
      ]
    },
    {
      "cell_type": "markdown",
      "metadata": {
        "id": "_ZYRXJAt6Iew"
      },
      "source": [
        "# Exploratory Data Analysis\n",
        "From the dataset, we use the attrition variable as the respon/ prediction  and another variables as the predictor"
      ]
    },
    {
      "cell_type": "code",
      "metadata": {
        "id": "qEidClvf6Nrz"
      },
      "source": [
        "preds=data.drop(columns=['Attrition'])\n",
        "resp=data['Attrition']"
      ],
      "execution_count": 9,
      "outputs": []
    },
    {
      "cell_type": "markdown",
      "metadata": {
        "id": "e0ge-yzl6mk1"
      },
      "source": [
        "Get the numerical and categorical variables for better analysis\n"
      ]
    },
    {
      "cell_type": "code",
      "metadata": {
        "id": "l2YlpSKc6NoX"
      },
      "source": [
        "categorical=[]\n",
        "for col in preds.columns:\n",
        "  if preds[col].dtype=='O':\n",
        "    add=col\n",
        "    categorical.append(add)\n"
      ],
      "execution_count": 10,
      "outputs": []
    },
    {
      "cell_type": "code",
      "metadata": {
        "colab": {
          "base_uri": "https://localhost:8080/"
        },
        "id": "SwvU4QUG6NmC",
        "outputId": "4dab1c3c-d71c-4b01-b459-4c472b03617c"
      },
      "source": [
        "#There are variables which are encoded by default\n",
        "extras = ['Education', 'EnvironmentSatisfaction', 'JobInvolvement', 'JobLevel' ,'JobSatisfaction',\n",
        "             'PerformanceRating', 'RelationshipSatisfaction', 'WorkLifeBalance', 'NumCompaniesWorked',\n",
        "             'StockOptionLevel', 'PercentSalaryHike', 'TrainingTimesLastYear']\n",
        "\n",
        "\n",
        "categorical = categorical + extras\n",
        "categorical"
      ],
      "execution_count": 11,
      "outputs": [
        {
          "output_type": "execute_result",
          "data": {
            "text/plain": [
              "['BusinessTravel',\n",
              " 'Department',\n",
              " 'EducationField',\n",
              " 'Gender',\n",
              " 'JobRole',\n",
              " 'MaritalStatus',\n",
              " 'Over18',\n",
              " 'OverTime',\n",
              " 'Education',\n",
              " 'EnvironmentSatisfaction',\n",
              " 'JobInvolvement',\n",
              " 'JobLevel',\n",
              " 'JobSatisfaction',\n",
              " 'PerformanceRating',\n",
              " 'RelationshipSatisfaction',\n",
              " 'WorkLifeBalance',\n",
              " 'NumCompaniesWorked',\n",
              " 'StockOptionLevel',\n",
              " 'PercentSalaryHike',\n",
              " 'TrainingTimesLastYear']"
            ]
          },
          "metadata": {
            "tags": []
          },
          "execution_count": 11
        }
      ]
    },
    {
      "cell_type": "code",
      "metadata": {
        "colab": {
          "base_uri": "https://localhost:8080/"
        },
        "id": "L5UX7lkfhQP2",
        "outputId": "6e7221c3-bb6e-4cac-8f00-52cd51f4f38a"
      },
      "source": [
        "numerics=[]\n",
        "for col in preds.columns:\n",
        "  if col not in categorical:\n",
        "    add=col\n",
        "    numerics.append(add)\n",
        "\n",
        "numerics"
      ],
      "execution_count": 12,
      "outputs": [
        {
          "output_type": "execute_result",
          "data": {
            "text/plain": [
              "['Age',\n",
              " 'DailyRate',\n",
              " 'DistanceFromHome',\n",
              " 'EmployeeCount',\n",
              " 'HourlyRate',\n",
              " 'MonthlyIncome',\n",
              " 'MonthlyRate',\n",
              " 'StandardHours',\n",
              " 'TotalWorkingYears',\n",
              " 'YearsAtCompany',\n",
              " 'YearsInCurrentRole',\n",
              " 'YearsSinceLastPromotion',\n",
              " 'YearsWithCurrManager']"
            ]
          },
          "metadata": {
            "tags": []
          },
          "execution_count": 12
        }
      ]
    },
    {
      "cell_type": "markdown",
      "metadata": {
        "id": "hdd6uUo9Bq4u"
      },
      "source": [
        "Check the correlation between each variable of predictor for numerical variables"
      ]
    },
    {
      "cell_type": "code",
      "metadata": {
        "colab": {
          "base_uri": "https://localhost:8080/",
          "height": 510
        },
        "id": "AHTSxTLnMn0j",
        "outputId": "ffd39781-a96e-420e-fe9c-a9b1c66244ee"
      },
      "source": [
        "plt.figure(figsize=(12,6))\n",
        "sns.heatmap(df[numerics].corr(), annot=True)"
      ],
      "execution_count": 13,
      "outputs": [
        {
          "output_type": "execute_result",
          "data": {
            "text/plain": [
              "<matplotlib.axes._subplots.AxesSubplot at 0x7fc59d8c9510>"
            ]
          },
          "metadata": {
            "tags": []
          },
          "execution_count": 13
        },
        {
          "output_type": "display_data",
          "data": {
            "image/png": "[encoded data removed]",
            "text/plain": [
              "<Figure size 864x432 with 2 Axes>"
            ]
          },
          "metadata": {
            "tags": [],
            "needs_background": "light"
          }
        }
      ]
    },
    {
      "cell_type": "markdown",
      "metadata": {
        "id": "nEokkU1UtuPq"
      },
      "source": [
        "Lets see some boxplots from numeric variables"
      ]
    },
    {
      "cell_type": "code",
      "metadata": {
        "colab": {
          "base_uri": "https://localhost:8080/"
        },
        "id": "qXa1dEaKrZst",
        "outputId": "db1a62bc-a78f-4fcc-c2e8-ad30e923da39"
      },
      "source": [
        "preds[\"TotalWorkingYears\"]"
      ],
      "execution_count": 14,
      "outputs": [
        {
          "output_type": "execute_result",
          "data": {
            "text/plain": [
              "0        8\n",
              "1       10\n",
              "2        7\n",
              "3        8\n",
              "4        6\n",
              "        ..\n",
              "1465    17\n",
              "1466     9\n",
              "1467     6\n",
              "1468    17\n",
              "1469     6\n",
              "Name: TotalWorkingYears, Length: 1470, dtype: int64"
            ]
          },
          "metadata": {
            "tags": []
          },
          "execution_count": 14
        }
      ]
    },
    {
      "cell_type": "code",
      "metadata": {
        "colab": {
          "base_uri": "https://localhost:8080/",
          "height": 517
        },
        "id": "KyzWTEhI8x18",
        "outputId": "62cccf68-5f73-4221-afbe-277654cecfba"
      },
      "source": [
        "trace0 = go.Violin(\n",
        "    name = \"TotalWorkingYears\",\n",
        "    y = preds[\"TotalWorkingYears\"],box_visible=True, # draw box plot inside the violin\n",
        "                points='all', # can be 'outliers', or False\n",
        ")\n",
        "\n",
        "trace1 = go.Violin(\n",
        "    name = \"Age\",\n",
        "    y = preds[\"Age\"],box_visible=True, # draw box plot inside the violin\n",
        "                points='all', # can be 'outliers', or False\n",
        ")\n",
        "\n",
        "trace2 = go.Violin(\n",
        "    name = \"YearsAtCompany\",\n",
        "    y = preds[\"YearsAtCompany\"],box_visible=True, # draw box plot inside the violin\n",
        "                points='all', # can be 'outliers', or False\n",
        ")\n",
        "layout = go.Layout(\n",
        "    autosize=False,\n",
        "    width=700,\n",
        "    height=500\n",
        ")\n",
        "data = [trace0, trace1, trace2 ]\n",
        "fig = go.Figure(data=data, layout=layout)\n",
        "#plotly.offline.iplot(data)\n",
        "fig.show()"
      ],
      "execution_count": 15,
      "outputs": [
        {
          "output_type": "display_data",
          "data": {
            "text/html": [
              "<html>\n",
              "<head><meta charset=\"utf-8\" /></head>\n",
              "<body>\n",
              "    <div>\n",
              "            <script src=\"https://cdnjs.cloudflare.com/ajax/libs/mathjax/2.7.5/MathJax.js?config=TeX-AMS-MML_SVG\"></script><script type=\"text/javascript\">if (window.MathJax) {MathJax.Hub.Config({SVG: {font: \"STIX-Web\"}});}</script>\n",
              "                <script type=\"text/javascript\">window.PlotlyConfig = {MathJaxConfig: 'local'};</script>\n",
              "        <script src=\"https://cdn.plot.ly/plotly-latest.min.js\"></script>    \n",
              "            <div id=\"71211cd3-339d-468c-9e1f-381b1ee3915f\" class=\"plotly-graph-div\" style=\"height:500px; width:700px;\"></div>\n",
              "            <script type=\"text/javascript\">\n",
              "                \n",
              "                    window.PLOTLYENV=window.PLOTLYENV || {};\n",
              "                    \n",
              "                if (document.getElementById(\"71211cd3-339d-468c-9e1f-381b1ee3915f\")) {\n",
              "                    Plotly.newPlot(\n",
              "                        '71211cd3-339d-468c-9e1f-381b1ee3915f',\n",
              "                        [{\"box\": {\"visible\": true}, \"name\": \"TotalWorkingYears\", \"points\": \"all\", \"type\": \"violin\", \"y\": [8, 10, 7, 8, 6, 8, 12, 1, 10, 17, 6, 10, 5, 3, 6, 10, 7, 1, 31, 6, 5, 10, 13, 0, 8, 26, 10, 10, 24, 22, 7, 9, 10, 19, 6, 6, 3, 2, 6, 10, 1, 1, 1, 9, 12, 23, 10, 8, 14, 1, 23, 2, 9, 10, 5, 15, 9, 4, 10, 7, 9, 10, 29, 28, 17, 21, 6, 25, 5, 2, 20, 6, 1, 10, 5, 11, 16, 17, 16, 16, 10, 6, 24, 17, 5, 37, 3, 10, 11, 9, 22, 11, 11, 21, 12, 16, 4, 5, 38, 17, 7, 1, 1, 16, 17, 30, 28, 6, 2, 1, 23, 9, 23, 6, 12, 12, 14, 10, 7, 25, 10, 8, 7, 23, 12, 5, 40, 0, 3, 16, 18, 16, 4, 12, 8, 7, 18, 17, 6, 12, 10, 9, 19, 5, 9, 8, 6, 21, 7, 1, 20, 10, 13, 20, 9, 10, 10, 9, 15, 6, 2, 6, 5, 12, 1, 21, 13, 12, 12, 8, 6, 1, 13, 12, 9, 19, 4, 1, 24, 2, 7, 9, 4, 5, 5, 8, 21, 36, 10, 21, 34, 7, 8, 7, 22, 8, 10, 11, 14, 9, 6, 7, 5, 15, 17, 10, 4, 8, 5, 17, 14, 12, 7, 16, 8, 16, 9, 7, 23, 16, 16, 7, 10, 17, 6, 7, 13, 11, 10, 4, 6, 22, 7, 32, 8, 22, 13, 33, 6, 4, 7, 4, 17, 9, 25, 9, 2, 13, 17, 9, 17, 20, 6, 10, 10, 5, 10, 22, 1, 6, 5, 13, 9, 28, 5, 10, 10, 6, 21, 16, 37, 10, 5, 7, 3, 15, 10, 8, 6, 28, 21, 20, 10, 12, 5, 17, 19, 10, 5, 5, 22, 10, 2, 8, 4, 23, 0, 12, 4, 13, 22, 0, 9, 10, 19, 11, 13, 19, 12, 6, 9, 24, 3, 12, 21, 9, 25, 11, 4, 13, 5, 13, 10, 5, 11, 10, 21, 12, 9, 21, 9, 6, 20, 10, 12, 6, 7, 4, 10, 8, 8, 12, 11, 7, 17, 4, 8, 5, 16, 4, 4, 8, 15, 13, 4, 8, 14, 3, 7, 16, 15, 10, 3, 1, 17, 7, 8, 20, 8, 3, 1, 6, 10, 5, 7, 26, 18, 6, 9, 30, 5, 1, 7, 2, 10, 3, 18, 8, 8, 18, 25, 20, 24, 6, 13, 8, 8, 5, 15, 4, 21, 36, 6, 10, 10, 6, 28, 8, 31, 19, 11, 33, 19, 7, 6, 3, 1, 21, 3, 9, 10, 6, 1, 10, 32, 28, 12, 22, 20, 26, 6, 19, 14, 15, 13, 15, 8, 4, 10, 12, 11, 8, 10, 4, 14, 37, 16, 15, 22, 8, 10, 10, 9, 8, 8, 10, 10, 0, 20, 10, 8, 5, 10, 1, 12, 28, 22, 9, 18, 6, 3, 18, 8, 31, 6, 6, 1, 32, 7, 6, 1, 6, 9, 9, 13, 6, 17, 1, 10, 21, 8, 10, 21, 10, 8, 5, 3, 26, 3, 6, 6, 1, 18, 10, 5, 3, 10, 6, 17, 15, 16, 13, 5, 1, 10, 1, 5, 4, 8, 10, 12, 6, 4, 20, 9, 4, 20, 10, 18, 10, 9, 10, 20, 20, 32, 23, 10, 9, 22, 4, 10, 10, 10, 9, 28, 10, 1, 7, 7, 10, 5, 12, 30, 5, 9, 2, 19, 16, 10, 6, 7, 34, 10, 6, 9, 2, 8, 6, 24, 10, 5, 5, 11, 6, 10, 9, 5, 6, 17, 6, 3, 7, 8, 6, 24, 1, 1, 9, 30, 1, 14, 6, 26, 10, 10, 40, 7, 8, 5, 8, 14, 10, 12, 1, 10, 13, 6, 9, 12, 22, 9, 17, 8, 4, 8, 0, 29, 10, 6, 9, 6, 18, 8, 10, 35, 18, 9, 31, 9, 6, 4, 10, 8, 6, 5, 17, 10, 4, 5, 7, 6, 10, 3, 17, 8, 5, 28, 16, 10, 33, 12, 8, 10, 31, 13, 7, 1, 8, 8, 4, 3, 4, 2, 1, 17, 3, 4, 10, 6, 8, 1, 1, 10, 6, 24, 13, 10, 29, 13, 9, 8, 15, 5, 1, 11, 7, 20, 16, 1, 1, 10, 3, 8, 16, 6, 17, 9, 3, 5, 26, 7, 22, 10, 6, 12, 9, 22, 20, 12, 4, 10, 3, 5, 8, 32, 6, 21, 4, 9, 9, 7, 22, 3, 13, 5, 5, 4, 0, 22, 16, 9, 1, 4, 8, 4, 19, 27, 8, 21, 4, 3, 21, 8, 30, 15, 17, 21, 19, 7, 33, 23, 19, 18, 21, 3, 26, 10, 16, 14, 6, 30, 9, 6, 1, 1, 8, 29, 8, 8, 5, 23, 13, 18, 15, 31, 18, 2, 1, 19, 18, 10, 6, 7, 10, 20, 14, 3, 23, 10, 24, 9, 9, 14, 4, 7, 8, 7, 1, 5, 23, 1, 5, 4, 6, 27, 15, 18, 9, 11, 10, 23, 10, 18, 21, 21, 2, 9, 18, 3, 6, 5, 22, 5, 8, 16, 10, 7, 3, 0, 6, 6, 2, 9, 4, 6, 6, 11, 20, 22, 9, 10, 6, 1, 8, 10, 16, 15, 14, 2, 7, 1, 28, 10, 1, 7, 14, 2, 6, 26, 6, 1, 28, 6, 5, 5, 8, 5, 32, 6, 25, 15, 1, 10, 7, 10, 20, 2, 12, 10, 12, 2, 10, 17, 15, 7, 5, 12, 20, 16, 9, 33, 10, 1, 3, 36, 6, 10, 13, 25, 23, 12, 7, 5, 6, 25, 9, 2, 26, 10, 1, 1, 1, 8, 26, 34, 2, 26, 4, 31, 25, 15, 5, 26, 14, 4, 18, 23, 18, 10, 2, 8, 10, 10, 5, 2, 10, 22, 21, 2, 10, 6, 10, 10, 10, 10, 25, 9, 10, 9, 9, 10, 19, 3, 10, 21, 23, 36, 6, 10, 9, 10, 9, 33, 11, 10, 7, 31, 7, 17, 11, 5, 29, 0, 10, 8, 24, 33, 5, 15, 10, 3, 5, 4, 14, 5, 10, 8, 14, 12, 8, 8, 4, 13, 6, 24, 20, 6, 8, 5, 21, 12, 8, 10, 7, 8, 10, 20, 9, 29, 32, 31, 15, 1, 8, 9, 10, 1, 6, 10, 11, 17, 6, 7, 5, 26, 5, 7, 7, 7, 11, 13, 28, 11, 10, 24, 8, 7, 10, 15, 2, 16, 6, 7, 35, 20, 8, 6, 5, 15, 4, 12, 11, 1, 13, 29, 16, 5, 7, 16, 1, 4, 1, 16, 10, 6, 4, 8, 11, 8, 1, 5, 10, 4, 8, 14, 10, 26, 11, 24, 9, 23, 11, 5, 15, 10, 7, 32, 12, 4, 10, 9, 5, 8, 24, 9, 15, 21, 2, 8, 10, 6, 12, 7, 18, 5, 8, 10, 10, 3, 9, 1, 34, 7, 9, 10, 1, 36, 9, 1, 10, 8, 15, 10, 10, 11, 6, 27, 4, 9, 24, 10, 8, 5, 8, 1, 27, 1, 4, 32, 6, 23, 6, 10, 10, 10, 7, 9, 10, 10, 7, 16, 6, 3, 0, 27, 11, 18, 15, 9, 10, 10, 10, 15, 8, 18, 14, 23, 7, 6, 5, 6, 10, 8, 9, 7, 7, 27, 19, 2, 11, 15, 30, 4, 13, 36, 14, 13, 19, 10, 6, 10, 10, 17, 4, 29, 23, 21, 2, 7, 10, 8, 5, 7, 11, 19, 1, 7, 8, 15, 19, 14, 6, 10, 3, 9, 6, 10, 5, 10, 9, 17, 25, 1, 25, 3, 21, 10, 6, 10, 18, 6, 19, 17, 10, 4, 13, 16, 10, 3, 9, 9, 10, 21, 9, 10, 3, 6, 6, 6, 2, 10, 12, 6, 13, 8, 11, 9, 10, 1, 10, 12, 15, 6, 7, 34, 11, 5, 15, 27, 10, 6, 1, 5, 1, 13, 15, 5, 24, 15, 6, 19, 10, 14, 5, 9, 6, 7, 10, 15, 13, 11, 10, 7, 7, 11, 23, 9, 6, 13, 12, 10, 37, 6, 28, 15, 14, 9, 3, 20, 5, 23, 0, 2, 4, 10, 15, 7, 6, 11, 4, 10, 7, 12, 3, 11, 8, 7, 25, 9, 1, 21, 29, 1, 14, 8, 7, 19, 1, 1, 1, 10, 10, 9, 11, 16, 4, 10, 10, 22, 1, 9, 24, 10, 5, 5, 12, 14, 18, 8, 9, 4, 8, 12, 10, 7, 1, 10, 6, 16, 6, 16, 6, 10, 20, 29, 8, 10, 28, 14, 1, 6, 5, 4, 5, 14, 9, 8, 6, 9, 10, 6, 20, 10, 7, 8, 10, 15, 9, 9, 10, 7, 35, 1, 21, 20, 13, 9, 4, 5, 10, 15, 6, 12, 7, 25, 1, 16, 3, 10, 9, 12, 14, 5, 4, 10, 10, 6, 8, 3, 18, 20, 14, 16, 6, 16, 6, 2, 21, 1, 10, 18, 13, 4, 24, 14, 21, 8, 15, 14, 4, 9, 10, 12, 8, 8, 8, 10, 20, 4, 10, 5, 20, 21, 10, 5, 17, 9, 6, 17, 6]}, {\"box\": {\"visible\": true}, \"name\": \"Age\", \"points\": \"all\", \"type\": \"violin\", \"y\": [41, 49, 37, 33, 27, 32, 59, 30, 38, 36, 35, 29, 31, 34, 28, 29, 32, 22, 53, 38, 24, 36, 34, 21, 34, 53, 32, 42, 44, 46, 33, 44, 30, 39, 24, 43, 50, 35, 36, 33, 35, 27, 26, 27, 30, 41, 34, 37, 46, 35, 48, 28, 44, 35, 26, 33, 35, 35, 31, 37, 32, 38, 50, 59, 36, 55, 36, 45, 35, 36, 59, 29, 31, 32, 36, 31, 35, 45, 37, 46, 30, 35, 55, 38, 34, 56, 23, 51, 30, 46, 40, 51, 30, 46, 32, 54, 24, 28, 58, 44, 37, 32, 20, 34, 37, 59, 50, 25, 25, 22, 51, 34, 54, 24, 34, 37, 34, 36, 36, 43, 30, 33, 56, 51, 31, 26, 58, 19, 22, 49, 43, 50, 31, 41, 26, 36, 51, 39, 25, 30, 32, 45, 38, 30, 32, 30, 30, 41, 41, 19, 40, 35, 53, 45, 32, 29, 51, 58, 40, 34, 22, 27, 28, 57, 27, 50, 41, 30, 38, 32, 27, 19, 36, 30, 45, 56, 33, 19, 46, 38, 31, 34, 41, 50, 53, 33, 40, 55, 34, 51, 52, 27, 35, 43, 45, 37, 35, 42, 38, 38, 27, 49, 34, 40, 38, 29, 22, 36, 40, 46, 32, 30, 27, 51, 30, 41, 30, 29, 45, 54, 36, 33, 37, 38, 31, 59, 37, 29, 35, 29, 52, 42, 59, 50, 33, 43, 33, 52, 32, 32, 39, 32, 41, 40, 45, 31, 33, 34, 37, 45, 37, 39, 29, 42, 29, 25, 42, 40, 51, 31, 32, 38, 32, 46, 28, 29, 31, 25, 45, 36, 55, 47, 28, 37, 21, 37, 35, 38, 26, 50, 53, 42, 29, 55, 26, 37, 44, 38, 26, 28, 49, 36, 31, 26, 37, 42, 18, 35, 36, 51, 41, 18, 28, 31, 39, 36, 32, 38, 58, 31, 31, 45, 31, 33, 39, 43, 49, 52, 27, 32, 27, 31, 32, 28, 30, 31, 39, 39, 33, 47, 43, 27, 54, 43, 45, 40, 29, 29, 30, 27, 37, 38, 31, 29, 35, 23, 41, 47, 42, 29, 42, 32, 48, 37, 30, 26, 42, 21, 36, 36, 57, 40, 21, 33, 37, 46, 41, 50, 40, 31, 21, 29, 35, 27, 28, 49, 51, 36, 34, 55, 24, 30, 26, 22, 36, 30, 37, 40, 42, 37, 43, 40, 54, 34, 31, 43, 43, 25, 37, 31, 39, 56, 30, 41, 28, 25, 52, 45, 52, 42, 30, 60, 46, 42, 24, 34, 38, 40, 26, 30, 29, 29, 19, 30, 57, 50, 30, 60, 47, 46, 35, 54, 34, 46, 31, 33, 33, 30, 35, 31, 34, 42, 36, 22, 48, 55, 41, 35, 40, 39, 31, 42, 45, 26, 29, 33, 31, 18, 40, 41, 26, 35, 34, 26, 37, 46, 41, 37, 52, 32, 24, 38, 37, 49, 24, 26, 24, 50, 25, 24, 30, 34, 31, 35, 31, 27, 37, 20, 42, 43, 38, 43, 48, 44, 34, 27, 21, 44, 22, 33, 32, 30, 53, 34, 45, 26, 37, 29, 35, 33, 54, 36, 27, 20, 33, 35, 23, 25, 38, 29, 48, 27, 37, 50, 34, 24, 39, 32, 50, 38, 27, 32, 47, 40, 53, 41, 60, 27, 41, 50, 28, 36, 38, 44, 47, 30, 29, 42, 43, 34, 23, 39, 56, 40, 27, 29, 53, 35, 32, 38, 34, 52, 33, 25, 45, 23, 47, 34, 55, 36, 52, 26, 29, 26, 34, 54, 27, 37, 38, 34, 35, 30, 40, 34, 42, 23, 24, 52, 50, 29, 33, 33, 47, 36, 29, 58, 35, 42, 28, 36, 32, 40, 30, 45, 42, 38, 34, 49, 55, 43, 27, 35, 28, 34, 26, 27, 51, 44, 25, 33, 35, 36, 32, 30, 53, 45, 32, 52, 37, 28, 22, 44, 42, 36, 25, 35, 35, 32, 25, 49, 24, 32, 38, 42, 31, 29, 53, 35, 37, 53, 43, 47, 37, 50, 39, 33, 32, 29, 44, 28, 58, 43, 20, 21, 36, 47, 22, 41, 28, 39, 27, 34, 42, 33, 58, 31, 35, 49, 48, 31, 36, 38, 32, 25, 40, 26, 41, 36, 19, 20, 31, 40, 32, 36, 33, 37, 45, 29, 35, 52, 58, 53, 30, 38, 35, 39, 40, 47, 36, 31, 33, 29, 33, 45, 50, 33, 41, 27, 45, 47, 30, 50, 38, 46, 24, 35, 31, 18, 54, 35, 30, 20, 30, 26, 22, 48, 48, 41, 39, 27, 35, 42, 50, 59, 37, 55, 41, 38, 26, 52, 44, 50, 36, 39, 33, 45, 32, 34, 59, 45, 53, 36, 26, 34, 28, 38, 50, 37, 40, 26, 46, 54, 56, 36, 55, 43, 20, 21, 46, 51, 28, 26, 30, 41, 38, 40, 27, 55, 28, 44, 33, 35, 33, 28, 34, 37, 25, 26, 33, 42, 28, 50, 33, 34, 48, 45, 52, 38, 29, 28, 46, 38, 43, 39, 40, 21, 39, 36, 31, 28, 35, 49, 34, 29, 42, 29, 38, 28, 18, 33, 41, 31, 37, 27, 34, 35, 29, 40, 42, 42, 35, 24, 28, 26, 30, 40, 35, 34, 35, 43, 32, 56, 29, 19, 45, 37, 20, 44, 53, 29, 22, 46, 44, 33, 41, 30, 40, 50, 28, 46, 35, 24, 33, 36, 30, 44, 20, 46, 42, 60, 32, 32, 36, 33, 40, 25, 30, 42, 35, 27, 54, 44, 19, 29, 54, 31, 31, 59, 43, 49, 36, 48, 27, 29, 48, 29, 34, 44, 33, 19, 23, 25, 26, 45, 55, 21, 46, 34, 51, 59, 34, 28, 44, 34, 35, 42, 43, 36, 44, 28, 51, 30, 29, 28, 25, 32, 45, 39, 58, 32, 39, 30, 36, 46, 28, 50, 40, 52, 30, 39, 31, 41, 31, 44, 42, 55, 56, 40, 34, 40, 41, 35, 51, 38, 34, 25, 58, 40, 36, 48, 27, 51, 18, 35, 27, 55, 56, 34, 40, 34, 31, 35, 38, 34, 28, 31, 39, 51, 41, 37, 33, 32, 39, 25, 52, 43, 27, 27, 26, 42, 52, 37, 35, 25, 26, 29, 49, 29, 54, 58, 55, 36, 31, 30, 31, 34, 31, 27, 36, 36, 47, 25, 37, 56, 47, 24, 32, 34, 41, 40, 31, 46, 39, 31, 45, 31, 31, 45, 48, 34, 40, 28, 44, 53, 49, 40, 44, 33, 34, 30, 42, 44, 30, 57, 49, 34, 28, 29, 34, 35, 24, 24, 44, 29, 30, 55, 33, 47, 28, 28, 28, 49, 29, 28, 33, 32, 54, 29, 44, 39, 46, 35, 23, 40, 34, 31, 50, 34, 42, 37, 29, 33, 45, 42, 40, 33, 40, 24, 40, 45, 35, 32, 36, 48, 29, 33, 30, 38, 35, 30, 35, 53, 38, 32, 48, 34, 55, 34, 26, 38, 38, 36, 29, 35, 39, 29, 50, 23, 36, 42, 35, 34, 40, 43, 35, 46, 28, 22, 50, 32, 44, 30, 45, 45, 31, 36, 34, 49, 39, 27, 35, 28, 21, 18, 47, 39, 40, 35, 37, 39, 45, 38, 35, 37, 40, 44, 48, 35, 24, 27, 27, 40, 29, 36, 25, 39, 49, 50, 20, 34, 36, 49, 36, 36, 54, 43, 35, 38, 29, 33, 32, 31, 49, 38, 47, 49, 41, 20, 33, 36, 44, 23, 38, 53, 48, 32, 26, 55, 34, 60, 33, 37, 34, 23, 44, 35, 43, 24, 41, 29, 36, 45, 24, 47, 26, 45, 32, 31, 41, 40, 24, 46, 35, 30, 47, 46, 36, 32, 23, 31, 39, 32, 40, 45, 30, 24, 30, 31, 27, 29, 29, 30, 34, 33, 49, 33, 38, 31, 29, 30, 32, 38, 43, 42, 55, 33, 41, 34, 53, 43, 34, 21, 38, 22, 31, 51, 37, 46, 36, 44, 37, 35, 33, 28, 39, 46, 40, 42, 35, 38, 34, 37, 39, 43, 41, 41, 30, 26, 46, 40, 34, 58, 35, 47, 40, 54, 31, 28, 38, 26, 58, 18, 31, 29, 45, 36, 43, 27, 29, 32, 42, 47, 46, 28, 29, 42, 32, 46, 27, 29, 43, 48, 29, 46, 27, 39, 55, 28, 30, 22, 36, 31, 34, 29, 37, 35, 45, 36, 40, 26, 27, 48, 44, 34, 56, 36, 41, 42, 31, 34, 31, 26, 45, 33, 28, 29, 39, 27, 34, 28, 47, 56, 39, 38, 58, 32, 38, 49, 42, 27, 35, 28, 31, 36, 34, 34, 26, 29, 32, 31, 28, 38, 35, 27, 32, 31, 53, 54, 33, 43, 38, 55, 31, 39, 42, 31, 54, 24, 23, 40, 40, 25, 30, 25, 47, 33, 38, 31, 38, 42, 41, 47, 35, 22, 35, 33, 32, 40, 32, 39, 38, 32, 37, 25, 52, 44, 21, 39, 23, 36, 36, 56, 29, 42, 56, 41, 34, 36, 41, 32, 35, 38, 50, 36, 45, 40, 35, 40, 35, 29, 29, 50, 39, 31, 26, 36, 39, 27, 49, 34]}, {\"box\": {\"visible\": true}, \"name\": \"YearsAtCompany\", \"points\": \"all\", \"type\": \"violin\", \"y\": [6, 10, 0, 8, 2, 7, 1, 1, 9, 7, 5, 9, 5, 2, 4, 10, 6, 1, 25, 3, 4, 5, 12, 0, 4, 14, 10, 9, 22, 2, 1, 4, 10, 1, 2, 5, 3, 2, 1, 5, 1, 1, 1, 9, 12, 22, 9, 1, 9, 1, 1, 2, 4, 4, 2, 15, 9, 2, 7, 7, 9, 10, 27, 21, 17, 5, 6, 1, 3, 1, 4, 5, 1, 10, 1, 11, 15, 0, 5, 4, 10, 6, 1, 13, 5, 6, 0, 4, 11, 9, 22, 10, 11, 10, 11, 4, 3, 5, 37, 3, 3, 1, 1, 16, 1, 3, 8, 6, 2, 0, 13, 9, 5, 5, 1, 5, 11, 9, 1, 25, 10, 7, 5, 20, 7, 5, 40, 0, 2, 15, 3, 2, 2, 9, 8, 3, 4, 15, 2, 11, 5, 6, 3, 5, 8, 3, 5, 7, 5, 1, 20, 10, 7, 17, 9, 10, 1, 1, 12, 4, 2, 2, 5, 5, 1, 5, 9, 10, 8, 5, 5, 0, 8, 12, 5, 2, 3, 1, 24, 2, 4, 3, 4, 3, 4, 8, 20, 24, 10, 7, 33, 7, 1, 5, 20, 8, 6, 5, 1, 7, 2, 7, 5, 7, 1, 10, 4, 8, 3, 4, 14, 11, 7, 10, 5, 1, 6, 6, 19, 6, 13, 3, 10, 16, 5, 1, 9, 11, 10, 4, 2, 22, 2, 7, 5, 17, 9, 33, 4, 3, 3, 3, 1, 9, 24, 2, 2, 11, 3, 3, 1, 19, 6, 3, 3, 4, 9, 21, 1, 5, 5, 8, 6, 7, 0, 0, 9, 6, 20, 15, 36, 10, 5, 5, 3, 5, 7, 8, 6, 10, 5, 20, 10, 10, 5, 17, 1, 2, 3, 5, 3, 8, 2, 8, 4, 20, 0, 11, 1, 4, 22, 0, 8, 8, 18, 9, 13, 10, 5, 5, 2, 24, 2, 10, 21, 8, 7, 8, 4, 13, 5, 7, 7, 3, 10, 10, 21, 1, 7, 3, 9, 5, 4, 1, 10, 4, 7, 3, 10, 8, 6, 11, 11, 7, 16, 4, 5, 0, 1, 4, 3, 8, 0, 7, 2, 8, 1, 3, 1, 13, 3, 7, 3, 1, 5, 1, 8, 4, 6, 2, 1, 3, 1, 5, 7, 5, 7, 2, 5, 5, 5, 1, 6, 2, 10, 1, 18, 5, 5, 1, 25, 1, 4, 3, 13, 3, 5, 5, 13, 4, 21, 7, 5, 10, 10, 2, 5, 2, 5, 5, 5, 29, 10, 6, 5, 2, 1, 20, 3, 5, 10, 2, 1, 9, 1, 27, 11, 18, 5, 3, 5, 1, 7, 3, 13, 7, 4, 3, 8, 1, 3, 2, 10, 2, 9, 10, 14, 11, 20, 8, 6, 10, 8, 7, 3, 6, 5, 0, 1, 8, 0, 5, 10, 1, 6, 2, 18, 9, 10, 4, 2, 1, 6, 31, 6, 5, 1, 32, 7, 6, 1, 6, 3, 3, 7, 5, 3, 1, 10, 1, 0, 8, 3, 2, 8, 4, 3, 2, 2, 5, 6, 1, 14, 10, 1, 3, 10, 6, 17, 13, 9, 3, 4, 1, 10, 1, 3, 3, 7, 10, 2, 6, 1, 20, 8, 2, 20, 10, 4, 9, 9, 7, 7, 18, 5, 21, 2, 9, 22, 2, 7, 8, 1, 5, 22, 8, 1, 2, 2, 5, 4, 8, 10, 4, 7, 2, 2, 1, 10, 1, 0, 34, 10, 6, 8, 2, 5, 6, 5, 10, 4, 2, 8, 4, 4, 5, 4, 5, 15, 6, 3, 2, 8, 3, 24, 0, 1, 5, 4, 1, 13, 3, 26, 9, 10, 31, 2, 4, 2, 5, 14, 1, 0, 1, 9, 4, 5, 9, 9, 4, 9, 8, 8, 3, 8, 0, 20, 5, 4, 9, 6, 18, 5, 5, 5, 5, 5, 9, 1, 5, 2, 3, 2, 5, 5, 17, 10, 3, 5, 4, 5, 10, 2, 5, 6, 3, 2, 13, 5, 12, 5, 7, 10, 31, 5, 4, 1, 4, 8, 4, 1, 1, 2, 1, 16, 3, 3, 7, 2, 2, 1, 1, 5, 3, 6, 7, 10, 26, 0, 9, 6, 15, 3, 1, 1, 7, 18, 11, 1, 1, 9, 1, 8, 16, 5, 14, 9, 3, 5, 9, 1, 17, 8, 5, 10, 8, 1, 19, 7, 3, 10, 0, 3, 5, 5, 6, 18, 2, 9, 9, 5, 12, 2, 8, 4, 4, 4, 0, 10, 16, 8, 1, 3, 8, 4, 2, 15, 2, 21, 3, 3, 1, 1, 5, 1, 8, 21, 1, 2, 32, 12, 18, 17, 21, 2, 9, 8, 15, 6, 6, 15, 1, 3, 1, 1, 2, 8, 4, 7, 5, 2, 9, 5, 14, 9, 1, 2, 1, 16, 10, 10, 5, 6, 10, 19, 11, 3, 3, 8, 20, 3, 8, 13, 4, 6, 1, 7, 1, 2, 22, 1, 0, 3, 0, 5, 15, 8, 8, 7, 9, 12, 1, 8, 18, 20, 2, 5, 11, 2, 5, 5, 9, 3, 7, 1, 10, 7, 3, 0, 5, 1, 2, 6, 4, 6, 5, 11, 18, 21, 6, 8, 4, 1, 8, 10, 1, 7, 13, 2, 4, 1, 5, 10, 1, 3, 14, 2, 6, 7, 5, 0, 26, 0, 5, 1, 4, 0, 2, 6, 4, 7, 1, 10, 7, 10, 20, 2, 6, 4, 11, 2, 8, 7, 14, 5, 4, 11, 1, 13, 9, 5, 10, 1, 3, 10, 6, 10, 6, 8, 1, 11, 1, 5, 6, 1, 7, 1, 22, 9, 1, 1, 1, 8, 24, 33, 2, 11, 3, 29, 9, 11, 4, 25, 10, 3, 1, 21, 16, 10, 2, 7, 8, 7, 3, 2, 10, 0, 19, 2, 10, 5, 9, 7, 7, 9, 3, 5, 8, 9, 8, 10, 19, 3, 3, 20, 19, 7, 4, 9, 9, 9, 9, 33, 7, 10, 3, 10, 4, 15, 10, 1, 5, 0, 9, 6, 19, 19, 5, 12, 8, 1, 4, 4, 14, 5, 10, 5, 4, 6, 6, 5, 3, 6, 3, 5, 20, 6, 8, 4, 20, 5, 3, 2, 3, 7, 10, 4, 8, 20, 9, 7, 5, 1, 3, 3, 4, 1, 5, 10, 3, 6, 3, 6, 3, 20, 5, 4, 5, 4, 8, 13, 7, 1, 10, 7, 3, 2, 3, 2, 2, 9, 5, 5, 9, 3, 3, 5, 4, 13, 2, 12, 1, 1, 12, 8, 14, 3, 5, 15, 1, 0, 1, 2, 10, 5, 3, 5, 5, 0, 1, 4, 3, 3, 8, 0, 5, 14, 9, 20, 2, 13, 11, 4, 5, 10, 7, 32, 11, 1, 10, 7, 5, 5, 20, 8, 15, 21, 1, 2, 10, 5, 7, 3, 8, 1, 2, 10, 6, 3, 4, 1, 33, 5, 6, 8, 1, 36, 2, 1, 9, 3, 1, 10, 5, 7, 6, 1, 2, 3, 1, 10, 8, 5, 6, 1, 26, 1, 4, 30, 3, 22, 6, 10, 10, 5, 3, 9, 9, 7, 7, 16, 5, 2, 0, 5, 10, 18, 14, 4, 9, 10, 5, 13, 8, 4, 10, 2, 2, 6, 3, 4, 4, 5, 3, 7, 5, 4, 14, 2, 11, 4, 15, 3, 5, 10, 14, 11, 13, 10, 6, 9, 10, 2, 4, 3, 8, 2, 2, 6, 3, 2, 5, 0, 4, 9, 1, 7, 4, 15, 1, 14, 6, 10, 3, 8, 5, 10, 5, 10, 5, 13, 23, 1, 23, 3, 21, 5, 5, 3, 1, 6, 10, 7, 10, 1, 10, 2, 0, 3, 5, 9, 4, 21, 5, 9, 2, 4, 5, 6, 2, 3, 7, 5, 11, 5, 0, 6, 1, 1, 7, 7, 1, 1, 5, 1, 9, 5, 15, 3, 9, 2, 1, 5, 1, 12, 2, 5, 2, 12, 5, 10, 10, 10, 5, 4, 2, 4, 0, 7, 11, 7, 10, 2, 3, 3, 22, 7, 5, 9, 5, 10, 16, 5, 22, 7, 7, 3, 3, 4, 5, 2, 0, 1, 2, 8, 1, 7, 5, 11, 0, 6, 2, 9, 3, 7, 0, 2, 19, 9, 1, 16, 22, 1, 8, 7, 2, 5, 1, 1, 1, 10, 10, 5, 3, 5, 3, 9, 10, 19, 1, 8, 22, 2, 5, 4, 4, 5, 13, 5, 4, 2, 7, 4, 10, 7, 1, 3, 5, 15, 2, 8, 0, 10, 20, 1, 4, 5, 5, 0, 1, 5, 5, 4, 5, 14, 8, 7, 5, 5, 10, 4, 1, 10, 7, 1, 10, 2, 4, 9, 10, 6, 10, 1, 20, 20, 11, 5, 4, 5, 10, 11, 2, 12, 2, 17, 1, 15, 2, 8, 4, 5, 13, 2, 3, 10, 9, 6, 1, 2, 7, 18, 14, 16, 5, 9, 4, 2, 6, 1, 9, 4, 13, 2, 22, 10, 20, 8, 15, 5, 4, 9, 10, 6, 6, 5, 2, 10, 5, 4, 4, 5, 3, 20, 9, 4, 5, 7, 6, 9, 4]}],\n",
              "                        {\"autosize\": false, \"height\": 500, \"template\": {\"data\": {\"bar\": [{\"error_x\": {\"color\": \"#2a3f5f\"}, \"error_y\": {\"color\": \"#2a3f5f\"}, \"marker\": {\"line\": {\"color\": \"#E5ECF6\", \"width\": 0.5}}, \"type\": \"bar\"}], \"barpolar\": [{\"marker\": {\"line\": {\"color\": \"#E5ECF6\", \"width\": 0.5}}, \"type\": \"barpolar\"}], \"carpet\": [{\"aaxis\": {\"endlinecolor\": \"#2a3f5f\", \"gridcolor\": \"white\", \"linecolor\": \"white\", \"minorgridcolor\": \"white\", \"startlinecolor\": \"#2a3f5f\"}, \"baxis\": {\"endlinecolor\": \"#2a3f5f\", \"gridcolor\": \"white\", \"linecolor\": \"white\", \"minorgridcolor\": \"white\", \"startlinecolor\": \"#2a3f5f\"}, \"type\": \"carpet\"}], \"choropleth\": [{\"colorbar\": {\"outlinewidth\": 0, \"ticks\": \"\"}, \"type\": \"choropleth\"}], \"contour\": [{\"colorbar\": {\"outlinewidth\": 0, \"ticks\": \"\"}, \"colorscale\": [[0.0, \"#0d0887\"], [0.1111111111111111, \"#46039f\"], [0.2222222222222222, \"#7201a8\"], [0.3333333333333333, \"#9c179e\"], [0.4444444444444444, \"#bd3786\"], [0.5555555555555556, \"#d8576b\"], [0.6666666666666666, \"#ed7953\"], [0.7777777777777778, \"#fb9f3a\"], [0.8888888888888888, \"#fdca26\"], [1.0, \"#f0f921\"]], \"type\": \"contour\"}], \"contourcarpet\": [{\"colorbar\": {\"outlinewidth\": 0, \"ticks\": \"\"}, \"type\": \"contourcarpet\"}], \"heatmap\": [{\"colorbar\": {\"outlinewidth\": 0, \"ticks\": \"\"}, \"colorscale\": [[0.0, \"#0d0887\"], [0.1111111111111111, \"#46039f\"], [0.2222222222222222, \"#7201a8\"], [0.3333333333333333, \"#9c179e\"], [0.4444444444444444, \"#bd3786\"], [0.5555555555555556, \"#d8576b\"], [0.6666666666666666, \"#ed7953\"], [0.7777777777777778, \"#fb9f3a\"], [0.8888888888888888, \"#fdca26\"], [1.0, \"#f0f921\"]], \"type\": \"heatmap\"}], \"heatmapgl\": [{\"colorbar\": {\"outlinewidth\": 0, \"ticks\": \"\"}, \"colorscale\": [[0.0, \"#0d0887\"], [0.1111111111111111, \"#46039f\"], [0.2222222222222222, \"#7201a8\"], [0.3333333333333333, \"#9c179e\"], [0.4444444444444444, \"#bd3786\"], [0.5555555555555556, \"#d8576b\"], [0.6666666666666666, \"#ed7953\"], [0.7777777777777778, \"#fb9f3a\"], [0.8888888888888888, \"#fdca26\"], [1.0, \"#f0f921\"]], \"type\": \"heatmapgl\"}], \"histogram\": [{\"marker\": {\"colorbar\": {\"outlinewidth\": 0, \"ticks\": \"\"}}, \"type\": \"histogram\"}], \"histogram2d\": [{\"colorbar\": {\"outlinewidth\": 0, \"ticks\": \"\"}, \"colorscale\": [[0.0, \"#0d0887\"], [0.1111111111111111, \"#46039f\"], [0.2222222222222222, \"#7201a8\"], [0.3333333333333333, \"#9c179e\"], [0.4444444444444444, \"#bd3786\"], [0.5555555555555556, \"#d8576b\"], [0.6666666666666666, \"#ed7953\"], [0.7777777777777778, \"#fb9f3a\"], [0.8888888888888888, \"#fdca26\"], [1.0, \"#f0f921\"]], \"type\": \"histogram2d\"}], \"histogram2dcontour\": [{\"colorbar\": {\"outlinewidth\": 0, \"ticks\": \"\"}, \"colorscale\": [[0.0, \"#0d0887\"], [0.1111111111111111, \"#46039f\"], [0.2222222222222222, \"#7201a8\"], [0.3333333333333333, \"#9c179e\"], [0.4444444444444444, \"#bd3786\"], [0.5555555555555556, \"#d8576b\"], [0.6666666666666666, \"#ed7953\"], [0.7777777777777778, \"#fb9f3a\"], [0.8888888888888888, \"#fdca26\"], [1.0, \"#f0f921\"]], \"type\": \"histogram2dcontour\"}], \"mesh3d\": [{\"colorbar\": {\"outlinewidth\": 0, \"ticks\": \"\"}, \"type\": \"mesh3d\"}], \"parcoords\": [{\"line\": {\"colorbar\": {\"outlinewidth\": 0, \"ticks\": \"\"}}, \"type\": \"parcoords\"}], \"pie\": [{\"automargin\": true, \"type\": \"pie\"}], \"scatter\": [{\"marker\": {\"colorbar\": {\"outlinewidth\": 0, \"ticks\": \"\"}}, \"type\": \"scatter\"}], \"scatter3d\": [{\"line\": {\"colorbar\": {\"outlinewidth\": 0, \"ticks\": \"\"}}, \"marker\": {\"colorbar\": {\"outlinewidth\": 0, \"ticks\": \"\"}}, \"type\": \"scatter3d\"}], \"scattercarpet\": [{\"marker\": {\"colorbar\": {\"outlinewidth\": 0, \"ticks\": \"\"}}, \"type\": \"scattercarpet\"}], \"scattergeo\": [{\"marker\": {\"colorbar\": {\"outlinewidth\": 0, \"ticks\": \"\"}}, \"type\": \"scattergeo\"}], \"scattergl\": [{\"marker\": {\"colorbar\": {\"outlinewidth\": 0, \"ticks\": \"\"}}, \"type\": \"scattergl\"}], \"scattermapbox\": [{\"marker\": {\"colorbar\": {\"outlinewidth\": 0, \"ticks\": \"\"}}, \"type\": \"scattermapbox\"}], \"scatterpolar\": [{\"marker\": {\"colorbar\": {\"outlinewidth\": 0, \"ticks\": \"\"}}, \"type\": \"scatterpolar\"}], \"scatterpolargl\": [{\"marker\": {\"colorbar\": {\"outlinewidth\": 0, \"ticks\": \"\"}}, \"type\": \"scatterpolargl\"}], \"scatterternary\": [{\"marker\": {\"colorbar\": {\"outlinewidth\": 0, \"ticks\": \"\"}}, \"type\": \"scatterternary\"}], \"surface\": [{\"colorbar\": {\"outlinewidth\": 0, \"ticks\": \"\"}, \"colorscale\": [[0.0, \"#0d0887\"], [0.1111111111111111, \"#46039f\"], [0.2222222222222222, \"#7201a8\"], [0.3333333333333333, \"#9c179e\"], [0.4444444444444444, \"#bd3786\"], [0.5555555555555556, \"#d8576b\"], [0.6666666666666666, \"#ed7953\"], [0.7777777777777778, \"#fb9f3a\"], [0.8888888888888888, \"#fdca26\"], [1.0, \"#f0f921\"]], \"type\": \"surface\"}], \"table\": [{\"cells\": {\"fill\": {\"color\": \"#EBF0F8\"}, \"line\": {\"color\": \"white\"}}, \"header\": {\"fill\": {\"color\": \"#C8D4E3\"}, \"line\": {\"color\": \"white\"}}, \"type\": \"table\"}]}, \"layout\": {\"annotationdefaults\": {\"arrowcolor\": \"#2a3f5f\", \"arrowhead\": 0, \"arrowwidth\": 1}, \"coloraxis\": {\"colorbar\": {\"outlinewidth\": 0, \"ticks\": \"\"}}, \"colorscale\": {\"diverging\": [[0, \"#8e0152\"], [0.1, \"#c51b7d\"], [0.2, \"#de77ae\"], [0.3, \"#f1b6da\"], [0.4, \"#fde0ef\"], [0.5, \"#f7f7f7\"], [0.6, \"#e6f5d0\"], [0.7, \"#b8e186\"], [0.8, \"#7fbc41\"], [0.9, \"#4d9221\"], [1, \"#276419\"]], \"sequential\": [[0.0, \"#0d0887\"], [0.1111111111111111, \"#46039f\"], [0.2222222222222222, \"#7201a8\"], [0.3333333333333333, \"#9c179e\"], [0.4444444444444444, \"#bd3786\"], [0.5555555555555556, \"#d8576b\"], [0.6666666666666666, \"#ed7953\"], [0.7777777777777778, \"#fb9f3a\"], [0.8888888888888888, \"#fdca26\"], [1.0, \"#f0f921\"]], \"sequentialminus\": [[0.0, \"#0d0887\"], [0.1111111111111111, \"#46039f\"], [0.2222222222222222, \"#7201a8\"], [0.3333333333333333, \"#9c179e\"], [0.4444444444444444, \"#bd3786\"], [0.5555555555555556, \"#d8576b\"], [0.6666666666666666, \"#ed7953\"], [0.7777777777777778, \"#fb9f3a\"], [0.8888888888888888, \"#fdca26\"], [1.0, \"#f0f921\"]]}, \"colorway\": [\"#636efa\", \"#EF553B\", \"#00cc96\", \"#ab63fa\", \"#FFA15A\", \"#19d3f3\", \"#FF6692\", \"#B6E880\", \"#FF97FF\", \"#FECB52\"], \"font\": {\"color\": \"#2a3f5f\"}, \"geo\": {\"bgcolor\": \"white\", \"lakecolor\": \"white\", \"landcolor\": \"#E5ECF6\", \"showlakes\": true, \"showland\": true, \"subunitcolor\": \"white\"}, \"hoverlabel\": {\"align\": \"left\"}, \"hovermode\": \"closest\", \"mapbox\": {\"style\": \"light\"}, \"paper_bgcolor\": \"white\", \"plot_bgcolor\": \"#E5ECF6\", \"polar\": {\"angularaxis\": {\"gridcolor\": \"white\", \"linecolor\": \"white\", \"ticks\": \"\"}, \"bgcolor\": \"#E5ECF6\", \"radialaxis\": {\"gridcolor\": \"white\", \"linecolor\": \"white\", \"ticks\": \"\"}}, \"scene\": {\"xaxis\": {\"backgroundcolor\": \"#E5ECF6\", \"gridcolor\": \"white\", \"gridwidth\": 2, \"linecolor\": \"white\", \"showbackground\": true, \"ticks\": \"\", \"zerolinecolor\": \"white\"}, \"yaxis\": {\"backgroundcolor\": \"#E5ECF6\", \"gridcolor\": \"white\", \"gridwidth\": 2, \"linecolor\": \"white\", \"showbackground\": true, \"ticks\": \"\", \"zerolinecolor\": \"white\"}, \"zaxis\": {\"backgroundcolor\": \"#E5ECF6\", \"gridcolor\": \"white\", \"gridwidth\": 2, \"linecolor\": \"white\", \"showbackground\": true, \"ticks\": \"\", \"zerolinecolor\": \"white\"}}, \"shapedefaults\": {\"line\": {\"color\": \"#2a3f5f\"}}, \"ternary\": {\"aaxis\": {\"gridcolor\": \"white\", \"linecolor\": \"white\", \"ticks\": \"\"}, \"baxis\": {\"gridcolor\": \"white\", \"linecolor\": \"white\", \"ticks\": \"\"}, \"bgcolor\": \"#E5ECF6\", \"caxis\": {\"gridcolor\": \"white\", \"linecolor\": \"white\", \"ticks\": \"\"}}, \"title\": {\"x\": 0.05}, \"xaxis\": {\"automargin\": true, \"gridcolor\": \"white\", \"linecolor\": \"white\", \"ticks\": \"\", \"title\": {\"standoff\": 15}, \"zerolinecolor\": \"white\", \"zerolinewidth\": 2}, \"yaxis\": {\"automargin\": true, \"gridcolor\": \"white\", \"linecolor\": \"white\", \"ticks\": \"\", \"title\": {\"standoff\": 15}, \"zerolinecolor\": \"white\", \"zerolinewidth\": 2}}}, \"width\": 700},\n",
              "                        {\"responsive\": true}\n",
              "                    ).then(function(){\n",
              "                            \n",
              "var gd = document.getElementById('71211cd3-339d-468c-9e1f-381b1ee3915f');\n",
              "var x = new MutationObserver(function (mutations, observer) {{\n",
              "        var display = window.getComputedStyle(gd).display;\n",
              "        if (!display || display === 'none') {{\n",
              "            console.log([gd, 'removed!']);\n",
              "            Plotly.purge(gd);\n",
              "            observer.disconnect();\n",
              "        }}\n",
              "}});\n",
              "\n",
              "// Listen for the removal of the full notebook cells\n",
              "var notebookContainer = gd.closest('#notebook-container');\n",
              "if (notebookContainer) {{\n",
              "    x.observe(notebookContainer, {childList: true});\n",
              "}}\n",
              "\n",
              "// Listen for the clearing of the current output cell\n",
              "var outputEl = gd.closest('.output');\n",
              "if (outputEl) {{\n",
              "    x.observe(outputEl, {childList: true});\n",
              "}}\n",
              "\n",
              "                        })\n",
              "                };\n",
              "                \n",
              "            </script>\n",
              "        </div>\n",
              "</body>\n",
              "</html>"
            ]
          },
          "metadata": {
            "tags": []
          }
        }
      ]
    },
    {
      "cell_type": "code",
      "metadata": {
        "colab": {
          "base_uri": "https://localhost:8080/",
          "height": 517
        },
        "id": "K9dXMe5VAKTz",
        "outputId": "f1ef8569-1950-4b10-accb-bc09980fae62"
      },
      "source": [
        "# Loyality_boxplot\n",
        "\n",
        "trace0 = go.Violin(\n",
        "    name = \"YearsAtCompany\",\n",
        "    y = preds[\"YearsAtCompany\"],box_visible=True, # draw box plot inside the violin\n",
        "                points='all', # can be 'outliers', or False\n",
        "               )\n",
        "\n",
        "\n",
        "trace1 = go.Violin(\n",
        "    name = \"YearsWithCurrManager\",\n",
        "    y = preds[\"YearsWithCurrManager\"],box_visible=True, # draw box plot inside the violin\n",
        "                points='all', # can be 'outliers', or False\n",
        ")\n",
        "\n",
        "trace2 = go.Violin(\n",
        "    name = \"YearsInCurrentRole\",\n",
        "    y = preds[\"YearsInCurrentRole\"],box_visible=True, # draw box plot inside the violin\n",
        "                points='all', # can be 'outliers', or False\n",
        ")\n",
        "\n",
        "trace3 = go.Violin(\n",
        "    name = \"TotalWorkingYears\",\n",
        "    y = preds[\"TotalWorkingYears\"],box_visible=True, # draw box plot inside the violin\n",
        "                points='all', # can be 'outliers', or False\n",
        ")\n",
        "layout = go.Layout(\n",
        "    autosize=False,\n",
        "    width=700,\n",
        "    height=500\n",
        ")\n",
        "data = [trace0, trace1, trace2,trace3 ]\n",
        "fig = go.Figure(data=data, layout=layout)\n",
        "#plotly.offline.iplot(data)\n",
        "fig.show()"
      ],
      "execution_count": 16,
      "outputs": [
        {
          "output_type": "display_data",
          "data": {
            "text/html": [
              "<html>\n",
              "<head><meta charset=\"utf-8\" /></head>\n",
              "<body>\n",
              "    <div>\n",
              "            <script src=\"https://cdnjs.cloudflare.com/ajax/libs/mathjax/2.7.5/MathJax.js?config=TeX-AMS-MML_SVG\"></script><script type=\"text/javascript\">if (window.MathJax) {MathJax.Hub.Config({SVG: {font: \"STIX-Web\"}});}</script>\n",
              "                <script type=\"text/javascript\">window.PlotlyConfig = {MathJaxConfig: 'local'};</script>\n",
              "        <script src=\"https://cdn.plot.ly/plotly-latest.min.js\"></script>    \n",
              "            <div id=\"961318b1-4b62-47a5-83c0-f42b622cda52\" class=\"plotly-graph-div\" style=\"height:500px; width:700px;\"></div>\n",
              "            <script type=\"text/javascript\">\n",
              "                \n",
              "                    window.PLOTLYENV=window.PLOTLYENV || {};\n",
              "                    \n",
              "                if (document.getElementById(\"961318b1-4b62-47a5-83c0-f42b622cda52\")) {\n",
              "                    Plotly.newPlot(\n",
              "                        '961318b1-4b62-47a5-83c0-f42b622cda52',\n",
              "                        [{\"box\": {\"visible\": true}, \"name\": \"YearsAtCompany\", \"points\": \"all\", \"type\": \"violin\", \"y\": [6, 10, 0, 8, 2, 7, 1, 1, 9, 7, 5, 9, 5, 2, 4, 10, 6, 1, 25, 3, 4, 5, 12, 0, 4, 14, 10, 9, 22, 2, 1, 4, 10, 1, 2, 5, 3, 2, 1, 5, 1, 1, 1, 9, 12, 22, 9, 1, 9, 1, 1, 2, 4, 4, 2, 15, 9, 2, 7, 7, 9, 10, 27, 21, 17, 5, 6, 1, 3, 1, 4, 5, 1, 10, 1, 11, 15, 0, 5, 4, 10, 6, 1, 13, 5, 6, 0, 4, 11, 9, 22, 10, 11, 10, 11, 4, 3, 5, 37, 3, 3, 1, 1, 16, 1, 3, 8, 6, 2, 0, 13, 9, 5, 5, 1, 5, 11, 9, 1, 25, 10, 7, 5, 20, 7, 5, 40, 0, 2, 15, 3, 2, 2, 9, 8, 3, 4, 15, 2, 11, 5, 6, 3, 5, 8, 3, 5, 7, 5, 1, 20, 10, 7, 17, 9, 10, 1, 1, 12, 4, 2, 2, 5, 5, 1, 5, 9, 10, 8, 5, 5, 0, 8, 12, 5, 2, 3, 1, 24, 2, 4, 3, 4, 3, 4, 8, 20, 24, 10, 7, 33, 7, 1, 5, 20, 8, 6, 5, 1, 7, 2, 7, 5, 7, 1, 10, 4, 8, 3, 4, 14, 11, 7, 10, 5, 1, 6, 6, 19, 6, 13, 3, 10, 16, 5, 1, 9, 11, 10, 4, 2, 22, 2, 7, 5, 17, 9, 33, 4, 3, 3, 3, 1, 9, 24, 2, 2, 11, 3, 3, 1, 19, 6, 3, 3, 4, 9, 21, 1, 5, 5, 8, 6, 7, 0, 0, 9, 6, 20, 15, 36, 10, 5, 5, 3, 5, 7, 8, 6, 10, 5, 20, 10, 10, 5, 17, 1, 2, 3, 5, 3, 8, 2, 8, 4, 20, 0, 11, 1, 4, 22, 0, 8, 8, 18, 9, 13, 10, 5, 5, 2, 24, 2, 10, 21, 8, 7, 8, 4, 13, 5, 7, 7, 3, 10, 10, 21, 1, 7, 3, 9, 5, 4, 1, 10, 4, 7, 3, 10, 8, 6, 11, 11, 7, 16, 4, 5, 0, 1, 4, 3, 8, 0, 7, 2, 8, 1, 3, 1, 13, 3, 7, 3, 1, 5, 1, 8, 4, 6, 2, 1, 3, 1, 5, 7, 5, 7, 2, 5, 5, 5, 1, 6, 2, 10, 1, 18, 5, 5, 1, 25, 1, 4, 3, 13, 3, 5, 5, 13, 4, 21, 7, 5, 10, 10, 2, 5, 2, 5, 5, 5, 29, 10, 6, 5, 2, 1, 20, 3, 5, 10, 2, 1, 9, 1, 27, 11, 18, 5, 3, 5, 1, 7, 3, 13, 7, 4, 3, 8, 1, 3, 2, 10, 2, 9, 10, 14, 11, 20, 8, 6, 10, 8, 7, 3, 6, 5, 0, 1, 8, 0, 5, 10, 1, 6, 2, 18, 9, 10, 4, 2, 1, 6, 31, 6, 5, 1, 32, 7, 6, 1, 6, 3, 3, 7, 5, 3, 1, 10, 1, 0, 8, 3, 2, 8, 4, 3, 2, 2, 5, 6, 1, 14, 10, 1, 3, 10, 6, 17, 13, 9, 3, 4, 1, 10, 1, 3, 3, 7, 10, 2, 6, 1, 20, 8, 2, 20, 10, 4, 9, 9, 7, 7, 18, 5, 21, 2, 9, 22, 2, 7, 8, 1, 5, 22, 8, 1, 2, 2, 5, 4, 8, 10, 4, 7, 2, 2, 1, 10, 1, 0, 34, 10, 6, 8, 2, 5, 6, 5, 10, 4, 2, 8, 4, 4, 5, 4, 5, 15, 6, 3, 2, 8, 3, 24, 0, 1, 5, 4, 1, 13, 3, 26, 9, 10, 31, 2, 4, 2, 5, 14, 1, 0, 1, 9, 4, 5, 9, 9, 4, 9, 8, 8, 3, 8, 0, 20, 5, 4, 9, 6, 18, 5, 5, 5, 5, 5, 9, 1, 5, 2, 3, 2, 5, 5, 17, 10, 3, 5, 4, 5, 10, 2, 5, 6, 3, 2, 13, 5, 12, 5, 7, 10, 31, 5, 4, 1, 4, 8, 4, 1, 1, 2, 1, 16, 3, 3, 7, 2, 2, 1, 1, 5, 3, 6, 7, 10, 26, 0, 9, 6, 15, 3, 1, 1, 7, 18, 11, 1, 1, 9, 1, 8, 16, 5, 14, 9, 3, 5, 9, 1, 17, 8, 5, 10, 8, 1, 19, 7, 3, 10, 0, 3, 5, 5, 6, 18, 2, 9, 9, 5, 12, 2, 8, 4, 4, 4, 0, 10, 16, 8, 1, 3, 8, 4, 2, 15, 2, 21, 3, 3, 1, 1, 5, 1, 8, 21, 1, 2, 32, 12, 18, 17, 21, 2, 9, 8, 15, 6, 6, 15, 1, 3, 1, 1, 2, 8, 4, 7, 5, 2, 9, 5, 14, 9, 1, 2, 1, 16, 10, 10, 5, 6, 10, 19, 11, 3, 3, 8, 20, 3, 8, 13, 4, 6, 1, 7, 1, 2, 22, 1, 0, 3, 0, 5, 15, 8, 8, 7, 9, 12, 1, 8, 18, 20, 2, 5, 11, 2, 5, 5, 9, 3, 7, 1, 10, 7, 3, 0, 5, 1, 2, 6, 4, 6, 5, 11, 18, 21, 6, 8, 4, 1, 8, 10, 1, 7, 13, 2, 4, 1, 5, 10, 1, 3, 14, 2, 6, 7, 5, 0, 26, 0, 5, 1, 4, 0, 2, 6, 4, 7, 1, 10, 7, 10, 20, 2, 6, 4, 11, 2, 8, 7, 14, 5, 4, 11, 1, 13, 9, 5, 10, 1, 3, 10, 6, 10, 6, 8, 1, 11, 1, 5, 6, 1, 7, 1, 22, 9, 1, 1, 1, 8, 24, 33, 2, 11, 3, 29, 9, 11, 4, 25, 10, 3, 1, 21, 16, 10, 2, 7, 8, 7, 3, 2, 10, 0, 19, 2, 10, 5, 9, 7, 7, 9, 3, 5, 8, 9, 8, 10, 19, 3, 3, 20, 19, 7, 4, 9, 9, 9, 9, 33, 7, 10, 3, 10, 4, 15, 10, 1, 5, 0, 9, 6, 19, 19, 5, 12, 8, 1, 4, 4, 14, 5, 10, 5, 4, 6, 6, 5, 3, 6, 3, 5, 20, 6, 8, 4, 20, 5, 3, 2, 3, 7, 10, 4, 8, 20, 9, 7, 5, 1, 3, 3, 4, 1, 5, 10, 3, 6, 3, 6, 3, 20, 5, 4, 5, 4, 8, 13, 7, 1, 10, 7, 3, 2, 3, 2, 2, 9, 5, 5, 9, 3, 3, 5, 4, 13, 2, 12, 1, 1, 12, 8, 14, 3, 5, 15, 1, 0, 1, 2, 10, 5, 3, 5, 5, 0, 1, 4, 3, 3, 8, 0, 5, 14, 9, 20, 2, 13, 11, 4, 5, 10, 7, 32, 11, 1, 10, 7, 5, 5, 20, 8, 15, 21, 1, 2, 10, 5, 7, 3, 8, 1, 2, 10, 6, 3, 4, 1, 33, 5, 6, 8, 1, 36, 2, 1, 9, 3, 1, 10, 5, 7, 6, 1, 2, 3, 1, 10, 8, 5, 6, 1, 26, 1, 4, 30, 3, 22, 6, 10, 10, 5, 3, 9, 9, 7, 7, 16, 5, 2, 0, 5, 10, 18, 14, 4, 9, 10, 5, 13, 8, 4, 10, 2, 2, 6, 3, 4, 4, 5, 3, 7, 5, 4, 14, 2, 11, 4, 15, 3, 5, 10, 14, 11, 13, 10, 6, 9, 10, 2, 4, 3, 8, 2, 2, 6, 3, 2, 5, 0, 4, 9, 1, 7, 4, 15, 1, 14, 6, 10, 3, 8, 5, 10, 5, 10, 5, 13, 23, 1, 23, 3, 21, 5, 5, 3, 1, 6, 10, 7, 10, 1, 10, 2, 0, 3, 5, 9, 4, 21, 5, 9, 2, 4, 5, 6, 2, 3, 7, 5, 11, 5, 0, 6, 1, 1, 7, 7, 1, 1, 5, 1, 9, 5, 15, 3, 9, 2, 1, 5, 1, 12, 2, 5, 2, 12, 5, 10, 10, 10, 5, 4, 2, 4, 0, 7, 11, 7, 10, 2, 3, 3, 22, 7, 5, 9, 5, 10, 16, 5, 22, 7, 7, 3, 3, 4, 5, 2, 0, 1, 2, 8, 1, 7, 5, 11, 0, 6, 2, 9, 3, 7, 0, 2, 19, 9, 1, 16, 22, 1, 8, 7, 2, 5, 1, 1, 1, 10, 10, 5, 3, 5, 3, 9, 10, 19, 1, 8, 22, 2, 5, 4, 4, 5, 13, 5, 4, 2, 7, 4, 10, 7, 1, 3, 5, 15, 2, 8, 0, 10, 20, 1, 4, 5, 5, 0, 1, 5, 5, 4, 5, 14, 8, 7, 5, 5, 10, 4, 1, 10, 7, 1, 10, 2, 4, 9, 10, 6, 10, 1, 20, 20, 11, 5, 4, 5, 10, 11, 2, 12, 2, 17, 1, 15, 2, 8, 4, 5, 13, 2, 3, 10, 9, 6, 1, 2, 7, 18, 14, 16, 5, 9, 4, 2, 6, 1, 9, 4, 13, 2, 22, 10, 20, 8, 15, 5, 4, 9, 10, 6, 6, 5, 2, 10, 5, 4, 4, 5, 3, 20, 9, 4, 5, 7, 6, 9, 4]}, {\"box\": {\"visible\": true}, \"name\": \"YearsWithCurrManager\", \"points\": \"all\", \"type\": \"violin\", \"y\": [5, 7, 0, 0, 2, 6, 0, 0, 8, 7, 3, 8, 3, 2, 3, 8, 5, 0, 7, 2, 3, 3, 11, 0, 3, 8, 7, 2, 17, 1, 0, 3, 8, 0, 0, 4, 2, 2, 0, 3, 0, 0, 1, 7, 7, 8, 7, 0, 8, 1, 0, 2, 3, 3, 0, 12, 8, 2, 7, 7, 8, 9, 8, 9, 8, 2, 3, 0, 2, 0, 3, 4, 0, 9, 0, 8, 8, 0, 2, 2, 0, 4, 0, 9, 3, 2, 0, 3, 8, 7, 11, 0, 7, 5, 7, 3, 2, 4, 8, 2, 2, 0, 0, 10, 0, 2, 7, 3, 1, 0, 8, 6, 4, 2, 0, 3, 8, 8, 0, 12, 9, 7, 3, 15, 7, 3, 6, 0, 1, 11, 2, 1, 2, 7, 7, 1, 3, 9, 2, 7, 4, 3, 2, 4, 7, 2, 2, 7, 4, 0, 13, 6, 5, 15, 7, 9, 0, 0, 11, 2, 2, 2, 2, 4, 1, 4, 8, 4, 7, 4, 1, 0, 2, 10, 3, 2, 2, 0, 7, 1, 2, 2, 2, 2, 3, 6, 9, 15, 9, 0, 9, 3, 1, 2, 8, 7, 2, 2, 0, 7, 0, 7, 0, 7, 0, 9, 2, 7, 2, 3, 8, 8, 7, 7, 4, 0, 1, 5, 8, 5, 7, 1, 7, 13, 4, 0, 8, 1, 8, 1, 2, 15, 2, 6, 4, 9, 7, 12, 2, 2, 2, 2, 0, 7, 7, 2, 2, 9, 2, 2, 0, 8, 5, 2, 2, 2, 8, 9, 0, 4, 3, 5, 4, 7, 0, 0, 8, 5, 10, 11, 13, 9, 4, 1, 0, 2, 2, 7, 4, 6, 3, 6, 9, 8, 3, 7, 0, 2, 2, 2, 2, 7, 2, 4, 2, 8, 0, 9, 0, 2, 4, 0, 7, 7, 7, 8, 8, 1, 2, 3, 0, 11, 2, 8, 10, 7, 7, 7, 2, 9, 4, 7, 7, 2, 9, 9, 3, 0, 1, 1, 0, 4, 3, 0, 8, 2, 7, 2, 2, 7, 4, 9, 10, 7, 13, 2, 2, 0, 0, 2, 0, 7, 0, 7, 2, 7, 0, 2, 0, 12, 2, 7, 2, 0, 3, 0, 7, 3, 0, 2, 0, 2, 0, 4, 7, 0, 7, 2, 4, 2, 3, 0, 4, 2, 0, 0, 17, 3, 2, 1, 9, 0, 2, 2, 12, 2, 2, 3, 7, 2, 6, 7, 4, 7, 8, 2, 4, 2, 4, 2, 2, 10, 8, 4, 4, 0, 0, 12, 2, 4, 7, 1, 0, 8, 0, 7, 7, 11, 4, 1, 3, 0, 7, 2, 8, 7, 3, 2, 0, 0, 2, 0, 7, 2, 7, 7, 10, 9, 13, 7, 5, 8, 7, 0, 2, 5, 1, 0, 1, 7, 0, 3, 7, 0, 2, 2, 8, 7, 9, 2, 1, 0, 3, 9, 4, 4, 0, 7, 6, 2, 0, 3, 2, 2, 7, 3, 0, 0, 2, 0, 0, 7, 2, 2, 6, 2, 2, 1, 2, 2, 5, 0, 10, 8, 0, 2, 8, 2, 8, 7, 1, 2, 1, 1, 7, 0, 2, 2, 5, 8, 2, 4, 0, 8, 7, 0, 10, 8, 3, 8, 7, 7, 7, 12, 3, 6, 2, 7, 10, 2, 7, 5, 0, 4, 13, 7, 0, 2, 2, 3, 2, 6, 1, 3, 7, 2, 2, 0, 7, 1, 0, 16, 8, 4, 1, 2, 3, 4, 4, 9, 2, 0, 1, 2, 3, 4, 1, 3, 12, 3, 2, 2, 7, 2, 9, 0, 0, 4, 3, 0, 7, 2, 0, 5, 7, 8, 2, 2, 1, 4, 8, 0, 0, 0, 8, 2, 3, 7, 3, 0, 8, 6, 5, 2, 7, 0, 17, 3, 1, 8, 1, 11, 3, 3, 4, 2, 3, 0, 0, 4, 2, 2, 2, 3, 3, 15, 8, 2, 3, 2, 4, 3, 2, 3, 2, 2, 2, 8, 0, 8, 2, 7, 9, 7, 4, 3, 1, 3, 1, 2, 0, 0, 2, 0, 11, 2, 2, 0, 2, 2, 0, 0, 3, 2, 4, 2, 7, 7, 0, 0, 1, 11, 2, 0, 0, 7, 17, 9, 0, 0, 5, 0, 3, 7, 4, 7, 8, 2, 0, 8, 0, 2, 7, 3, 8, 7, 0, 7, 7, 2, 0, 0, 2, 2, 3, 2, 11, 2, 8, 7, 1, 5, 2, 7, 2, 2, 3, 0, 8, 1, 7, 0, 2, 3, 1, 2, 8, 1, 8, 2, 2, 0, 0, 3, 0, 7, 10, 0, 2, 9, 11, 13, 14, 8, 2, 1, 7, 9, 4, 4, 12, 0, 2, 0, 0, 2, 7, 1, 5, 3, 2, 0, 3, 8, 2, 0, 2, 0, 7, 7, 9, 3, 2, 8, 9, 1, 2, 2, 7, 6, 2, 7, 8, 2, 4, 0, 6, 0, 2, 7, 0, 0, 2, 0, 1, 12, 0, 7, 7, 7, 9, 0, 1, 5, 9, 2, 3, 9, 2, 4, 2, 3, 2, 1, 0, 2, 0, 2, 0, 3, 0, 2, 3, 2, 3, 4, 10, 13, 14, 5, 7, 2, 0, 7, 4, 0, 4, 9, 2, 3, 0, 2, 8, 0, 2, 11, 2, 2, 7, 3, 0, 9, 0, 4, 0, 3, 0, 2, 3, 3, 7, 0, 1, 7, 9, 17, 2, 4, 3, 9, 2, 7, 7, 10, 3, 1, 7, 0, 12, 8, 4, 7, 0, 2, 9, 1, 8, 5, 7, 0, 7, 0, 3, 0, 0, 7, 0, 10, 8, 1, 1, 0, 2, 11, 0, 2, 8, 2, 10, 4, 10, 2, 13, 8, 2, 0, 17, 12, 5, 2, 7, 7, 7, 2, 1, 8, 0, 2, 2, 1, 3, 7, 7, 7, 5, 2, 0, 7, 8, 7, 6, 9, 2, 2, 10, 11, 7, 0, 6, 8, 7, 1, 10, 7, 6, 2, 9, 3, 13, 8, 0, 3, 0, 0, 0, 8, 9, 0, 8, 7, 0, 2, 3, 11, 4, 7, 4, 2, 3, 3, 2, 2, 5, 2, 2, 8, 4, 7, 1, 9, 4, 2, 2, 2, 7, 9, 3, 7, 7, 5, 0, 1, 0, 2, 0, 3, 0, 4, 8, 2, 2, 2, 3, 0, 6, 3, 3, 2, 3, 7, 9, 3, 0, 7, 7, 2, 2, 2, 2, 2, 8, 3, 3, 8, 2, 2, 3, 3, 12, 2, 8, 0, 0, 8, 7, 9, 2, 0, 10, 0, 0, 0, 2, 4, 3, 2, 2, 2, 0, 0, 3, 2, 2, 7, 0, 0, 12, 7, 17, 2, 1, 3, 2, 0, 6, 7, 9, 7, 0, 7, 7, 2, 3, 9, 1, 7, 7, 0, 2, 7, 2, 5, 2, 7, 0, 2, 7, 2, 2, 3, 0, 9, 4, 2, 6, 0, 13, 1, 0, 7, 2, 0, 5, 4, 6, 3, 0, 2, 2, 1, 8, 7, 2, 2, 1, 12, 0, 3, 13, 2, 10, 1, 4, 5, 3, 1, 2, 4, 7, 7, 10, 0, 2, 0, 0, 7, 12, 9, 2, 8, 9, 2, 0, 7, 3, 2, 2, 2, 3, 2, 2, 3, 4, 2, 7, 0, 2, 11, 2, 9, 3, 12, 2, 4, 7, 11, 7, 9, 9, 4, 6, 2, 2, 3, 2, 0, 2, 2, 2, 2, 2, 2, 0, 2, 7, 0, 7, 2, 13, 0, 13, 3, 7, 2, 7, 4, 8, 4, 7, 2, 7, 4, 0, 10, 2, 6, 3, 3, 2, 0, 2, 9, 7, 8, 0, 3, 2, 0, 2, 4, 8, 2, 8, 3, 7, 1, 2, 2, 4, 2, 2, 7, 2, 7, 4, 0, 5, 0, 0, 7, 7, 0, 0, 4, 0, 7, 4, 7, 2, 8, 2, 0, 4, 0, 7, 2, 3, 2, 7, 3, 7, 7, 6, 3, 2, 2, 2, 0, 7, 8, 7, 8, 2, 2, 2, 5, 2, 4, 7, 3, 8, 14, 3, 10, 7, 7, 2, 2, 3, 2, 2, 0, 0, 0, 7, 0, 7, 2, 10, 0, 3, 0, 7, 2, 6, 0, 2, 8, 8, 0, 14, 9, 0, 7, 3, 2, 4, 0, 0, 0, 7, 2, 0, 2, 4, 2, 8, 8, 16, 0, 7, 7, 2, 0, 0, 3, 4, 7, 4, 1, 2, 7, 3, 9, 7, 0, 2, 2, 11, 2, 7, 0, 9, 7, 0, 3, 3, 3, 0, 0, 4, 4, 3, 2, 1, 1, 6, 2, 2, 7, 3, 0, 9, 7, 0, 8, 2, 3, 8, 9, 2, 4, 0, 10, 7, 8, 4, 2, 4, 4, 10, 2, 7, 2, 11, 0, 8, 2, 7, 2, 0, 12, 2, 2, 8, 1, 1, 0, 2, 7, 11, 7, 8, 4, 0, 2, 2, 3, 0, 4, 2, 9, 2, 14, 8, 10, 7, 11, 4, 2, 7, 9, 1, 0, 1, 2, 2, 2, 1, 3, 4, 0, 6, 7, 0, 3, 7, 3, 8, 2]}, {\"box\": {\"visible\": true}, \"name\": \"YearsInCurrentRole\", \"points\": \"all\", \"type\": \"violin\", \"y\": [4, 7, 0, 7, 2, 7, 0, 0, 7, 7, 4, 5, 2, 2, 2, 9, 2, 0, 8, 2, 2, 3, 6, 0, 2, 13, 2, 7, 6, 2, 1, 2, 0, 0, 0, 3, 2, 2, 1, 3, 0, 0, 0, 8, 8, 15, 5, 0, 6, 0, 0, 2, 3, 0, 2, 14, 8, 2, 7, 5, 8, 3, 3, 16, 14, 0, 5, 0, 2, 0, 3, 4, 1, 4, 0, 7, 13, 0, 2, 2, 8, 4, 0, 11, 2, 4, 0, 2, 10, 8, 3, 7, 8, 9, 8, 3, 2, 4, 10, 2, 2, 0, 0, 13, 0, 2, 3, 4, 2, 0, 12, 7, 3, 3, 0, 3, 10, 7, 0, 12, 7, 7, 4, 18, 7, 4, 10, 0, 1, 11, 2, 2, 2, 7, 7, 2, 2, 11, 2, 9, 4, 5, 2, 4, 7, 2, 3, 6, 0, 0, 7, 8, 7, 9, 8, 7, 0, 0, 11, 3, 2, 2, 2, 3, 1, 4, 8, 9, 3, 4, 2, 0, 7, 9, 4, 2, 1, 0, 13, 2, 2, 2, 3, 2, 2, 7, 8, 15, 9, 7, 18, 7, 0, 4, 8, 7, 2, 3, 0, 7, 2, 7, 3, 2, 0, 4, 2, 1, 2, 2, 8, 8, 7, 9, 2, 0, 3, 2, 7, 2, 11, 2, 8, 10, 4, 0, 8, 10, 7, 3, 2, 17, 2, 0, 4, 13, 7, 7, 3, 2, 2, 2, 0, 8, 0, 2, 2, 9, 1, 2, 0, 6, 5, 2, 2, 2, 6, 7, 0, 4, 1, 7, 2, 7, 0, 0, 0, 3, 7, 13, 10, 7, 2, 4, 2, 2, 7, 0, 5, 4, 3, 16, 7, 7, 3, 12, 0, 2, 2, 3, 2, 0, 2, 7, 2, 4, 0, 9, 0, 1, 10, 0, 3, 7, 10, 8, 8, 8, 3, 2, 2, 9, 2, 6, 9, 7, 1, 2, 3, 12, 4, 7, 7, 2, 8, 9, 9, 0, 7, 2, 7, 4, 3, 0, 9, 3, 7, 2, 9, 7, 2, 10, 9, 7, 6, 2, 4, 0, 0, 3, 2, 0, 0, 7, 2, 7, 0, 2, 0, 9, 2, 7, 2, 0, 4, 0, 7, 3, 4, 2, 0, 2, 1, 2, 5, 2, 7, 2, 2, 4, 2, 0, 4, 1, 9, 0, 7, 4, 2, 0, 10, 0, 2, 2, 10, 2, 2, 4, 11, 2, 8, 7, 4, 7, 0, 2, 4, 2, 2, 4, 4, 8, 7, 5, 3, 2, 0, 15, 2, 3, 2, 2, 0, 8, 0, 10, 7, 13, 0, 2, 4, 0, 3, 2, 8, 6, 3, 2, 7, 0, 2, 2, 3, 2, 7, 9, 3, 9, 6, 3, 5, 9, 7, 7, 2, 1, 4, 0, 0, 7, 0, 4, 7, 0, 5, 2, 16, 5, 9, 2, 2, 0, 5, 9, 5, 3, 0, 5, 4, 3, 0, 5, 1, 2, 7, 3, 0, 0, 2, 0, 0, 7, 2, 2, 2, 3, 2, 2, 2, 0, 4, 0, 7, 9, 1, 2, 7, 0, 11, 11, 7, 2, 2, 0, 8, 0, 2, 2, 7, 7, 2, 5, 0, 8, 7, 2, 7, 7, 3, 7, 7, 7, 7, 13, 1, 6, 2, 7, 7, 2, 7, 7, 0, 2, 2, 7, 0, 2, 2, 1, 3, 3, 7, 2, 6, 2, 2, 0, 8, 0, 0, 6, 9, 5, 7, 2, 4, 5, 2, 7, 3, 2, 7, 3, 2, 3, 2, 3, 7, 5, 2, 2, 7, 2, 7, 0, 0, 2, 3, 0, 9, 2, 14, 7, 7, 15, 2, 3, 2, 2, 13, 0, 0, 0, 8, 3, 2, 8, 7, 1, 8, 5, 7, 2, 7, 0, 6, 2, 3, 8, 5, 14, 2, 4, 2, 4, 3, 8, 0, 1, 2, 2, 1, 4, 3, 14, 2, 0, 2, 2, 2, 8, 2, 3, 4, 2, 0, 10, 4, 9, 2, 6, 0, 6, 4, 3, 0, 3, 7, 2, 0, 0, 2, 0, 8, 2, 2, 7, 2, 2, 1, 0, 4, 2, 0, 7, 6, 9, 0, 8, 2, 12, 0, 0, 0, 7, 13, 8, 0, 0, 7, 1, 7, 7, 0, 1, 7, 1, 2, 8, 0, 13, 4, 3, 9, 7, 0, 10, 7, 2, 8, 0, 2, 3, 4, 5, 16, 2, 8, 0, 2, 11, 1, 7, 2, 2, 3, 0, 7, 10, 7, 0, 2, 7, 3, 2, 11, 2, 6, 2, 2, 0, 0, 3, 0, 7, 16, 0, 2, 14, 11, 7, 13, 6, 2, 3, 7, 1, 4, 3, 7, 0, 2, 1, 0, 2, 1, 3, 7, 3, 2, 4, 4, 8, 7, 0, 2, 0, 13, 0, 7, 3, 2, 6, 9, 10, 2, 2, 7, 6, 2, 7, 7, 2, 2, 0, 7, 1, 2, 6, 0, 0, 2, 0, 4, 10, 6, 7, 5, 7, 9, 0, 7, 7, 7, 2, 4, 9, 2, 3, 2, 8, 2, 5, 0, 7, 6, 1, 0, 2, 0, 2, 2, 2, 5, 4, 8, 7, 9, 4, 0, 3, 1, 7, 3, 1, 7, 9, 2, 3, 0, 2, 8, 1, 2, 8, 2, 4, 7, 4, 0, 15, 0, 4, 0, 3, 0, 2, 5, 2, 7, 0, 7, 7, 7, 11, 1, 3, 3, 7, 2, 7, 7, 10, 1, 3, 9, 0, 2, 7, 4, 5, 1, 2, 9, 5, 9, 1, 7, 0, 10, 0, 3, 0, 0, 7, 0, 9, 8, 0, 0, 0, 5, 10, 9, 2, 4, 2, 10, 7, 8, 2, 9, 9, 2, 0, 7, 14, 7, 2, 0, 4, 7, 2, 2, 7, 0, 9, 2, 4, 2, 2, 7, 6, 8, 2, 4, 7, 1, 7, 8, 2, 2, 2, 8, 9, 3, 2, 7, 8, 3, 6, 9, 7, 8, 2, 9, 2, 7, 9, 0, 2, 0, 7, 2, 7, 16, 4, 11, 7, 0, 2, 2, 11, 3, 2, 4, 2, 2, 4, 4, 2, 4, 2, 3, 7, 2, 2, 3, 7, 4, 2, 2, 2, 7, 9, 3, 7, 7, 8, 7, 4, 0, 2, 2, 3, 0, 0, 4, 2, 5, 2, 5, 2, 17, 4, 3, 4, 2, 7, 7, 7, 0, 8, 7, 2, 2, 1, 2, 2, 8, 4, 2, 8, 2, 1, 2, 3, 9, 1, 9, 0, 0, 9, 7, 8, 2, 3, 9, 0, 0, 0, 2, 7, 3, 2, 4, 4, 0, 0, 2, 2, 2, 6, 0, 2, 9, 7, 6, 0, 12, 8, 3, 4, 9, 2, 6, 10, 0, 8, 7, 3, 4, 8, 4, 14, 7, 1, 2, 8, 3, 1, 2, 7, 0, 2, 8, 3, 0, 2, 0, 7, 2, 5, 2, 0, 6, 2, 0, 8, 2, 0, 9, 2, 6, 4, 0, 2, 2, 0, 9, 2, 4, 4, 0, 0, 1, 2, 8, 2, 7, 4, 7, 7, 2, 2, 7, 6, 7, 7, 15, 3, 2, 0, 2, 8, 15, 11, 3, 2, 7, 4, 12, 4, 2, 7, 2, 2, 3, 2, 2, 2, 2, 2, 7, 4, 2, 11, 2, 8, 3, 11, 2, 4, 8, 10, 9, 11, 0, 2, 5, 0, 2, 3, 2, 7, 0, 2, 5, 2, 2, 4, 0, 3, 7, 0, 7, 2, 10, 0, 11, 3, 9, 2, 7, 4, 9, 3, 8, 3, 7, 15, 0, 5, 2, 6, 2, 2, 2, 0, 2, 7, 7, 0, 0, 6, 2, 0, 2, 4, 8, 3, 8, 0, 7, 2, 2, 2, 2, 2, 2, 7, 0, 7, 1, 0, 1, 0, 0, 0, 7, 0, 0, 3, 0, 8, 3, 14, 2, 7, 2, 0, 4, 0, 7, 2, 2, 1, 8, 3, 0, 7, 8, 3, 3, 2, 3, 0, 7, 10, 1, 3, 1, 2, 2, 14, 7, 1, 7, 3, 8, 9, 4, 11, 4, 1, 2, 2, 2, 3, 2, 0, 0, 2, 7, 0, 7, 4, 8, 0, 3, 2, 8, 2, 0, 0, 2, 17, 8, 0, 12, 10, 0, 7, 6, 2, 2, 0, 0, 0, 9, 8, 3, 2, 3, 2, 8, 1, 7, 0, 7, 17, 0, 2, 2, 2, 4, 7, 2, 2, 2, 7, 2, 4, 7, 0, 2, 3, 10, 0, 7, 0, 0, 11, 0, 1, 2, 4, 0, 0, 3, 3, 2, 4, 8, 7, 7, 3, 1, 8, 1, 0, 8, 7, 0, 7, 2, 3, 7, 9, 2, 9, 0, 8, 9, 7, 2, 3, 2, 9, 8, 0, 8, 2, 14, 1, 13, 2, 3, 3, 3, 8, 2, 2, 7, 7, 2, 0, 2, 7, 16, 10, 11, 3, 8, 3, 2, 0, 0, 7, 2, 12, 2, 6, 9, 7, 7, 12, 4, 2, 0, 7, 3, 3, 3, 2, 2, 3, 3, 3, 4, 2, 9, 4, 2, 2, 7, 2, 6, 3]}, {\"box\": {\"visible\": true}, \"name\": \"TotalWorkingYears\", \"points\": \"all\", \"type\": \"violin\", \"y\": [8, 10, 7, 8, 6, 8, 12, 1, 10, 17, 6, 10, 5, 3, 6, 10, 7, 1, 31, 6, 5, 10, 13, 0, 8, 26, 10, 10, 24, 22, 7, 9, 10, 19, 6, 6, 3, 2, 6, 10, 1, 1, 1, 9, 12, 23, 10, 8, 14, 1, 23, 2, 9, 10, 5, 15, 9, 4, 10, 7, 9, 10, 29, 28, 17, 21, 6, 25, 5, 2, 20, 6, 1, 10, 5, 11, 16, 17, 16, 16, 10, 6, 24, 17, 5, 37, 3, 10, 11, 9, 22, 11, 11, 21, 12, 16, 4, 5, 38, 17, 7, 1, 1, 16, 17, 30, 28, 6, 2, 1, 23, 9, 23, 6, 12, 12, 14, 10, 7, 25, 10, 8, 7, 23, 12, 5, 40, 0, 3, 16, 18, 16, 4, 12, 8, 7, 18, 17, 6, 12, 10, 9, 19, 5, 9, 8, 6, 21, 7, 1, 20, 10, 13, 20, 9, 10, 10, 9, 15, 6, 2, 6, 5, 12, 1, 21, 13, 12, 12, 8, 6, 1, 13, 12, 9, 19, 4, 1, 24, 2, 7, 9, 4, 5, 5, 8, 21, 36, 10, 21, 34, 7, 8, 7, 22, 8, 10, 11, 14, 9, 6, 7, 5, 15, 17, 10, 4, 8, 5, 17, 14, 12, 7, 16, 8, 16, 9, 7, 23, 16, 16, 7, 10, 17, 6, 7, 13, 11, 10, 4, 6, 22, 7, 32, 8, 22, 13, 33, 6, 4, 7, 4, 17, 9, 25, 9, 2, 13, 17, 9, 17, 20, 6, 10, 10, 5, 10, 22, 1, 6, 5, 13, 9, 28, 5, 10, 10, 6, 21, 16, 37, 10, 5, 7, 3, 15, 10, 8, 6, 28, 21, 20, 10, 12, 5, 17, 19, 10, 5, 5, 22, 10, 2, 8, 4, 23, 0, 12, 4, 13, 22, 0, 9, 10, 19, 11, 13, 19, 12, 6, 9, 24, 3, 12, 21, 9, 25, 11, 4, 13, 5, 13, 10, 5, 11, 10, 21, 12, 9, 21, 9, 6, 20, 10, 12, 6, 7, 4, 10, 8, 8, 12, 11, 7, 17, 4, 8, 5, 16, 4, 4, 8, 15, 13, 4, 8, 14, 3, 7, 16, 15, 10, 3, 1, 17, 7, 8, 20, 8, 3, 1, 6, 10, 5, 7, 26, 18, 6, 9, 30, 5, 1, 7, 2, 10, 3, 18, 8, 8, 18, 25, 20, 24, 6, 13, 8, 8, 5, 15, 4, 21, 36, 6, 10, 10, 6, 28, 8, 31, 19, 11, 33, 19, 7, 6, 3, 1, 21, 3, 9, 10, 6, 1, 10, 32, 28, 12, 22, 20, 26, 6, 19, 14, 15, 13, 15, 8, 4, 10, 12, 11, 8, 10, 4, 14, 37, 16, 15, 22, 8, 10, 10, 9, 8, 8, 10, 10, 0, 20, 10, 8, 5, 10, 1, 12, 28, 22, 9, 18, 6, 3, 18, 8, 31, 6, 6, 1, 32, 7, 6, 1, 6, 9, 9, 13, 6, 17, 1, 10, 21, 8, 10, 21, 10, 8, 5, 3, 26, 3, 6, 6, 1, 18, 10, 5, 3, 10, 6, 17, 15, 16, 13, 5, 1, 10, 1, 5, 4, 8, 10, 12, 6, 4, 20, 9, 4, 20, 10, 18, 10, 9, 10, 20, 20, 32, 23, 10, 9, 22, 4, 10, 10, 10, 9, 28, 10, 1, 7, 7, 10, 5, 12, 30, 5, 9, 2, 19, 16, 10, 6, 7, 34, 10, 6, 9, 2, 8, 6, 24, 10, 5, 5, 11, 6, 10, 9, 5, 6, 17, 6, 3, 7, 8, 6, 24, 1, 1, 9, 30, 1, 14, 6, 26, 10, 10, 40, 7, 8, 5, 8, 14, 10, 12, 1, 10, 13, 6, 9, 12, 22, 9, 17, 8, 4, 8, 0, 29, 10, 6, 9, 6, 18, 8, 10, 35, 18, 9, 31, 9, 6, 4, 10, 8, 6, 5, 17, 10, 4, 5, 7, 6, 10, 3, 17, 8, 5, 28, 16, 10, 33, 12, 8, 10, 31, 13, 7, 1, 8, 8, 4, 3, 4, 2, 1, 17, 3, 4, 10, 6, 8, 1, 1, 10, 6, 24, 13, 10, 29, 13, 9, 8, 15, 5, 1, 11, 7, 20, 16, 1, 1, 10, 3, 8, 16, 6, 17, 9, 3, 5, 26, 7, 22, 10, 6, 12, 9, 22, 20, 12, 4, 10, 3, 5, 8, 32, 6, 21, 4, 9, 9, 7, 22, 3, 13, 5, 5, 4, 0, 22, 16, 9, 1, 4, 8, 4, 19, 27, 8, 21, 4, 3, 21, 8, 30, 15, 17, 21, 19, 7, 33, 23, 19, 18, 21, 3, 26, 10, 16, 14, 6, 30, 9, 6, 1, 1, 8, 29, 8, 8, 5, 23, 13, 18, 15, 31, 18, 2, 1, 19, 18, 10, 6, 7, 10, 20, 14, 3, 23, 10, 24, 9, 9, 14, 4, 7, 8, 7, 1, 5, 23, 1, 5, 4, 6, 27, 15, 18, 9, 11, 10, 23, 10, 18, 21, 21, 2, 9, 18, 3, 6, 5, 22, 5, 8, 16, 10, 7, 3, 0, 6, 6, 2, 9, 4, 6, 6, 11, 20, 22, 9, 10, 6, 1, 8, 10, 16, 15, 14, 2, 7, 1, 28, 10, 1, 7, 14, 2, 6, 26, 6, 1, 28, 6, 5, 5, 8, 5, 32, 6, 25, 15, 1, 10, 7, 10, 20, 2, 12, 10, 12, 2, 10, 17, 15, 7, 5, 12, 20, 16, 9, 33, 10, 1, 3, 36, 6, 10, 13, 25, 23, 12, 7, 5, 6, 25, 9, 2, 26, 10, 1, 1, 1, 8, 26, 34, 2, 26, 4, 31, 25, 15, 5, 26, 14, 4, 18, 23, 18, 10, 2, 8, 10, 10, 5, 2, 10, 22, 21, 2, 10, 6, 10, 10, 10, 10, 25, 9, 10, 9, 9, 10, 19, 3, 10, 21, 23, 36, 6, 10, 9, 10, 9, 33, 11, 10, 7, 31, 7, 17, 11, 5, 29, 0, 10, 8, 24, 33, 5, 15, 10, 3, 5, 4, 14, 5, 10, 8, 14, 12, 8, 8, 4, 13, 6, 24, 20, 6, 8, 5, 21, 12, 8, 10, 7, 8, 10, 20, 9, 29, 32, 31, 15, 1, 8, 9, 10, 1, 6, 10, 11, 17, 6, 7, 5, 26, 5, 7, 7, 7, 11, 13, 28, 11, 10, 24, 8, 7, 10, 15, 2, 16, 6, 7, 35, 20, 8, 6, 5, 15, 4, 12, 11, 1, 13, 29, 16, 5, 7, 16, 1, 4, 1, 16, 10, 6, 4, 8, 11, 8, 1, 5, 10, 4, 8, 14, 10, 26, 11, 24, 9, 23, 11, 5, 15, 10, 7, 32, 12, 4, 10, 9, 5, 8, 24, 9, 15, 21, 2, 8, 10, 6, 12, 7, 18, 5, 8, 10, 10, 3, 9, 1, 34, 7, 9, 10, 1, 36, 9, 1, 10, 8, 15, 10, 10, 11, 6, 27, 4, 9, 24, 10, 8, 5, 8, 1, 27, 1, 4, 32, 6, 23, 6, 10, 10, 10, 7, 9, 10, 10, 7, 16, 6, 3, 0, 27, 11, 18, 15, 9, 10, 10, 10, 15, 8, 18, 14, 23, 7, 6, 5, 6, 10, 8, 9, 7, 7, 27, 19, 2, 11, 15, 30, 4, 13, 36, 14, 13, 19, 10, 6, 10, 10, 17, 4, 29, 23, 21, 2, 7, 10, 8, 5, 7, 11, 19, 1, 7, 8, 15, 19, 14, 6, 10, 3, 9, 6, 10, 5, 10, 9, 17, 25, 1, 25, 3, 21, 10, 6, 10, 18, 6, 19, 17, 10, 4, 13, 16, 10, 3, 9, 9, 10, 21, 9, 10, 3, 6, 6, 6, 2, 10, 12, 6, 13, 8, 11, 9, 10, 1, 10, 12, 15, 6, 7, 34, 11, 5, 15, 27, 10, 6, 1, 5, 1, 13, 15, 5, 24, 15, 6, 19, 10, 14, 5, 9, 6, 7, 10, 15, 13, 11, 10, 7, 7, 11, 23, 9, 6, 13, 12, 10, 37, 6, 28, 15, 14, 9, 3, 20, 5, 23, 0, 2, 4, 10, 15, 7, 6, 11, 4, 10, 7, 12, 3, 11, 8, 7, 25, 9, 1, 21, 29, 1, 14, 8, 7, 19, 1, 1, 1, 10, 10, 9, 11, 16, 4, 10, 10, 22, 1, 9, 24, 10, 5, 5, 12, 14, 18, 8, 9, 4, 8, 12, 10, 7, 1, 10, 6, 16, 6, 16, 6, 10, 20, 29, 8, 10, 28, 14, 1, 6, 5, 4, 5, 14, 9, 8, 6, 9, 10, 6, 20, 10, 7, 8, 10, 15, 9, 9, 10, 7, 35, 1, 21, 20, 13, 9, 4, 5, 10, 15, 6, 12, 7, 25, 1, 16, 3, 10, 9, 12, 14, 5, 4, 10, 10, 6, 8, 3, 18, 20, 14, 16, 6, 16, 6, 2, 21, 1, 10, 18, 13, 4, 24, 14, 21, 8, 15, 14, 4, 9, 10, 12, 8, 8, 8, 10, 20, 4, 10, 5, 20, 21, 10, 5, 17, 9, 6, 17, 6]}],\n",
              "                        {\"autosize\": false, \"height\": 500, \"template\": {\"data\": {\"bar\": [{\"error_x\": {\"color\": \"#2a3f5f\"}, \"error_y\": {\"color\": \"#2a3f5f\"}, \"marker\": {\"line\": {\"color\": \"#E5ECF6\", \"width\": 0.5}}, \"type\": \"bar\"}], \"barpolar\": [{\"marker\": {\"line\": {\"color\": \"#E5ECF6\", \"width\": 0.5}}, \"type\": \"barpolar\"}], \"carpet\": [{\"aaxis\": {\"endlinecolor\": \"#2a3f5f\", \"gridcolor\": \"white\", \"linecolor\": \"white\", \"minorgridcolor\": \"white\", \"startlinecolor\": \"#2a3f5f\"}, \"baxis\": {\"endlinecolor\": \"#2a3f5f\", \"gridcolor\": \"white\", \"linecolor\": \"white\", \"minorgridcolor\": \"white\", \"startlinecolor\": \"#2a3f5f\"}, \"type\": \"carpet\"}], \"choropleth\": [{\"colorbar\": {\"outlinewidth\": 0, \"ticks\": \"\"}, \"type\": \"choropleth\"}], \"contour\": [{\"colorbar\": {\"outlinewidth\": 0, \"ticks\": \"\"}, \"colorscale\": [[0.0, \"#0d0887\"], [0.1111111111111111, \"#46039f\"], [0.2222222222222222, \"#7201a8\"], [0.3333333333333333, \"#9c179e\"], [0.4444444444444444, \"#bd3786\"], [0.5555555555555556, \"#d8576b\"], [0.6666666666666666, \"#ed7953\"], [0.7777777777777778, \"#fb9f3a\"], [0.8888888888888888, \"#fdca26\"], [1.0, \"#f0f921\"]], \"type\": \"contour\"}], \"contourcarpet\": [{\"colorbar\": {\"outlinewidth\": 0, \"ticks\": \"\"}, \"type\": \"contourcarpet\"}], \"heatmap\": [{\"colorbar\": {\"outlinewidth\": 0, \"ticks\": \"\"}, \"colorscale\": [[0.0, \"#0d0887\"], [0.1111111111111111, \"#46039f\"], [0.2222222222222222, \"#7201a8\"], [0.3333333333333333, \"#9c179e\"], [0.4444444444444444, \"#bd3786\"], [0.5555555555555556, \"#d8576b\"], [0.6666666666666666, \"#ed7953\"], [0.7777777777777778, \"#fb9f3a\"], [0.8888888888888888, \"#fdca26\"], [1.0, \"#f0f921\"]], \"type\": \"heatmap\"}], \"heatmapgl\": [{\"colorbar\": {\"outlinewidth\": 0, \"ticks\": \"\"}, \"colorscale\": [[0.0, \"#0d0887\"], [0.1111111111111111, \"#46039f\"], [0.2222222222222222, \"#7201a8\"], [0.3333333333333333, \"#9c179e\"], [0.4444444444444444, \"#bd3786\"], [0.5555555555555556, \"#d8576b\"], [0.6666666666666666, \"#ed7953\"], [0.7777777777777778, \"#fb9f3a\"], [0.8888888888888888, \"#fdca26\"], [1.0, \"#f0f921\"]], \"type\": \"heatmapgl\"}], \"histogram\": [{\"marker\": {\"colorbar\": {\"outlinewidth\": 0, \"ticks\": \"\"}}, \"type\": \"histogram\"}], \"histogram2d\": [{\"colorbar\": {\"outlinewidth\": 0, \"ticks\": \"\"}, \"colorscale\": [[0.0, \"#0d0887\"], [0.1111111111111111, \"#46039f\"], [0.2222222222222222, \"#7201a8\"], [0.3333333333333333, \"#9c179e\"], [0.4444444444444444, \"#bd3786\"], [0.5555555555555556, \"#d8576b\"], [0.6666666666666666, \"#ed7953\"], [0.7777777777777778, \"#fb9f3a\"], [0.8888888888888888, \"#fdca26\"], [1.0, \"#f0f921\"]], \"type\": \"histogram2d\"}], \"histogram2dcontour\": [{\"colorbar\": {\"outlinewidth\": 0, \"ticks\": \"\"}, \"colorscale\": [[0.0, \"#0d0887\"], [0.1111111111111111, \"#46039f\"], [0.2222222222222222, \"#7201a8\"], [0.3333333333333333, \"#9c179e\"], [0.4444444444444444, \"#bd3786\"], [0.5555555555555556, \"#d8576b\"], [0.6666666666666666, \"#ed7953\"], [0.7777777777777778, \"#fb9f3a\"], [0.8888888888888888, \"#fdca26\"], [1.0, \"#f0f921\"]], \"type\": \"histogram2dcontour\"}], \"mesh3d\": [{\"colorbar\": {\"outlinewidth\": 0, \"ticks\": \"\"}, \"type\": \"mesh3d\"}], \"parcoords\": [{\"line\": {\"colorbar\": {\"outlinewidth\": 0, \"ticks\": \"\"}}, \"type\": \"parcoords\"}], \"pie\": [{\"automargin\": true, \"type\": \"pie\"}], \"scatter\": [{\"marker\": {\"colorbar\": {\"outlinewidth\": 0, \"ticks\": \"\"}}, \"type\": \"scatter\"}], \"scatter3d\": [{\"line\": {\"colorbar\": {\"outlinewidth\": 0, \"ticks\": \"\"}}, \"marker\": {\"colorbar\": {\"outlinewidth\": 0, \"ticks\": \"\"}}, \"type\": \"scatter3d\"}], \"scattercarpet\": [{\"marker\": {\"colorbar\": {\"outlinewidth\": 0, \"ticks\": \"\"}}, \"type\": \"scattercarpet\"}], \"scattergeo\": [{\"marker\": {\"colorbar\": {\"outlinewidth\": 0, \"ticks\": \"\"}}, \"type\": \"scattergeo\"}], \"scattergl\": [{\"marker\": {\"colorbar\": {\"outlinewidth\": 0, \"ticks\": \"\"}}, \"type\": \"scattergl\"}], \"scattermapbox\": [{\"marker\": {\"colorbar\": {\"outlinewidth\": 0, \"ticks\": \"\"}}, \"type\": \"scattermapbox\"}], \"scatterpolar\": [{\"marker\": {\"colorbar\": {\"outlinewidth\": 0, \"ticks\": \"\"}}, \"type\": \"scatterpolar\"}], \"scatterpolargl\": [{\"marker\": {\"colorbar\": {\"outlinewidth\": 0, \"ticks\": \"\"}}, \"type\": \"scatterpolargl\"}], \"scatterternary\": [{\"marker\": {\"colorbar\": {\"outlinewidth\": 0, \"ticks\": \"\"}}, \"type\": \"scatterternary\"}], \"surface\": [{\"colorbar\": {\"outlinewidth\": 0, \"ticks\": \"\"}, \"colorscale\": [[0.0, \"#0d0887\"], [0.1111111111111111, \"#46039f\"], [0.2222222222222222, \"#7201a8\"], [0.3333333333333333, \"#9c179e\"], [0.4444444444444444, \"#bd3786\"], [0.5555555555555556, \"#d8576b\"], [0.6666666666666666, \"#ed7953\"], [0.7777777777777778, \"#fb9f3a\"], [0.8888888888888888, \"#fdca26\"], [1.0, \"#f0f921\"]], \"type\": \"surface\"}], \"table\": [{\"cells\": {\"fill\": {\"color\": \"#EBF0F8\"}, \"line\": {\"color\": \"white\"}}, \"header\": {\"fill\": {\"color\": \"#C8D4E3\"}, \"line\": {\"color\": \"white\"}}, \"type\": \"table\"}]}, \"layout\": {\"annotationdefaults\": {\"arrowcolor\": \"#2a3f5f\", \"arrowhead\": 0, \"arrowwidth\": 1}, \"coloraxis\": {\"colorbar\": {\"outlinewidth\": 0, \"ticks\": \"\"}}, \"colorscale\": {\"diverging\": [[0, \"#8e0152\"], [0.1, \"#c51b7d\"], [0.2, \"#de77ae\"], [0.3, \"#f1b6da\"], [0.4, \"#fde0ef\"], [0.5, \"#f7f7f7\"], [0.6, \"#e6f5d0\"], [0.7, \"#b8e186\"], [0.8, \"#7fbc41\"], [0.9, \"#4d9221\"], [1, \"#276419\"]], \"sequential\": [[0.0, \"#0d0887\"], [0.1111111111111111, \"#46039f\"], [0.2222222222222222, \"#7201a8\"], [0.3333333333333333, \"#9c179e\"], [0.4444444444444444, \"#bd3786\"], [0.5555555555555556, \"#d8576b\"], [0.6666666666666666, \"#ed7953\"], [0.7777777777777778, \"#fb9f3a\"], [0.8888888888888888, \"#fdca26\"], [1.0, \"#f0f921\"]], \"sequentialminus\": [[0.0, \"#0d0887\"], [0.1111111111111111, \"#46039f\"], [0.2222222222222222, \"#7201a8\"], [0.3333333333333333, \"#9c179e\"], [0.4444444444444444, \"#bd3786\"], [0.5555555555555556, \"#d8576b\"], [0.6666666666666666, \"#ed7953\"], [0.7777777777777778, \"#fb9f3a\"], [0.8888888888888888, \"#fdca26\"], [1.0, \"#f0f921\"]]}, \"colorway\": [\"#636efa\", \"#EF553B\", \"#00cc96\", \"#ab63fa\", \"#FFA15A\", \"#19d3f3\", \"#FF6692\", \"#B6E880\", \"#FF97FF\", \"#FECB52\"], \"font\": {\"color\": \"#2a3f5f\"}, \"geo\": {\"bgcolor\": \"white\", \"lakecolor\": \"white\", \"landcolor\": \"#E5ECF6\", \"showlakes\": true, \"showland\": true, \"subunitcolor\": \"white\"}, \"hoverlabel\": {\"align\": \"left\"}, \"hovermode\": \"closest\", \"mapbox\": {\"style\": \"light\"}, \"paper_bgcolor\": \"white\", \"plot_bgcolor\": \"#E5ECF6\", \"polar\": {\"angularaxis\": {\"gridcolor\": \"white\", \"linecolor\": \"white\", \"ticks\": \"\"}, \"bgcolor\": \"#E5ECF6\", \"radialaxis\": {\"gridcolor\": \"white\", \"linecolor\": \"white\", \"ticks\": \"\"}}, \"scene\": {\"xaxis\": {\"backgroundcolor\": \"#E5ECF6\", \"gridcolor\": \"white\", \"gridwidth\": 2, \"linecolor\": \"white\", \"showbackground\": true, \"ticks\": \"\", \"zerolinecolor\": \"white\"}, \"yaxis\": {\"backgroundcolor\": \"#E5ECF6\", \"gridcolor\": \"white\", \"gridwidth\": 2, \"linecolor\": \"white\", \"showbackground\": true, \"ticks\": \"\", \"zerolinecolor\": \"white\"}, \"zaxis\": {\"backgroundcolor\": \"#E5ECF6\", \"gridcolor\": \"white\", \"gridwidth\": 2, \"linecolor\": \"white\", \"showbackground\": true, \"ticks\": \"\", \"zerolinecolor\": \"white\"}}, \"shapedefaults\": {\"line\": {\"color\": \"#2a3f5f\"}}, \"ternary\": {\"aaxis\": {\"gridcolor\": \"white\", \"linecolor\": \"white\", \"ticks\": \"\"}, \"baxis\": {\"gridcolor\": \"white\", \"linecolor\": \"white\", \"ticks\": \"\"}, \"bgcolor\": \"#E5ECF6\", \"caxis\": {\"gridcolor\": \"white\", \"linecolor\": \"white\", \"ticks\": \"\"}}, \"title\": {\"x\": 0.05}, \"xaxis\": {\"automargin\": true, \"gridcolor\": \"white\", \"linecolor\": \"white\", \"ticks\": \"\", \"title\": {\"standoff\": 15}, \"zerolinecolor\": \"white\", \"zerolinewidth\": 2}, \"yaxis\": {\"automargin\": true, \"gridcolor\": \"white\", \"linecolor\": \"white\", \"ticks\": \"\", \"title\": {\"standoff\": 15}, \"zerolinecolor\": \"white\", \"zerolinewidth\": 2}}}, \"width\": 700},\n",
              "                        {\"responsive\": true}\n",
              "                    ).then(function(){\n",
              "                            \n",
              "var gd = document.getElementById('961318b1-4b62-47a5-83c0-f42b622cda52');\n",
              "var x = new MutationObserver(function (mutations, observer) {{\n",
              "        var display = window.getComputedStyle(gd).display;\n",
              "        if (!display || display === 'none') {{\n",
              "            console.log([gd, 'removed!']);\n",
              "            Plotly.purge(gd);\n",
              "            observer.disconnect();\n",
              "        }}\n",
              "}});\n",
              "\n",
              "// Listen for the removal of the full notebook cells\n",
              "var notebookContainer = gd.closest('#notebook-container');\n",
              "if (notebookContainer) {{\n",
              "    x.observe(notebookContainer, {childList: true});\n",
              "}}\n",
              "\n",
              "// Listen for the clearing of the current output cell\n",
              "var outputEl = gd.closest('.output');\n",
              "if (outputEl) {{\n",
              "    x.observe(outputEl, {childList: true});\n",
              "}}\n",
              "\n",
              "                        })\n",
              "                };\n",
              "                \n",
              "            </script>\n",
              "        </div>\n",
              "</body>\n",
              "</html>"
            ]
          },
          "metadata": {
            "tags": []
          }
        }
      ]
    },
    {
      "cell_type": "code",
      "metadata": {
        "colab": {
          "base_uri": "https://localhost:8080/",
          "height": 343
        },
        "id": "VCVKmcJ8IHsb",
        "outputId": "cd233fdc-d822-4402-e470-e86152c3673f"
      },
      "source": [
        "preds['BusinessTravel'].value_counts(dropna = False).plot.bar(color=['black', 'red', 'cyan'])\n",
        "plt.show()"
      ],
      "execution_count": 17,
      "outputs": [
        {
          "output_type": "display_data",
          "data": {
            "image/png": "[encoded data removed]",
            "text/plain": [
              "<Figure size 432x288 with 1 Axes>"
            ]
          },
          "metadata": {
            "tags": [],
            "needs_background": "light"
          }
        }
      ]
    },
    {
      "cell_type": "code",
      "metadata": {
        "colab": {
          "base_uri": "https://localhost:8080/",
          "height": 544
        },
        "id": "15sixpGgIQlc",
        "outputId": "6d4f84a0-5c16-4bd2-905d-14ca1d744ad5"
      },
      "source": [
        "plt.figure(figsize=[15,12])\n",
        "\n",
        "plt.subplot(411)\n",
        "sns.countplot(x=preds['JobSatisfaction'],hue=df['Attrition'])\n",
        "plt.subplot(412)\n",
        "sns.countplot(x=preds['MaritalStatus'],hue=df['Attrition'])\n",
        "plt.subplot(413)\n",
        "sns.countplot(x=preds['JobLevel'],hue=df[\"Attrition\"])\n",
        "\n",
        "plt.show()"
      ],
      "execution_count": 22,
      "outputs": [
        {
          "output_type": "display_data",
          "data": {
            "image/png": "[encoded data removed]",
            "text/plain": [
              "<Figure size 1080x864 with 3 Axes>"
            ]
          },
          "metadata": {
            "tags": [],
            "needs_background": "light"
          }
        }
      ]
    },
    {
      "cell_type": "markdown",
      "metadata": {
        "id": "9gl-PpmC66tQ"
      },
      "source": [
        "### Objective: Predict the attrition based on employees' information\n",
        "\n"
      ]
    },
    {
      "cell_type": "markdown",
      "metadata": {
        "id": "9MK9L3ECxGQb"
      },
      "source": [
        "Now, Lets see the stats of those highly correlated numeric variables by applying OLS regression between the variables."
      ]
    },
    {
      "cell_type": "markdown",
      "metadata": {
        "id": "EZ2BOdbqyH5L"
      },
      "source": [
        "As we can see, from both results we find the parameters that support the correlation between the variables (in p-value given confidence interval)"
      ]
    },
    {
      "cell_type": "markdown",
      "metadata": {
        "id": "_7V1ZYXYyq7C"
      },
      "source": [
        "Now, We will deal with categorical data. First, we will apply one hot encoding for the dataset to have the generalization of the vector representation for each variables."
      ]
    },
    {
      "cell_type": "code",
      "metadata": {
        "id": "0VHHZdeVjn46"
      },
      "source": [
        "from sklearn.preprocessing import LabelEncoder\n",
        "def onehot(dataframe):\n",
        "    df=pd.get_dummies(dataframe)\n",
        "    print(df.shape)\n",
        "    return(df)"
      ],
      "execution_count": 21,
      "outputs": []
    },
    {
      "cell_type": "code",
      "metadata": {
        "colab": {
          "base_uri": "https://localhost:8080/"
        },
        "id": "65uCL_Uijn1Z",
        "outputId": "736656fc-6093-4115-d081-a278fc14340d"
      },
      "source": [
        "preds=onehot(preds)\n",
        "#resp=onehot(resp)"
      ],
      "execution_count": 22,
      "outputs": [
        {
          "output_type": "stream",
          "text": [
            "(1470, 54)\n"
          ],
          "name": "stdout"
        }
      ]
    },
    {
      "cell_type": "markdown",
      "metadata": {
        "id": "n76Ym5iQzMQU"
      },
      "source": [
        "We change the categorical value of our predicted variable into numerical value"
      ]
    },
    {
      "cell_type": "code",
      "metadata": {
        "id": "SBaY6vDR0cSb"
      },
      "source": [
        "resp = resp.replace(\"Yes\", 1)\n",
        "resp = resp.replace(\"No\", 0)"
      ],
      "execution_count": 23,
      "outputs": []
    },
    {
      "cell_type": "code",
      "metadata": {
        "id": "-xWHfoaklO-s"
      },
      "source": [
        "# Split the dataset into train data and test data\n",
        "train_x, test_x, train_y, test_y = model_selection.train_test_split(preds, resp, test_size=0.3)"
      ],
      "execution_count": 24,
      "outputs": []
    },
    {
      "cell_type": "code",
      "metadata": {
        "colab": {
          "base_uri": "https://localhost:8080/",
          "height": 281
        },
        "id": "o5jkkuOhoTGD",
        "outputId": "0f65bdc1-4b05-4306-bce6-50cec2d3f121"
      },
      "source": [
        "train_y.hist()"
      ],
      "execution_count": 25,
      "outputs": [
        {
          "output_type": "execute_result",
          "data": {
            "text/plain": [
              "<matplotlib.axes._subplots.AxesSubplot at 0x7f32c58dd5d0>"
            ]
          },
          "metadata": {
            "tags": []
          },
          "execution_count": 25
        },
        {
          "output_type": "display_data",
          "data": {
            "image/png": "[encoded data removed]",
            "text/plain": [
              "<Figure size 432x288 with 1 Axes>"
            ]
          },
          "metadata": {
            "tags": [],
            "needs_background": "light"
          }
        }
      ]
    },
    {
      "cell_type": "code",
      "metadata": {
        "colab": {
          "base_uri": "https://localhost:8080/"
        },
        "id": "t8eFY8FosjrJ",
        "outputId": "8ca525b7-3c59-4367-f7eb-e5d31db99d4c"
      },
      "source": [
        "train_x.shape"
      ],
      "execution_count": 26,
      "outputs": [
        {
          "output_type": "execute_result",
          "data": {
            "text/plain": [
              "(1029, 54)"
            ]
          },
          "metadata": {
            "tags": []
          },
          "execution_count": 26
        }
      ]
    },
    {
      "cell_type": "markdown",
      "metadata": {
        "id": "f8Aosk2lvLb3"
      },
      "source": [
        "# Method 1.Logistic Regression"
      ]
    },
    {
      "cell_type": "code",
      "metadata": {
        "colab": {
          "base_uri": "https://localhost:8080/"
        },
        "id": "NHtkkRAdvQ-1",
        "outputId": "120a0a72-4799-4a97-cc6a-1d1e12ecf00a"
      },
      "source": [
        "lg = LogisticRegression()\n",
        "model = lg.fit(train_x,train_y)\n",
        "print(model)"
      ],
      "execution_count": 27,
      "outputs": [
        {
          "output_type": "stream",
          "text": [
            "LogisticRegression(C=1.0, class_weight=None, dual=False, fit_intercept=True,\n",
            "                   intercept_scaling=1, l1_ratio=None, max_iter=100,\n",
            "                   multi_class='auto', n_jobs=None, penalty='l2',\n",
            "                   random_state=None, solver='lbfgs', tol=0.0001, verbose=0,\n",
            "                   warm_start=False)\n"
          ],
          "name": "stdout"
        },
        {
          "output_type": "stream",
          "text": [
            "/usr/local/lib/python3.7/dist-packages/sklearn/linear_model/_logistic.py:940: ConvergenceWarning:\n",
            "\n",
            "lbfgs failed to converge (status=1):\n",
            "STOP: TOTAL NO. of ITERATIONS REACHED LIMIT.\n",
            "\n",
            "Increase the number of iterations (max_iter) or scale the data as shown in:\n",
            "    https://scikit-learn.org/stable/modules/preprocessing.html\n",
            "Please also refer to the documentation for alternative solver options:\n",
            "    https://scikit-learn.org/stable/modules/linear_model.html#logistic-regression\n",
            "\n"
          ],
          "name": "stderr"
        }
      ]
    },
    {
      "cell_type": "code",
      "metadata": {
        "id": "sH8LntGNvQ6x"
      },
      "source": [
        "y_hat = lg.predict(test_x)"
      ],
      "execution_count": 28,
      "outputs": []
    },
    {
      "cell_type": "code",
      "metadata": {
        "colab": {
          "base_uri": "https://localhost:8080/"
        },
        "id": "AmzKhLz5vQ49",
        "outputId": "99a49d1c-b77f-43f2-f1ba-30cf1247d481"
      },
      "source": [
        "lg.score(test_x, test_y)"
      ],
      "execution_count": 29,
      "outputs": [
        {
          "output_type": "execute_result",
          "data": {
            "text/plain": [
              "0.8321995464852607"
            ]
          },
          "metadata": {
            "tags": []
          },
          "execution_count": 29
        }
      ]
    },
    {
      "cell_type": "code",
      "metadata": {
        "colab": {
          "base_uri": "https://localhost:8080/"
        },
        "id": "9pOT-cQ_vQ1j",
        "outputId": "61baf77a-02c0-4431-c6d5-63a15a45283e"
      },
      "source": [
        "lg.score(preds,resp)"
      ],
      "execution_count": 30,
      "outputs": [
        {
          "output_type": "execute_result",
          "data": {
            "text/plain": [
              "0.8401360544217688"
            ]
          },
          "metadata": {
            "tags": []
          },
          "execution_count": 30
        }
      ]
    },
    {
      "cell_type": "code",
      "metadata": {
        "id": "NGh-Y5nivQzG"
      },
      "source": [
        "from sklearn.metrics import roc_curve\n",
        "from sklearn.metrics import roc_auc_score"
      ],
      "execution_count": 31,
      "outputs": []
    },
    {
      "cell_type": "code",
      "metadata": {
        "id": "1P2WQJRQvQwX"
      },
      "source": [
        "# predict probabilities\n",
        "lg_probs = model.predict_proba(test_x)"
      ],
      "execution_count": 32,
      "outputs": []
    },
    {
      "cell_type": "code",
      "metadata": {
        "id": "3kffweEuvQti"
      },
      "source": [
        "# keep probabilities for the positive outcome only\n",
        "lg_probs = lg_probs[:, 1]"
      ],
      "execution_count": 33,
      "outputs": []
    },
    {
      "cell_type": "code",
      "metadata": {
        "colab": {
          "base_uri": "https://localhost:8080/",
          "height": 296
        },
        "id": "eW11XQ2TvPfh",
        "outputId": "b045baa9-6b72-44f9-9d91-705307eba304"
      },
      "source": [
        "# calculate scores\n",
        "lg_auc = roc_auc_score(test_y, lg_probs)\n",
        "# summarize scores\n",
        "print('Logistic: ROC AUC=%.3f' % (lg_auc))\n",
        "# calculate roc curves\n",
        "lg_fpr, lg_tpr, _ = roc_curve(test_y, lg_probs)\n",
        "# plot the roc curve for the model\n",
        "plt.plot(lg_fpr, lg_tpr, marker='.', label='Logistic',color='red')\n",
        "# axis labels\n",
        "plt.xlabel('False Positive Rate')\n",
        "plt.ylabel('True Positive Rate')\n",
        "# show the legend\n",
        "plt.legend()\n",
        "plt.grid()\n",
        "# show the plot\n",
        "plt.show()"
      ],
      "execution_count": 34,
      "outputs": [
        {
          "output_type": "stream",
          "text": [
            "Logistic: ROC AUC=0.732\n"
          ],
          "name": "stdout"
        },
        {
          "output_type": "display_data",
          "data": {
            "image/png": "[encoded data removed]",
            "text/plain": [
              "<Figure size 432x288 with 1 Axes>"
            ]
          },
          "metadata": {
            "tags": [],
            "needs_background": "light"
          }
        }
      ]
    },
    {
      "cell_type": "markdown",
      "metadata": {
        "id": "_mvHX8k_Z2Np"
      },
      "source": [
        "# Method 2. Random Forest"
      ]
    },
    {
      "cell_type": "code",
      "metadata": {
        "id": "aKFKk_WBaFkb"
      },
      "source": [
        "from sklearn.ensemble import RandomForestClassifier\n",
        "\n",
        "regressor = RandomForestClassifier(n_estimators=20, random_state=0)\n",
        "model1 = regressor.fit(train_x, train_y)\n",
        "y_pred = regressor.predict(test_x)"
      ],
      "execution_count": 36,
      "outputs": []
    },
    {
      "cell_type": "code",
      "metadata": {
        "colab": {
          "base_uri": "https://localhost:8080/"
        },
        "id": "9VxubDjlaFhs",
        "outputId": "e4f9d14f-d3b6-463f-a992-4bd198884baa"
      },
      "source": [
        "regressor.score(test_x, test_y)"
      ],
      "execution_count": 37,
      "outputs": [
        {
          "output_type": "execute_result",
          "data": {
            "text/plain": [
              "0.8662131519274376"
            ]
          },
          "metadata": {
            "tags": []
          },
          "execution_count": 37
        }
      ]
    },
    {
      "cell_type": "code",
      "metadata": {
        "colab": {
          "base_uri": "https://localhost:8080/"
        },
        "id": "9rGNDGQTaFen",
        "outputId": "318ee184-ef86-4959-ed7c-cc0dfa419851"
      },
      "source": [
        "regressor.score(preds,resp)"
      ],
      "execution_count": 38,
      "outputs": [
        {
          "output_type": "execute_result",
          "data": {
            "text/plain": [
              "0.9578231292517007"
            ]
          },
          "metadata": {
            "tags": []
          },
          "execution_count": 38
        }
      ]
    },
    {
      "cell_type": "code",
      "metadata": {
        "id": "XC-zV32XoAaM"
      },
      "source": [
        "from sklearn.metrics import plot_roc_curve"
      ],
      "execution_count": 39,
      "outputs": []
    },
    {
      "cell_type": "code",
      "metadata": {
        "id": "9ynsPUIxoD61"
      },
      "source": [
        "# predict probabilities\n",
        "regressor_probs = model1.predict(test_x)"
      ],
      "execution_count": 40,
      "outputs": []
    },
    {
      "cell_type": "code",
      "metadata": {
        "colab": {
          "base_uri": "https://localhost:8080/",
          "height": 279
        },
        "id": "2vyHY5Lloi15",
        "outputId": "434c6c13-a052-47ab-c580-85bf331c8ce2"
      },
      "source": [
        "ax = plt.gca()\n",
        "rfc_disp = plot_roc_curve(regressor, test_x, test_y, ax=ax, alpha=0.8, color='purple')\n",
        "plt.grid()\n",
        "plt.show()"
      ],
      "execution_count": 42,
      "outputs": [
        {
          "output_type": "display_data",
          "data": {
            "image/png": "[encoded data removed]",
            "text/plain": [
              "<Figure size 432x288 with 1 Axes>"
            ]
          },
          "metadata": {
            "tags": [],
            "needs_background": "light"
          }
        }
      ]
    },
    {
      "cell_type": "markdown",
      "metadata": {
        "id": "kjr_9XZ7vi5F"
      },
      "source": [
        "# Method 2. Neural Network"
      ]
    },
    {
      "cell_type": "code",
      "metadata": {
        "id": "5oXQux1r1zY4"
      },
      "source": [
        "from sklearn.preprocessing import OneHotEncoder, OrdinalEncoder"
      ],
      "execution_count": null,
      "outputs": []
    },
    {
      "cell_type": "code",
      "metadata": {
        "id": "zaFoxFet104r"
      },
      "source": [
        "enc = OrdinalEncoder()\n",
        "y_vals = enc.fit_transform(data[['Attrition']].values)"
      ],
      "execution_count": null,
      "outputs": []
    },
    {
      "cell_type": "code",
      "metadata": {
        "colab": {
          "base_uri": "https://localhost:8080/"
        },
        "id": "eWhGW7p21-dk",
        "outputId": "4e7ecb0f-4d63-407d-d2be-f03caa771b22"
      },
      "source": [
        "y_vals"
      ],
      "execution_count": null,
      "outputs": [
        {
          "output_type": "execute_result",
          "data": {
            "text/plain": [
              "array([[1.],\n",
              "       [0.],\n",
              "       [1.],\n",
              "       ...,\n",
              "       [0.],\n",
              "       [0.],\n",
              "       [0.]])"
            ]
          },
          "metadata": {
            "tags": []
          },
          "execution_count": 55
        }
      ]
    },
    {
      "cell_type": "code",
      "metadata": {
        "id": "kSF5NK2w2SU3"
      },
      "source": [
        "train_x, test_x, train_y, test_y = model_selection.train_test_split(preds, y_vals, test_size=0.3)"
      ],
      "execution_count": null,
      "outputs": []
    },
    {
      "cell_type": "code",
      "metadata": {
        "id": "j-4zCsTyvhrI"
      },
      "source": [
        "#Now we will standardize the data\n",
        "\n",
        "scaler = StandardScaler()\n",
        "train_x = pd.DataFrame(scaler.fit_transform(train_x), columns=train_x.columns) \n",
        "test_x = pd.DataFrame(scaler.transform(test_x), columns=test_x.columns)"
      ],
      "execution_count": null,
      "outputs": []
    },
    {
      "cell_type": "markdown",
      "metadata": {
        "id": "rymbj4Tazz1i"
      },
      "source": [
        "setup the model. "
      ]
    },
    {
      "cell_type": "code",
      "metadata": {
        "id": "WGPdFllalsVA"
      },
      "source": [
        "model = Sequential([\n",
        "                  \n",
        "                  Dense(128, input_dim =train_x.shape[1], activation = 'relu'),\n",
        "                  #BatchNormalization(),\n",
        "                  Dense(32, kernel_initializer = 'uniform', activation = 'relu'),\n",
        "                  #BatchNormalization(),\n",
        "                  Dense(1, activation = 'sigmoid')\n",
        "  ])\n",
        "\n",
        "model.compile(loss='BinaryCrossentropy',optimizer='sgd', metrics=['accuracy'])"
      ],
      "execution_count": null,
      "outputs": []
    },
    {
      "cell_type": "code",
      "metadata": {
        "colab": {
          "base_uri": "https://localhost:8080/"
        },
        "id": "MiQ1e6FKtcKz",
        "outputId": "3236ba69-bdac-428f-a41f-ff69145a9366"
      },
      "source": [
        "model.summary()"
      ],
      "execution_count": null,
      "outputs": [
        {
          "output_type": "stream",
          "text": [
            "Model: \"sequential\"\n",
            "_________________________________________________________________\n",
            "Layer (type)                 Output Shape              Param #   \n",
            "=================================================================\n",
            "dense (Dense)                (None, 128)               7040      \n",
            "_________________________________________________________________\n",
            "dense_1 (Dense)              (None, 32)                4128      \n",
            "_________________________________________________________________\n",
            "dense_2 (Dense)              (None, 1)                 33        \n",
            "=================================================================\n",
            "Total params: 11,201\n",
            "Trainable params: 11,201\n",
            "Non-trainable params: 0\n",
            "_________________________________________________________________\n"
          ],
          "name": "stdout"
        }
      ]
    },
    {
      "cell_type": "markdown",
      "metadata": {
        "id": "vTqz5dFV0cBj"
      },
      "source": [
        "We apply the early stoping with patience (2) regularization to address the overfitting during training"
      ]
    },
    {
      "cell_type": "code",
      "metadata": {
        "colab": {
          "base_uri": "https://localhost:8080/"
        },
        "id": "npLqR9-8lv7o",
        "outputId": "48c514db-3fc9-4ef9-a0f9-627194a37761"
      },
      "source": [
        "callback = tf.keras.callbacks.EarlyStopping(monitor='loss', patience=2)\n",
        "history=model.fit(train_x,train_y,batch_size=128, epochs = 100, validation_data=(test_x,test_y), callbacks=[callback])"
      ],
      "execution_count": null,
      "outputs": [
        {
          "output_type": "stream",
          "text": [
            "Epoch 1/100\n",
            "9/9 [==============================] - 1s 40ms/step - loss: 0.6931 - accuracy: 0.5170 - val_loss: 0.6451 - val_accuracy: 0.8209\n",
            "Epoch 2/100\n",
            "9/9 [==============================] - 0s 7ms/step - loss: 0.6362 - accuracy: 0.8161 - val_loss: 0.5852 - val_accuracy: 0.8481\n",
            "Epoch 3/100\n",
            "9/9 [==============================] - 0s 10ms/step - loss: 0.5750 - accuracy: 0.8495 - val_loss: 0.5396 - val_accuracy: 0.8481\n",
            "Epoch 4/100\n",
            "9/9 [==============================] - 0s 7ms/step - loss: 0.5473 - accuracy: 0.8290 - val_loss: 0.5022 - val_accuracy: 0.8481\n",
            "Epoch 5/100\n",
            "9/9 [==============================] - 0s 9ms/step - loss: 0.5030 - accuracy: 0.8406 - val_loss: 0.4761 - val_accuracy: 0.8481\n",
            "Epoch 6/100\n",
            "9/9 [==============================] - 0s 9ms/step - loss: 0.4848 - accuracy: 0.8381 - val_loss: 0.4581 - val_accuracy: 0.8481\n",
            "Epoch 7/100\n",
            "9/9 [==============================] - 0s 8ms/step - loss: 0.4583 - accuracy: 0.8450 - val_loss: 0.4476 - val_accuracy: 0.8481\n",
            "Epoch 8/100\n",
            "9/9 [==============================] - 0s 9ms/step - loss: 0.4588 - accuracy: 0.8373 - val_loss: 0.4379 - val_accuracy: 0.8481\n",
            "Epoch 9/100\n",
            "9/9 [==============================] - 0s 8ms/step - loss: 0.4448 - accuracy: 0.8430 - val_loss: 0.4312 - val_accuracy: 0.8481\n",
            "Epoch 10/100\n",
            "9/9 [==============================] - 0s 8ms/step - loss: 0.4390 - accuracy: 0.8393 - val_loss: 0.4268 - val_accuracy: 0.8481\n",
            "Epoch 11/100\n",
            "9/9 [==============================] - 0s 7ms/step - loss: 0.4453 - accuracy: 0.8336 - val_loss: 0.4229 - val_accuracy: 0.8481\n",
            "Epoch 12/100\n",
            "9/9 [==============================] - 0s 8ms/step - loss: 0.4414 - accuracy: 0.8358 - val_loss: 0.4195 - val_accuracy: 0.8481\n",
            "Epoch 13/100\n",
            "9/9 [==============================] - 0s 7ms/step - loss: 0.4304 - accuracy: 0.8390 - val_loss: 0.4167 - val_accuracy: 0.8481\n",
            "Epoch 14/100\n",
            "9/9 [==============================] - 0s 9ms/step - loss: 0.4199 - accuracy: 0.8465 - val_loss: 0.4136 - val_accuracy: 0.8481\n",
            "Epoch 15/100\n",
            "9/9 [==============================] - 0s 10ms/step - loss: 0.4488 - accuracy: 0.8251 - val_loss: 0.4110 - val_accuracy: 0.8481\n",
            "Epoch 16/100\n",
            "9/9 [==============================] - 0s 7ms/step - loss: 0.4159 - accuracy: 0.8453 - val_loss: 0.4094 - val_accuracy: 0.8481\n",
            "Epoch 17/100\n",
            "9/9 [==============================] - 0s 8ms/step - loss: 0.4347 - accuracy: 0.8307 - val_loss: 0.4068 - val_accuracy: 0.8481\n",
            "Epoch 18/100\n",
            "9/9 [==============================] - 0s 7ms/step - loss: 0.4140 - accuracy: 0.8426 - val_loss: 0.4043 - val_accuracy: 0.8481\n",
            "Epoch 19/100\n",
            "9/9 [==============================] - 0s 7ms/step - loss: 0.3978 - accuracy: 0.8517 - val_loss: 0.4020 - val_accuracy: 0.8481\n",
            "Epoch 20/100\n",
            "9/9 [==============================] - 0s 8ms/step - loss: 0.4265 - accuracy: 0.8319 - val_loss: 0.3999 - val_accuracy: 0.8481\n",
            "Epoch 21/100\n",
            "9/9 [==============================] - 0s 8ms/step - loss: 0.4193 - accuracy: 0.8360 - val_loss: 0.3980 - val_accuracy: 0.8481\n",
            "Epoch 22/100\n",
            "9/9 [==============================] - 0s 8ms/step - loss: 0.4162 - accuracy: 0.8366 - val_loss: 0.3952 - val_accuracy: 0.8481\n",
            "Epoch 23/100\n",
            "9/9 [==============================] - 0s 7ms/step - loss: 0.4210 - accuracy: 0.8299 - val_loss: 0.3934 - val_accuracy: 0.8481\n",
            "Epoch 24/100\n",
            "9/9 [==============================] - 0s 8ms/step - loss: 0.4115 - accuracy: 0.8375 - val_loss: 0.3915 - val_accuracy: 0.8481\n",
            "Epoch 25/100\n",
            "9/9 [==============================] - 0s 7ms/step - loss: 0.3929 - accuracy: 0.8501 - val_loss: 0.3898 - val_accuracy: 0.8481\n",
            "Epoch 26/100\n",
            "9/9 [==============================] - 0s 8ms/step - loss: 0.4257 - accuracy: 0.8226 - val_loss: 0.3878 - val_accuracy: 0.8481\n",
            "Epoch 27/100\n",
            "9/9 [==============================] - 0s 8ms/step - loss: 0.4060 - accuracy: 0.8388 - val_loss: 0.3859 - val_accuracy: 0.8481\n",
            "Epoch 28/100\n",
            "9/9 [==============================] - 0s 8ms/step - loss: 0.4100 - accuracy: 0.8340 - val_loss: 0.3845 - val_accuracy: 0.8481\n",
            "Epoch 29/100\n",
            "9/9 [==============================] - 0s 8ms/step - loss: 0.4071 - accuracy: 0.8337 - val_loss: 0.3836 - val_accuracy: 0.8481\n",
            "Epoch 30/100\n",
            "9/9 [==============================] - 0s 8ms/step - loss: 0.4088 - accuracy: 0.8320 - val_loss: 0.3818 - val_accuracy: 0.8481\n",
            "Epoch 31/100\n",
            "9/9 [==============================] - 0s 8ms/step - loss: 0.4114 - accuracy: 0.8275 - val_loss: 0.3799 - val_accuracy: 0.8481\n",
            "Epoch 32/100\n",
            "9/9 [==============================] - 0s 8ms/step - loss: 0.4152 - accuracy: 0.8232 - val_loss: 0.3781 - val_accuracy: 0.8481\n",
            "Epoch 33/100\n",
            "9/9 [==============================] - 0s 7ms/step - loss: 0.4082 - accuracy: 0.8287 - val_loss: 0.3767 - val_accuracy: 0.8481\n",
            "Epoch 34/100\n",
            "9/9 [==============================] - 0s 8ms/step - loss: 0.4184 - accuracy: 0.8198 - val_loss: 0.3749 - val_accuracy: 0.8481\n",
            "Epoch 35/100\n",
            "9/9 [==============================] - 0s 8ms/step - loss: 0.3910 - accuracy: 0.8405 - val_loss: 0.3736 - val_accuracy: 0.8481\n",
            "Epoch 36/100\n",
            "9/9 [==============================] - 0s 8ms/step - loss: 0.4008 - accuracy: 0.8296 - val_loss: 0.3721 - val_accuracy: 0.8481\n",
            "Epoch 37/100\n",
            "9/9 [==============================] - 0s 8ms/step - loss: 0.3886 - accuracy: 0.8370 - val_loss: 0.3697 - val_accuracy: 0.8481\n",
            "Epoch 38/100\n",
            "9/9 [==============================] - 0s 7ms/step - loss: 0.3992 - accuracy: 0.8305 - val_loss: 0.3680 - val_accuracy: 0.8481\n",
            "Epoch 39/100\n",
            "9/9 [==============================] - 0s 8ms/step - loss: 0.3789 - accuracy: 0.8409 - val_loss: 0.3662 - val_accuracy: 0.8481\n",
            "Epoch 40/100\n",
            "9/9 [==============================] - 0s 8ms/step - loss: 0.3788 - accuracy: 0.8373 - val_loss: 0.3656 - val_accuracy: 0.8481\n",
            "Epoch 41/100\n",
            "9/9 [==============================] - 0s 8ms/step - loss: 0.3921 - accuracy: 0.8368 - val_loss: 0.3642 - val_accuracy: 0.8481\n",
            "Epoch 42/100\n",
            "9/9 [==============================] - 0s 8ms/step - loss: 0.3867 - accuracy: 0.8369 - val_loss: 0.3620 - val_accuracy: 0.8481\n",
            "Epoch 43/100\n",
            "9/9 [==============================] - 0s 8ms/step - loss: 0.3733 - accuracy: 0.8494 - val_loss: 0.3606 - val_accuracy: 0.8481\n",
            "Epoch 44/100\n",
            "9/9 [==============================] - 0s 8ms/step - loss: 0.3826 - accuracy: 0.8356 - val_loss: 0.3588 - val_accuracy: 0.8481\n",
            "Epoch 45/100\n",
            "9/9 [==============================] - 0s 8ms/step - loss: 0.3743 - accuracy: 0.8384 - val_loss: 0.3573 - val_accuracy: 0.8503\n",
            "Epoch 46/100\n",
            "9/9 [==============================] - 0s 9ms/step - loss: 0.3572 - accuracy: 0.8489 - val_loss: 0.3560 - val_accuracy: 0.8503\n",
            "Epoch 47/100\n",
            "9/9 [==============================] - 0s 9ms/step - loss: 0.3656 - accuracy: 0.8525 - val_loss: 0.3543 - val_accuracy: 0.8503\n",
            "Epoch 48/100\n",
            "9/9 [==============================] - 0s 8ms/step - loss: 0.3800 - accuracy: 0.8354 - val_loss: 0.3525 - val_accuracy: 0.8503\n",
            "Epoch 49/100\n",
            "9/9 [==============================] - 0s 9ms/step - loss: 0.3807 - accuracy: 0.8363 - val_loss: 0.3513 - val_accuracy: 0.8503\n",
            "Epoch 50/100\n",
            "9/9 [==============================] - 0s 8ms/step - loss: 0.3556 - accuracy: 0.8523 - val_loss: 0.3501 - val_accuracy: 0.8549\n",
            "Epoch 51/100\n",
            "9/9 [==============================] - 0s 8ms/step - loss: 0.3756 - accuracy: 0.8357 - val_loss: 0.3483 - val_accuracy: 0.8549\n",
            "Epoch 52/100\n",
            "9/9 [==============================] - 0s 7ms/step - loss: 0.3679 - accuracy: 0.8436 - val_loss: 0.3469 - val_accuracy: 0.8549\n",
            "Epoch 53/100\n",
            "9/9 [==============================] - 0s 7ms/step - loss: 0.3625 - accuracy: 0.8404 - val_loss: 0.3451 - val_accuracy: 0.8549\n",
            "Epoch 54/100\n",
            "9/9 [==============================] - 0s 7ms/step - loss: 0.3704 - accuracy: 0.8389 - val_loss: 0.3440 - val_accuracy: 0.8549\n",
            "Epoch 55/100\n",
            "9/9 [==============================] - 0s 7ms/step - loss: 0.3612 - accuracy: 0.8419 - val_loss: 0.3432 - val_accuracy: 0.8571\n",
            "Epoch 56/100\n",
            "9/9 [==============================] - 0s 8ms/step - loss: 0.3585 - accuracy: 0.8514 - val_loss: 0.3418 - val_accuracy: 0.8571\n",
            "Epoch 57/100\n",
            "9/9 [==============================] - 0s 8ms/step - loss: 0.3562 - accuracy: 0.8568 - val_loss: 0.3407 - val_accuracy: 0.8571\n",
            "Epoch 58/100\n",
            "9/9 [==============================] - 0s 8ms/step - loss: 0.3651 - accuracy: 0.8402 - val_loss: 0.3394 - val_accuracy: 0.8571\n",
            "Epoch 59/100\n",
            "9/9 [==============================] - 0s 8ms/step - loss: 0.3747 - accuracy: 0.8387 - val_loss: 0.3377 - val_accuracy: 0.8571\n",
            "Epoch 60/100\n",
            "9/9 [==============================] - 0s 8ms/step - loss: 0.3498 - accuracy: 0.8512 - val_loss: 0.3366 - val_accuracy: 0.8617\n",
            "Epoch 61/100\n",
            "9/9 [==============================] - 0s 8ms/step - loss: 0.3751 - accuracy: 0.8415 - val_loss: 0.3355 - val_accuracy: 0.8639\n",
            "Epoch 62/100\n",
            "9/9 [==============================] - 0s 8ms/step - loss: 0.3625 - accuracy: 0.8449 - val_loss: 0.3347 - val_accuracy: 0.8639\n",
            "Epoch 63/100\n",
            "9/9 [==============================] - 0s 8ms/step - loss: 0.3634 - accuracy: 0.8474 - val_loss: 0.3338 - val_accuracy: 0.8639\n",
            "Epoch 64/100\n",
            "9/9 [==============================] - 0s 7ms/step - loss: 0.3484 - accuracy: 0.8588 - val_loss: 0.3324 - val_accuracy: 0.8617\n",
            "Epoch 65/100\n",
            "9/9 [==============================] - 0s 7ms/step - loss: 0.3499 - accuracy: 0.8522 - val_loss: 0.3318 - val_accuracy: 0.8639\n",
            "Epoch 66/100\n",
            "9/9 [==============================] - 0s 8ms/step - loss: 0.3619 - accuracy: 0.8451 - val_loss: 0.3313 - val_accuracy: 0.8662\n",
            "Epoch 67/100\n",
            "9/9 [==============================] - 0s 7ms/step - loss: 0.3510 - accuracy: 0.8595 - val_loss: 0.3305 - val_accuracy: 0.8662\n",
            "Epoch 68/100\n",
            "9/9 [==============================] - 0s 8ms/step - loss: 0.3463 - accuracy: 0.8624 - val_loss: 0.3290 - val_accuracy: 0.8753\n",
            "Epoch 69/100\n",
            "9/9 [==============================] - 0s 7ms/step - loss: 0.3500 - accuracy: 0.8594 - val_loss: 0.3277 - val_accuracy: 0.8707\n",
            "Epoch 70/100\n",
            "9/9 [==============================] - 0s 9ms/step - loss: 0.3354 - accuracy: 0.8676 - val_loss: 0.3275 - val_accuracy: 0.8730\n",
            "Epoch 71/100\n",
            "9/9 [==============================] - 0s 8ms/step - loss: 0.3524 - accuracy: 0.8585 - val_loss: 0.3269 - val_accuracy: 0.8798\n",
            "Epoch 72/100\n",
            "9/9 [==============================] - 0s 8ms/step - loss: 0.3401 - accuracy: 0.8623 - val_loss: 0.3252 - val_accuracy: 0.8776\n",
            "Epoch 73/100\n",
            "9/9 [==============================] - 0s 8ms/step - loss: 0.3495 - accuracy: 0.8526 - val_loss: 0.3242 - val_accuracy: 0.8776\n",
            "Epoch 74/100\n",
            "9/9 [==============================] - 0s 8ms/step - loss: 0.3492 - accuracy: 0.8569 - val_loss: 0.3237 - val_accuracy: 0.8821\n",
            "Epoch 75/100\n",
            "9/9 [==============================] - 0s 8ms/step - loss: 0.3491 - accuracy: 0.8604 - val_loss: 0.3237 - val_accuracy: 0.8844\n",
            "Epoch 76/100\n",
            "9/9 [==============================] - 0s 8ms/step - loss: 0.3526 - accuracy: 0.8524 - val_loss: 0.3224 - val_accuracy: 0.8821\n",
            "Epoch 77/100\n",
            "9/9 [==============================] - 0s 8ms/step - loss: 0.3416 - accuracy: 0.8645 - val_loss: 0.3218 - val_accuracy: 0.8798\n",
            "Epoch 78/100\n",
            "9/9 [==============================] - 0s 8ms/step - loss: 0.3491 - accuracy: 0.8554 - val_loss: 0.3211 - val_accuracy: 0.8776\n",
            "Epoch 79/100\n",
            "9/9 [==============================] - 0s 8ms/step - loss: 0.3351 - accuracy: 0.8662 - val_loss: 0.3206 - val_accuracy: 0.8730\n",
            "Epoch 80/100\n",
            "9/9 [==============================] - 0s 7ms/step - loss: 0.3529 - accuracy: 0.8613 - val_loss: 0.3196 - val_accuracy: 0.8776\n",
            "Epoch 81/100\n",
            "9/9 [==============================] - 0s 8ms/step - loss: 0.3299 - accuracy: 0.8669 - val_loss: 0.3190 - val_accuracy: 0.8821\n",
            "Epoch 82/100\n",
            "9/9 [==============================] - 0s 8ms/step - loss: 0.3421 - accuracy: 0.8601 - val_loss: 0.3187 - val_accuracy: 0.8798\n",
            "Epoch 83/100\n",
            "9/9 [==============================] - 0s 8ms/step - loss: 0.3515 - accuracy: 0.8524 - val_loss: 0.3176 - val_accuracy: 0.8866\n",
            "Epoch 84/100\n",
            "9/9 [==============================] - 0s 8ms/step - loss: 0.3605 - accuracy: 0.8565 - val_loss: 0.3170 - val_accuracy: 0.8889\n",
            "Epoch 85/100\n",
            "9/9 [==============================] - 0s 11ms/step - loss: 0.3423 - accuracy: 0.8618 - val_loss: 0.3162 - val_accuracy: 0.8889\n",
            "Epoch 86/100\n",
            "9/9 [==============================] - 0s 8ms/step - loss: 0.3169 - accuracy: 0.8764 - val_loss: 0.3154 - val_accuracy: 0.8889\n",
            "Epoch 87/100\n",
            "9/9 [==============================] - 0s 9ms/step - loss: 0.3222 - accuracy: 0.8775 - val_loss: 0.3147 - val_accuracy: 0.8889\n",
            "Epoch 88/100\n",
            "9/9 [==============================] - 0s 8ms/step - loss: 0.3182 - accuracy: 0.8717 - val_loss: 0.3141 - val_accuracy: 0.8912\n",
            "Epoch 89/100\n",
            "9/9 [==============================] - 0s 8ms/step - loss: 0.3310 - accuracy: 0.8675 - val_loss: 0.3134 - val_accuracy: 0.8912\n",
            "Epoch 90/100\n",
            "9/9 [==============================] - 0s 8ms/step - loss: 0.3224 - accuracy: 0.8668 - val_loss: 0.3127 - val_accuracy: 0.8912\n",
            "Epoch 91/100\n",
            "9/9 [==============================] - 0s 7ms/step - loss: 0.3286 - accuracy: 0.8653 - val_loss: 0.3121 - val_accuracy: 0.8934\n",
            "Epoch 92/100\n",
            "9/9 [==============================] - 0s 7ms/step - loss: 0.3261 - accuracy: 0.8696 - val_loss: 0.3112 - val_accuracy: 0.8934\n",
            "Epoch 93/100\n",
            "9/9 [==============================] - 0s 8ms/step - loss: 0.3394 - accuracy: 0.8714 - val_loss: 0.3105 - val_accuracy: 0.8934\n",
            "Epoch 94/100\n",
            "9/9 [==============================] - 0s 8ms/step - loss: 0.3312 - accuracy: 0.8714 - val_loss: 0.3103 - val_accuracy: 0.8934\n",
            "Epoch 95/100\n",
            "9/9 [==============================] - 0s 10ms/step - loss: 0.3477 - accuracy: 0.8552 - val_loss: 0.3098 - val_accuracy: 0.8934\n",
            "Epoch 96/100\n",
            "9/9 [==============================] - 0s 9ms/step - loss: 0.3186 - accuracy: 0.8795 - val_loss: 0.3093 - val_accuracy: 0.8957\n",
            "Epoch 97/100\n",
            "9/9 [==============================] - 0s 9ms/step - loss: 0.3337 - accuracy: 0.8581 - val_loss: 0.3082 - val_accuracy: 0.8934\n",
            "Epoch 98/100\n",
            "9/9 [==============================] - 0s 9ms/step - loss: 0.3068 - accuracy: 0.8782 - val_loss: 0.3083 - val_accuracy: 0.8889\n",
            "Epoch 99/100\n",
            "9/9 [==============================] - 0s 8ms/step - loss: 0.3517 - accuracy: 0.8656 - val_loss: 0.3075 - val_accuracy: 0.8934\n",
            "Epoch 100/100\n",
            "9/9 [==============================] - 0s 8ms/step - loss: 0.3142 - accuracy: 0.8832 - val_loss: 0.3075 - val_accuracy: 0.8889\n"
          ],
          "name": "stdout"
        }
      ]
    },
    {
      "cell_type": "code",
      "metadata": {
        "colab": {
          "base_uri": "https://localhost:8080/",
          "height": 441
        },
        "id": "pDNtTKdJq0B1",
        "outputId": "831ee235-a3cd-4060-e8f0-edd77ba6ad64"
      },
      "source": [
        "acc = history.history['accuracy']\n",
        "val_acc = history.history['val_accuracy']\n",
        "loss = history.history['loss']\n",
        "val_loss = history.history['val_loss']\n",
        "\n",
        "epochs = range(len(acc))\n",
        "\n",
        "# Plot the accuracy and loss\n",
        "fig, ax = plt.subplots(2, figsize=(8,6))\n",
        "\n",
        "# accuracy\n",
        "ax[0].grid()\n",
        "ax[0].plot(epochs, acc, 'g',linewidth=2, label='Training accuracy')\n",
        "ax[0].plot(epochs, val_acc, 'b',linewidth=2, label='Validation accuracy')\n",
        "ax[0].set_title('Training and validation accuracy')\n",
        "ax[0].legend()\n",
        "\n",
        "# Loss\n",
        "ax[1].grid()\n",
        "ax[1].plot(epochs, loss, 'r',linewidth=2, label='Training loss')\n",
        "ax[1].plot(epochs, val_loss, 'orange',linewidth=1, label='Validation loss')\n",
        "ax[1].set_title('Training and validation loss')\n",
        "ax[1].legend()\n",
        "_=fig.tight_layout()"
      ],
      "execution_count": null,
      "outputs": [
        {
          "output_type": "display_data",
          "data": {
            "image/png": "[encoded data removed]",
            "text/plain": [
              "<Figure size 576x432 with 2 Axes>"
            ]
          },
          "metadata": {
            "tags": [],
            "needs_background": "light"
          }
        }
      ]
    },
    {
      "cell_type": "code",
      "metadata": {
        "colab": {
          "base_uri": "https://localhost:8080/"
        },
        "id": "XKobpdlU3ie_",
        "outputId": "724297ec-40cb-4474-8ec6-2a108dcc3d37"
      },
      "source": [
        "!pip install ann_visualizer\n",
        "!pip install graphviz"
      ],
      "execution_count": null,
      "outputs": [
        {
          "output_type": "stream",
          "text": [
            "Collecting ann_visualizer\n",
            "  Downloading https://files.pythonhosted.org/packages/db/51/157be500337fba347e32711aaf9f11c1ba9e1162f486a1d708b4ae594ea4/ann_visualizer-2.5.tar.gz\n",
            "Building wheels for collected packages: ann-visualizer\n",
            "  Building wheel for ann-visualizer (setup.py) ... \u001b[?25l\u001b[?25hdone\n",
            "  Created wheel for ann-visualizer: filename=ann_visualizer-2.5-cp37-none-any.whl size=4168 sha256=c7a70df0c0d2665f1053b12021773ee495d2dcc290aa23cebef1c2bc61077eec\n",
            "  Stored in directory: /root/.cache/pip/wheels/b6/b4/4e/d92f50c9c4f004cf315a0e0fcd455486bd799c50fe80cf1f5d\n",
            "Successfully built ann-visualizer\n",
            "Installing collected packages: ann-visualizer\n",
            "Successfully installed ann-visualizer-2.5\n",
            "Requirement already satisfied: graphviz in /usr/local/lib/python3.7/dist-packages (0.10.1)\n"
          ],
          "name": "stdout"
        }
      ]
    },
    {
      "cell_type": "code",
      "metadata": {
        "id": "JeUBRF902_UD"
      },
      "source": [
        "from ann_visualizer.visualize import ann_viz;\n",
        "\n",
        "ann_viz(model, title=\"My first neural network\")"
      ],
      "execution_count": null,
      "outputs": []
    },
    {
      "cell_type": "markdown",
      "metadata": {
        "id": "bZjW166etjHD"
      },
      "source": [
        "# Probabilistic graphical models"
      ]
    },
    {
      "cell_type": "markdown",
      "metadata": {
        "id": "LIRuRxsdCdBB"
      },
      "source": [
        "Split the data into train and test\n"
      ]
    },
    {
      "cell_type": "code",
      "metadata": {
        "id": "u6bNS35QCVVL"
      },
      "source": [
        "data_pgm = data.sample(n=len(data), random_state=1618)"
      ],
      "execution_count": null,
      "outputs": []
    },
    {
      "cell_type": "code",
      "metadata": {
        "colab": {
          "base_uri": "https://localhost:8080/"
        },
        "id": "bELqYA6mr72Y",
        "outputId": "0cd9579f-1031-4451-eb92-c819f8c2909d"
      },
      "source": [
        "# We will binarise those features which have more than 40 unique values.\n",
        "nmax=40\n",
        "col_list_to_bin=[]\n",
        "for col in data_pgm.columns:\n",
        "  print(col,':',len(data_pgm[col].unique()))\n",
        "  if(len(data_pgm[col].unique())>nmax):\n",
        "    col_list_to_bin.append(col)"
      ],
      "execution_count": null,
      "outputs": [
        {
          "output_type": "stream",
          "text": [
            "Age : 43\n",
            "Attrition : 2\n",
            "BusinessTravel : 3\n",
            "DailyRate : 886\n",
            "Department : 3\n",
            "DistanceFromHome : 29\n",
            "Education : 5\n",
            "EducationField : 6\n",
            "EmployeeCount : 1\n",
            "EnvironmentSatisfaction : 4\n",
            "Gender : 2\n",
            "HourlyRate : 71\n",
            "JobInvolvement : 4\n",
            "JobLevel : 5\n",
            "JobRole : 9\n",
            "JobSatisfaction : 4\n",
            "MaritalStatus : 3\n",
            "MonthlyIncome : 1349\n",
            "MonthlyRate : 1427\n",
            "NumCompaniesWorked : 10\n",
            "Over18 : 1\n",
            "OverTime : 2\n",
            "PercentSalaryHike : 15\n",
            "PerformanceRating : 2\n",
            "RelationshipSatisfaction : 4\n",
            "StandardHours : 1\n",
            "StockOptionLevel : 4\n",
            "TotalWorkingYears : 40\n",
            "TrainingTimesLastYear : 7\n",
            "WorkLifeBalance : 4\n",
            "YearsAtCompany : 37\n",
            "YearsInCurrentRole : 19\n",
            "YearsSinceLastPromotion : 16\n",
            "YearsWithCurrManager : 18\n"
          ],
          "name": "stdout"
        }
      ]
    },
    {
      "cell_type": "code",
      "metadata": {
        "colab": {
          "base_uri": "https://localhost:8080/"
        },
        "id": "QJiwlp5UzgSq",
        "outputId": "6d420206-5e1c-4888-b3bc-23ac589cd00c"
      },
      "source": [
        "col_list_to_bin"
      ],
      "execution_count": null,
      "outputs": [
        {
          "output_type": "execute_result",
          "data": {
            "text/plain": [
              "['Age', 'DailyRate', 'HourlyRate', 'MonthlyIncome', 'MonthlyRate']"
            ]
          },
          "metadata": {
            "tags": []
          },
          "execution_count": 66
        }
      ]
    },
    {
      "cell_type": "code",
      "metadata": {
        "id": "Jtu9n3Mh0Tfc"
      },
      "source": [
        "from pgmpy.estimators import HillClimbSearch, MaximumLikelihoodEstimator, BicScore\n",
        "from sklearn.preprocessing import KBinsDiscretizer\n",
        "from pgmpy.models import BayesianModel\n",
        "from pgmpy.inference import VariableElimination\n",
        "import networkx as nx\n",
        "import pylab as pl\n",
        "import time\n"
      ],
      "execution_count": null,
      "outputs": []
    },
    {
      "cell_type": "code",
      "metadata": {
        "id": "-TgnOzomFF7J"
      },
      "source": [
        "nBins=5\n",
        "est=KBinsDiscretizer(n_bins=nBins, encode='ordinal',strategy='uniform')\n",
        "est.fit(data_pgm[col_list_to_bin])\n",
        "data_pgm[['Age', 'DailyRate', 'HourlyRate', 'MonthlyIncome', 'MonthlyRate']]=est.transform(data_pgm[col_list_to_bin])"
      ],
      "execution_count": null,
      "outputs": []
    },
    {
      "cell_type": "code",
      "metadata": {
        "colab": {
          "base_uri": "https://localhost:8080/",
          "height": 309
        },
        "id": "cu9jtlopHezS",
        "outputId": "184609c5-42e8-4f9f-8fa9-4a46b4bc9ffc"
      },
      "source": [
        "#data_pgm=data_pgm.drop(col_list_to_bin,axis=1)\n",
        "data_pgm.head()"
      ],
      "execution_count": null,
      "outputs": [
        {
          "output_type": "execute_result",
          "data": {
            "text/html": [
              "<div>\n",
              "<style scoped>\n",
              "    .dataframe tbody tr th:only-of-type {\n",
              "        vertical-align: middle;\n",
              "    }\n",
              "\n",
              "    .dataframe tbody tr th {\n",
              "        vertical-align: top;\n",
              "    }\n",
              "\n",
              "    .dataframe thead th {\n",
              "        text-align: right;\n",
              "    }\n",
              "</style>\n",
              "<table border=\"1\" class=\"dataframe\">\n",
              "  <thead>\n",
              "    <tr style=\"text-align: right;\">\n",
              "      <th></th>\n",
              "      <th>Age</th>\n",
              "      <th>Attrition</th>\n",
              "      <th>BusinessTravel</th>\n",
              "      <th>DailyRate</th>\n",
              "      <th>Department</th>\n",
              "      <th>DistanceFromHome</th>\n",
              "      <th>Education</th>\n",
              "      <th>EducationField</th>\n",
              "      <th>EmployeeCount</th>\n",
              "      <th>EnvironmentSatisfaction</th>\n",
              "      <th>Gender</th>\n",
              "      <th>HourlyRate</th>\n",
              "      <th>JobInvolvement</th>\n",
              "      <th>JobLevel</th>\n",
              "      <th>JobRole</th>\n",
              "      <th>JobSatisfaction</th>\n",
              "      <th>MaritalStatus</th>\n",
              "      <th>MonthlyIncome</th>\n",
              "      <th>MonthlyRate</th>\n",
              "      <th>NumCompaniesWorked</th>\n",
              "      <th>Over18</th>\n",
              "      <th>OverTime</th>\n",
              "      <th>PercentSalaryHike</th>\n",
              "      <th>PerformanceRating</th>\n",
              "      <th>RelationshipSatisfaction</th>\n",
              "      <th>StandardHours</th>\n",
              "      <th>StockOptionLevel</th>\n",
              "      <th>TotalWorkingYears</th>\n",
              "      <th>TrainingTimesLastYear</th>\n",
              "      <th>WorkLifeBalance</th>\n",
              "      <th>YearsAtCompany</th>\n",
              "      <th>YearsInCurrentRole</th>\n",
              "      <th>YearsSinceLastPromotion</th>\n",
              "      <th>YearsWithCurrManager</th>\n",
              "    </tr>\n",
              "  </thead>\n",
              "  <tbody>\n",
              "    <tr>\n",
              "      <th>1344</th>\n",
              "      <td>2.0</td>\n",
              "      <td>No</td>\n",
              "      <td>Travel_Rarely</td>\n",
              "      <td>2.0</td>\n",
              "      <td>Research &amp; Development</td>\n",
              "      <td>7</td>\n",
              "      <td>4</td>\n",
              "      <td>Medical</td>\n",
              "      <td>1</td>\n",
              "      <td>4</td>\n",
              "      <td>Male</td>\n",
              "      <td>3.0</td>\n",
              "      <td>3</td>\n",
              "      <td>2</td>\n",
              "      <td>Research Scientist</td>\n",
              "      <td>1</td>\n",
              "      <td>Married</td>\n",
              "      <td>0.0</td>\n",
              "      <td>2.0</td>\n",
              "      <td>5</td>\n",
              "      <td>Y</td>\n",
              "      <td>Yes</td>\n",
              "      <td>22</td>\n",
              "      <td>4</td>\n",
              "      <td>3</td>\n",
              "      <td>80</td>\n",
              "      <td>1</td>\n",
              "      <td>16</td>\n",
              "      <td>2</td>\n",
              "      <td>3</td>\n",
              "      <td>5</td>\n",
              "      <td>3</td>\n",
              "      <td>0</td>\n",
              "      <td>4</td>\n",
              "    </tr>\n",
              "    <tr>\n",
              "      <th>232</th>\n",
              "      <td>4.0</td>\n",
              "      <td>No</td>\n",
              "      <td>Travel_Rarely</td>\n",
              "      <td>2.0</td>\n",
              "      <td>Human Resources</td>\n",
              "      <td>6</td>\n",
              "      <td>2</td>\n",
              "      <td>Medical</td>\n",
              "      <td>1</td>\n",
              "      <td>2</td>\n",
              "      <td>Male</td>\n",
              "      <td>1.0</td>\n",
              "      <td>3</td>\n",
              "      <td>1</td>\n",
              "      <td>Human Resources</td>\n",
              "      <td>3</td>\n",
              "      <td>Married</td>\n",
              "      <td>0.0</td>\n",
              "      <td>4.0</td>\n",
              "      <td>8</td>\n",
              "      <td>Y</td>\n",
              "      <td>No</td>\n",
              "      <td>17</td>\n",
              "      <td>3</td>\n",
              "      <td>4</td>\n",
              "      <td>80</td>\n",
              "      <td>0</td>\n",
              "      <td>7</td>\n",
              "      <td>2</td>\n",
              "      <td>2</td>\n",
              "      <td>2</td>\n",
              "      <td>2</td>\n",
              "      <td>2</td>\n",
              "      <td>2</td>\n",
              "    </tr>\n",
              "    <tr>\n",
              "      <th>1060</th>\n",
              "      <td>0.0</td>\n",
              "      <td>Yes</td>\n",
              "      <td>Travel_Frequently</td>\n",
              "      <td>0.0</td>\n",
              "      <td>Research &amp; Development</td>\n",
              "      <td>9</td>\n",
              "      <td>3</td>\n",
              "      <td>Medical</td>\n",
              "      <td>1</td>\n",
              "      <td>2</td>\n",
              "      <td>Male</td>\n",
              "      <td>4.0</td>\n",
              "      <td>3</td>\n",
              "      <td>1</td>\n",
              "      <td>Laboratory Technician</td>\n",
              "      <td>1</td>\n",
              "      <td>Single</td>\n",
              "      <td>0.0</td>\n",
              "      <td>2.0</td>\n",
              "      <td>2</td>\n",
              "      <td>Y</td>\n",
              "      <td>Yes</td>\n",
              "      <td>11</td>\n",
              "      <td>3</td>\n",
              "      <td>3</td>\n",
              "      <td>80</td>\n",
              "      <td>0</td>\n",
              "      <td>4</td>\n",
              "      <td>2</td>\n",
              "      <td>2</td>\n",
              "      <td>0</td>\n",
              "      <td>0</td>\n",
              "      <td>0</td>\n",
              "      <td>0</td>\n",
              "    </tr>\n",
              "    <tr>\n",
              "      <th>248</th>\n",
              "      <td>2.0</td>\n",
              "      <td>No</td>\n",
              "      <td>Travel_Rarely</td>\n",
              "      <td>3.0</td>\n",
              "      <td>Research &amp; Development</td>\n",
              "      <td>1</td>\n",
              "      <td>2</td>\n",
              "      <td>Medical</td>\n",
              "      <td>1</td>\n",
              "      <td>3</td>\n",
              "      <td>Female</td>\n",
              "      <td>3.0</td>\n",
              "      <td>2</td>\n",
              "      <td>1</td>\n",
              "      <td>Research Scientist</td>\n",
              "      <td>1</td>\n",
              "      <td>Married</td>\n",
              "      <td>0.0</td>\n",
              "      <td>3.0</td>\n",
              "      <td>2</td>\n",
              "      <td>Y</td>\n",
              "      <td>No</td>\n",
              "      <td>14</td>\n",
              "      <td>3</td>\n",
              "      <td>1</td>\n",
              "      <td>80</td>\n",
              "      <td>1</td>\n",
              "      <td>17</td>\n",
              "      <td>2</td>\n",
              "      <td>2</td>\n",
              "      <td>3</td>\n",
              "      <td>1</td>\n",
              "      <td>0</td>\n",
              "      <td>2</td>\n",
              "    </tr>\n",
              "    <tr>\n",
              "      <th>1310</th>\n",
              "      <td>4.0</td>\n",
              "      <td>No</td>\n",
              "      <td>Travel_Frequently</td>\n",
              "      <td>3.0</td>\n",
              "      <td>Research &amp; Development</td>\n",
              "      <td>15</td>\n",
              "      <td>4</td>\n",
              "      <td>Life Sciences</td>\n",
              "      <td>1</td>\n",
              "      <td>1</td>\n",
              "      <td>Male</td>\n",
              "      <td>4.0</td>\n",
              "      <td>3</td>\n",
              "      <td>4</td>\n",
              "      <td>Research Director</td>\n",
              "      <td>3</td>\n",
              "      <td>Married</td>\n",
              "      <td>3.0</td>\n",
              "      <td>3.0</td>\n",
              "      <td>2</td>\n",
              "      <td>Y</td>\n",
              "      <td>Yes</td>\n",
              "      <td>14</td>\n",
              "      <td>3</td>\n",
              "      <td>2</td>\n",
              "      <td>80</td>\n",
              "      <td>0</td>\n",
              "      <td>23</td>\n",
              "      <td>3</td>\n",
              "      <td>3</td>\n",
              "      <td>2</td>\n",
              "      <td>2</td>\n",
              "      <td>2</td>\n",
              "      <td>2</td>\n",
              "    </tr>\n",
              "  </tbody>\n",
              "</table>\n",
              "</div>"
            ],
            "text/plain": [
              "      Age Attrition  ... YearsSinceLastPromotion  YearsWithCurrManager\n",
              "1344  2.0        No  ...                       0                     4\n",
              "232   4.0        No  ...                       2                     2\n",
              "1060  0.0       Yes  ...                       0                     0\n",
              "248   2.0        No  ...                       0                     2\n",
              "1310  4.0        No  ...                       2                     2\n",
              "\n",
              "[5 rows x 34 columns]"
            ]
          },
          "metadata": {
            "tags": []
          },
          "execution_count": 69
        }
      ]
    },
    {
      "cell_type": "code",
      "metadata": {
        "id": "pwS4B-SwIU4v"
      },
      "source": [
        "#first shuffl\n",
        "#data_pgm = data.sample(n=len(data), random_state=1618)\n",
        "#then split\n",
        "train = data_pgm[:1000]\n",
        "test = data_pgm[1000:]"
      ],
      "execution_count": null,
      "outputs": []
    },
    {
      "cell_type": "code",
      "metadata": {
        "colab": {
          "base_uri": "https://localhost:8080/",
          "height": 768
        },
        "id": "AyviZlmCzymu",
        "outputId": "f343904d-f880-485d-d762-a7f1c5f1bf3d"
      },
      "source": [
        "hc=HillClimbSearch(train, scoring_method=BicScore(train))\n",
        "best_model=hc.estimate()\n",
        "edges=list(best_model.edges())\n",
        "model=BayesianModel(edges)\n",
        "\n",
        "plt.figure(figsize=(15,10))\n",
        "\n",
        "nx.draw(model, pos= nx.spring_layout(model), with_labels=True, node_size=1000, node_color='red', width=1, font_size=10)\n",
        "plt.show()"
      ],
      "execution_count": null,
      "outputs": [
        {
          "output_type": "stream",
          "text": [
            "  0%|          | 24/1000000 [00:15<86:44:04,  3.20it/s]"
          ],
          "name": "stderr"
        },
        {
          "output_type": "display_data",
          "data": {
            "image/png": "[encoded data removed]",
            "text/plain": [
              "<Figure size 1080x720 with 1 Axes>"
            ]
          },
          "metadata": {
            "tags": []
          }
        }
      ]
    },
    {
      "cell_type": "code",
      "metadata": {
        "id": "hU5ZdK9P4nMh"
      },
      "source": [
        " "
      ],
      "execution_count": null,
      "outputs": []
    }
  ]
}